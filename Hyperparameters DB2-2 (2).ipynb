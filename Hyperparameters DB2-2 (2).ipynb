{
 "cells": [
  {
   "cell_type": "markdown",
   "metadata": {},
   "source": [
    "# HYPERPARAMETERS DATABASE (2)"
   ]
  },
  {
   "cell_type": "markdown",
   "metadata": {},
   "source": [
    "Dataset : New York City Taxi Trip Duration\n",
    "\n",
    "Type : Regression"
   ]
  },
  {
   "cell_type": "markdown",
   "metadata": {},
   "source": [
    "# Abstract"
   ]
  },
  {
   "cell_type": "markdown",
   "metadata": {},
   "source": [
    "- The aim of this project is to create a database for the best hyperparameters by performing hyperparameter tuning using H2O AutoML on various datasets\n",
    "\n",
    "- This will eventually be used towards creating a website that will suggest the best hyperparameters when inputted with that particular dataset thus making the work easier to create the best models\n",
    "\n",
    "- The objective is to make the modeling task easier for people by suggesting hyperparameters that can give good results\n",
    "\n",
    "- We have trained the regression dataset on H2OAutoML for 3 different runtimes i.e. 800, 1500, and 2000 secs and observed the leaderboards for the same\n",
    "\n",
    "- We scraped the models from the leaderboards along with the parameters they generated and then extracted the best hyperparameters for these models and stored them in a json and csv file\n",
    "\n",
    "- Then further calculated the variable importance and range of the hyperparameters and also, the best hyperparameters from the scraped out hyperparameters\n",
    "\n",
    "- Also, simultaneously have maintained a meta_data file"
   ]
  },
  {
   "cell_type": "markdown",
   "metadata": {},
   "source": [
    "##  DESCRIPTION\n",
    "\n",
    "Your primary dataset is one released by the NYC Taxi and Limousine Commission, which includes pickup time, geo-coordinates, number of passengers, and several other variables.\n",
    "To improve the efficiency of taxi systems it is important to be able to predict how long a driver will have his taxi occupied.\n",
    "\n",
    "With 11 self explanatory data fields, and a large amount of containing approx 1458644 trip records in train and 625134 trip records in test, allows us to analyse which models will work best on this dataset."
   ]
  },
  {
   "cell_type": "markdown",
   "metadata": {},
   "source": [
    "## DATA"
   ]
  },
  {
   "cell_type": "markdown",
   "metadata": {},
   "source": [
    "- id - a unique identifier for each trip\n",
    "- vendor_id - a code indicating the provider associated with the trip record\n",
    "- pickup_datetime - date and time when the meter was engaged\n",
    "- dropoff_datetime - date and time when the meter was disengaged\n",
    "- passenger_count - the number of passengers in the vehicle (driver entered value)\n",
    "- pickup_longitude - the longitude where the meter was engaged\n",
    "- pickup_latitude - the latitude where the meter was engaged\n",
    "- dropoff_longitude - the longitude where the meter was disengaged\n",
    "- dropoff_latitude - the latitude where the meter was disengaged\n",
    "- store_and_fwd_flag - This flag indicates whether the trip record was held in vehicle memory before sending to the vendor  -- because the vehicle did not have a connection to the server - Y=store and forward; N=not a store and forward trip\n",
    "- trip_duration - duration of the trip in seconds"
   ]
  },
  {
   "cell_type": "code",
   "execution_count": 1,
   "metadata": {},
   "outputs": [
    {
     "name": "stdout",
     "output_type": "stream",
     "text": [
      "Checking whether there is an H2O instance running at http://localhost:54321 ..... not found.\n",
      "Attempting to start a local H2O server...\n",
      "; Java HotSpot(TM) 64-Bit Server VM (build 25.211-b12, mixed mode)\n",
      "  Starting server from C:\\Users\\Aesha\\PycharmProjects\\INFO6105\\NewEnv\\lib\\site-packages\\h2o\\backend\\bin\\h2o.jar\n",
      "  Ice root: C:\\Users\\Aesha\\AppData\\Local\\Temp\\tmpn5yr85g0\n",
      "  JVM stdout: C:\\Users\\Aesha\\AppData\\Local\\Temp\\tmpn5yr85g0\\h2o_Aesha_started_from_python.out\n",
      "  JVM stderr: C:\\Users\\Aesha\\AppData\\Local\\Temp\\tmpn5yr85g0\\h2o_Aesha_started_from_python.err\n",
      "  Server is running at http://127.0.0.1:54321\n",
      "Connecting to H2O server at http://127.0.0.1:54321 ... successful.\n"
     ]
    },
    {
     "data": {
      "text/html": [
       "<div style=\"overflow:auto\"><table style=\"width:50%\"><tr><td>H2O cluster uptime:</td>\n",
       "<td>01 secs</td></tr>\n",
       "<tr><td>H2O cluster timezone:</td>\n",
       "<td>America/New_York</td></tr>\n",
       "<tr><td>H2O data parsing timezone:</td>\n",
       "<td>UTC</td></tr>\n",
       "<tr><td>H2O cluster version:</td>\n",
       "<td>3.24.0.1</td></tr>\n",
       "<tr><td>H2O cluster version age:</td>\n",
       "<td>25 days </td></tr>\n",
       "<tr><td>H2O cluster name:</td>\n",
       "<td>H2O_from_python_Aesha_dthlqi</td></tr>\n",
       "<tr><td>H2O cluster total nodes:</td>\n",
       "<td>1</td></tr>\n",
       "<tr><td>H2O cluster free memory:</td>\n",
       "<td>2.646 Gb</td></tr>\n",
       "<tr><td>H2O cluster total cores:</td>\n",
       "<td>8</td></tr>\n",
       "<tr><td>H2O cluster allowed cores:</td>\n",
       "<td>8</td></tr>\n",
       "<tr><td>H2O cluster status:</td>\n",
       "<td>accepting new members, healthy</td></tr>\n",
       "<tr><td>H2O connection url:</td>\n",
       "<td>http://127.0.0.1:54321</td></tr>\n",
       "<tr><td>H2O connection proxy:</td>\n",
       "<td>None</td></tr>\n",
       "<tr><td>H2O internal security:</td>\n",
       "<td>False</td></tr>\n",
       "<tr><td>H2O API Extensions:</td>\n",
       "<td>Amazon S3, Algos, AutoML, Core V3, Core V4</td></tr>\n",
       "<tr><td>Python version:</td>\n",
       "<td>3.7.0 final</td></tr></table></div>"
      ],
      "text/plain": [
       "--------------------------  ------------------------------------------\n",
       "H2O cluster uptime:         01 secs\n",
       "H2O cluster timezone:       America/New_York\n",
       "H2O data parsing timezone:  UTC\n",
       "H2O cluster version:        3.24.0.1\n",
       "H2O cluster version age:    25 days\n",
       "H2O cluster name:           H2O_from_python_Aesha_dthlqi\n",
       "H2O cluster total nodes:    1\n",
       "H2O cluster free memory:    2.646 Gb\n",
       "H2O cluster total cores:    8\n",
       "H2O cluster allowed cores:  8\n",
       "H2O cluster status:         accepting new members, healthy\n",
       "H2O connection url:         http://127.0.0.1:54321\n",
       "H2O connection proxy:\n",
       "H2O internal security:      False\n",
       "H2O API Extensions:         Amazon S3, Algos, AutoML, Core V3, Core V4\n",
       "Python version:             3.7.0 final\n",
       "--------------------------  ------------------------------------------"
      ]
     },
     "metadata": {},
     "output_type": "display_data"
    }
   ],
   "source": [
    "import pandas as pd\n",
    "import matplotlib.pyplot as plt\n",
    "import seaborn as sns\n",
    "import numpy as np\n",
    "from scipy.stats import norm\n",
    "from sklearn.preprocessing import StandardScaler\n",
    "from scipy import stats\n",
    "import warnings\n",
    "warnings.filterwarnings('ignore')\n",
    "%matplotlib inline\n",
    "\n",
    "import h2o\n",
    "from h2o.automl import H2OAutoML\n",
    "import random, os, sys\n",
    "from datetime import datetime\n",
    "import pandas as pd\n",
    "import logging\n",
    "import csv\n",
    "import optparse\n",
    "import time\n",
    "import json\n",
    "from distutils.util import strtobool\n",
    "import psutil\n",
    "\n",
    "h2o.init()"
   ]
  },
  {
   "cell_type": "code",
   "execution_count": 2,
   "metadata": {},
   "outputs": [],
   "source": [
    "df_train = pd.read_csv('train_nyc.csv')\n",
    "df_test = pd.read_csv('test_nyc.csv')"
   ]
  },
  {
   "cell_type": "code",
   "execution_count": 3,
   "metadata": {},
   "outputs": [
    {
     "data": {
      "text/html": [
       "<div>\n",
       "<style scoped>\n",
       "    .dataframe tbody tr th:only-of-type {\n",
       "        vertical-align: middle;\n",
       "    }\n",
       "\n",
       "    .dataframe tbody tr th {\n",
       "        vertical-align: top;\n",
       "    }\n",
       "\n",
       "    .dataframe thead th {\n",
       "        text-align: right;\n",
       "    }\n",
       "</style>\n",
       "<table border=\"1\" class=\"dataframe\">\n",
       "  <thead>\n",
       "    <tr style=\"text-align: right;\">\n",
       "      <th></th>\n",
       "      <th>id</th>\n",
       "      <th>vendor_id</th>\n",
       "      <th>pickup_datetime</th>\n",
       "      <th>dropoff_datetime</th>\n",
       "      <th>passenger_count</th>\n",
       "      <th>pickup_longitude</th>\n",
       "      <th>pickup_latitude</th>\n",
       "      <th>dropoff_longitude</th>\n",
       "      <th>dropoff_latitude</th>\n",
       "      <th>store_and_fwd_flag</th>\n",
       "      <th>trip_duration</th>\n",
       "    </tr>\n",
       "  </thead>\n",
       "  <tbody>\n",
       "    <tr>\n",
       "      <th>0</th>\n",
       "      <td>id2875421</td>\n",
       "      <td>2</td>\n",
       "      <td>2016-03-14 17:24:55</td>\n",
       "      <td>2016-03-14 17:32:30</td>\n",
       "      <td>1</td>\n",
       "      <td>-73.982155</td>\n",
       "      <td>40.767937</td>\n",
       "      <td>-73.964630</td>\n",
       "      <td>40.765602</td>\n",
       "      <td>N</td>\n",
       "      <td>455</td>\n",
       "    </tr>\n",
       "    <tr>\n",
       "      <th>1</th>\n",
       "      <td>id2377394</td>\n",
       "      <td>1</td>\n",
       "      <td>2016-06-12 00:43:35</td>\n",
       "      <td>2016-06-12 00:54:38</td>\n",
       "      <td>1</td>\n",
       "      <td>-73.980415</td>\n",
       "      <td>40.738564</td>\n",
       "      <td>-73.999481</td>\n",
       "      <td>40.731152</td>\n",
       "      <td>N</td>\n",
       "      <td>663</td>\n",
       "    </tr>\n",
       "    <tr>\n",
       "      <th>2</th>\n",
       "      <td>id3858529</td>\n",
       "      <td>2</td>\n",
       "      <td>2016-01-19 11:35:24</td>\n",
       "      <td>2016-01-19 12:10:48</td>\n",
       "      <td>1</td>\n",
       "      <td>-73.979027</td>\n",
       "      <td>40.763939</td>\n",
       "      <td>-74.005333</td>\n",
       "      <td>40.710087</td>\n",
       "      <td>N</td>\n",
       "      <td>2124</td>\n",
       "    </tr>\n",
       "    <tr>\n",
       "      <th>3</th>\n",
       "      <td>id3504673</td>\n",
       "      <td>2</td>\n",
       "      <td>2016-04-06 19:32:31</td>\n",
       "      <td>2016-04-06 19:39:40</td>\n",
       "      <td>1</td>\n",
       "      <td>-74.010040</td>\n",
       "      <td>40.719971</td>\n",
       "      <td>-74.012268</td>\n",
       "      <td>40.706718</td>\n",
       "      <td>N</td>\n",
       "      <td>429</td>\n",
       "    </tr>\n",
       "    <tr>\n",
       "      <th>4</th>\n",
       "      <td>id2181028</td>\n",
       "      <td>2</td>\n",
       "      <td>2016-03-26 13:30:55</td>\n",
       "      <td>2016-03-26 13:38:10</td>\n",
       "      <td>1</td>\n",
       "      <td>-73.973053</td>\n",
       "      <td>40.793209</td>\n",
       "      <td>-73.972923</td>\n",
       "      <td>40.782520</td>\n",
       "      <td>N</td>\n",
       "      <td>435</td>\n",
       "    </tr>\n",
       "  </tbody>\n",
       "</table>\n",
       "</div>"
      ],
      "text/plain": [
       "          id  vendor_id      pickup_datetime     dropoff_datetime  \\\n",
       "0  id2875421          2  2016-03-14 17:24:55  2016-03-14 17:32:30   \n",
       "1  id2377394          1  2016-06-12 00:43:35  2016-06-12 00:54:38   \n",
       "2  id3858529          2  2016-01-19 11:35:24  2016-01-19 12:10:48   \n",
       "3  id3504673          2  2016-04-06 19:32:31  2016-04-06 19:39:40   \n",
       "4  id2181028          2  2016-03-26 13:30:55  2016-03-26 13:38:10   \n",
       "\n",
       "   passenger_count  pickup_longitude  pickup_latitude  dropoff_longitude  \\\n",
       "0                1        -73.982155        40.767937         -73.964630   \n",
       "1                1        -73.980415        40.738564         -73.999481   \n",
       "2                1        -73.979027        40.763939         -74.005333   \n",
       "3                1        -74.010040        40.719971         -74.012268   \n",
       "4                1        -73.973053        40.793209         -73.972923   \n",
       "\n",
       "   dropoff_latitude store_and_fwd_flag  trip_duration  \n",
       "0         40.765602                  N            455  \n",
       "1         40.731152                  N            663  \n",
       "2         40.710087                  N           2124  \n",
       "3         40.706718                  N            429  \n",
       "4         40.782520                  N            435  "
      ]
     },
     "execution_count": 3,
     "metadata": {},
     "output_type": "execute_result"
    }
   ],
   "source": [
    "df_train.head(5)"
   ]
  },
  {
   "cell_type": "code",
   "execution_count": 4,
   "metadata": {
    "scrolled": true
   },
   "outputs": [
    {
     "data": {
      "text/html": [
       "<div>\n",
       "<style scoped>\n",
       "    .dataframe tbody tr th:only-of-type {\n",
       "        vertical-align: middle;\n",
       "    }\n",
       "\n",
       "    .dataframe tbody tr th {\n",
       "        vertical-align: top;\n",
       "    }\n",
       "\n",
       "    .dataframe thead th {\n",
       "        text-align: right;\n",
       "    }\n",
       "</style>\n",
       "<table border=\"1\" class=\"dataframe\">\n",
       "  <thead>\n",
       "    <tr style=\"text-align: right;\">\n",
       "      <th></th>\n",
       "      <th>id</th>\n",
       "      <th>vendor_id</th>\n",
       "      <th>pickup_datetime</th>\n",
       "      <th>passenger_count</th>\n",
       "      <th>pickup_longitude</th>\n",
       "      <th>pickup_latitude</th>\n",
       "      <th>dropoff_longitude</th>\n",
       "      <th>dropoff_latitude</th>\n",
       "      <th>store_and_fwd_flag</th>\n",
       "    </tr>\n",
       "  </thead>\n",
       "  <tbody>\n",
       "    <tr>\n",
       "      <th>0</th>\n",
       "      <td>id3004672</td>\n",
       "      <td>1</td>\n",
       "      <td>2016-06-30 23:59:58</td>\n",
       "      <td>1</td>\n",
       "      <td>-73.988129</td>\n",
       "      <td>40.732029</td>\n",
       "      <td>-73.990173</td>\n",
       "      <td>40.756680</td>\n",
       "      <td>N</td>\n",
       "    </tr>\n",
       "    <tr>\n",
       "      <th>1</th>\n",
       "      <td>id3505355</td>\n",
       "      <td>1</td>\n",
       "      <td>2016-06-30 23:59:53</td>\n",
       "      <td>1</td>\n",
       "      <td>-73.964203</td>\n",
       "      <td>40.679993</td>\n",
       "      <td>-73.959808</td>\n",
       "      <td>40.655403</td>\n",
       "      <td>N</td>\n",
       "    </tr>\n",
       "    <tr>\n",
       "      <th>2</th>\n",
       "      <td>id1217141</td>\n",
       "      <td>1</td>\n",
       "      <td>2016-06-30 23:59:47</td>\n",
       "      <td>1</td>\n",
       "      <td>-73.997437</td>\n",
       "      <td>40.737583</td>\n",
       "      <td>-73.986160</td>\n",
       "      <td>40.729523</td>\n",
       "      <td>N</td>\n",
       "    </tr>\n",
       "    <tr>\n",
       "      <th>3</th>\n",
       "      <td>id2150126</td>\n",
       "      <td>2</td>\n",
       "      <td>2016-06-30 23:59:41</td>\n",
       "      <td>1</td>\n",
       "      <td>-73.956070</td>\n",
       "      <td>40.771900</td>\n",
       "      <td>-73.986427</td>\n",
       "      <td>40.730469</td>\n",
       "      <td>N</td>\n",
       "    </tr>\n",
       "    <tr>\n",
       "      <th>4</th>\n",
       "      <td>id1598245</td>\n",
       "      <td>1</td>\n",
       "      <td>2016-06-30 23:59:33</td>\n",
       "      <td>1</td>\n",
       "      <td>-73.970215</td>\n",
       "      <td>40.761475</td>\n",
       "      <td>-73.961510</td>\n",
       "      <td>40.755890</td>\n",
       "      <td>N</td>\n",
       "    </tr>\n",
       "  </tbody>\n",
       "</table>\n",
       "</div>"
      ],
      "text/plain": [
       "          id  vendor_id      pickup_datetime  passenger_count  \\\n",
       "0  id3004672          1  2016-06-30 23:59:58                1   \n",
       "1  id3505355          1  2016-06-30 23:59:53                1   \n",
       "2  id1217141          1  2016-06-30 23:59:47                1   \n",
       "3  id2150126          2  2016-06-30 23:59:41                1   \n",
       "4  id1598245          1  2016-06-30 23:59:33                1   \n",
       "\n",
       "   pickup_longitude  pickup_latitude  dropoff_longitude  dropoff_latitude  \\\n",
       "0        -73.988129        40.732029         -73.990173         40.756680   \n",
       "1        -73.964203        40.679993         -73.959808         40.655403   \n",
       "2        -73.997437        40.737583         -73.986160         40.729523   \n",
       "3        -73.956070        40.771900         -73.986427         40.730469   \n",
       "4        -73.970215        40.761475         -73.961510         40.755890   \n",
       "\n",
       "  store_and_fwd_flag  \n",
       "0                  N  \n",
       "1                  N  \n",
       "2                  N  \n",
       "3                  N  \n",
       "4                  N  "
      ]
     },
     "execution_count": 4,
     "metadata": {},
     "output_type": "execute_result"
    }
   ],
   "source": [
    "df_test.head(5)"
   ]
  },
  {
   "cell_type": "code",
   "execution_count": 5,
   "metadata": {},
   "outputs": [
    {
     "name": "stdout",
     "output_type": "stream",
     "text": [
      "Total number of samples in test dataset:  1458644\n",
      "Number of columns in test dataset:  11\n"
     ]
    }
   ],
   "source": [
    "print(\"Total number of samples in test dataset: \", df_train.shape[0])\n",
    "print(\"Number of columns in test dataset: \", df_train.shape[1])"
   ]
  },
  {
   "cell_type": "code",
   "execution_count": 6,
   "metadata": {},
   "outputs": [
    {
     "name": "stdout",
     "output_type": "stream",
     "text": [
      "Total number of samples in test dataset:  625134\n",
      "Number of columns in test dataset:  9\n"
     ]
    }
   ],
   "source": [
    "print(\"Total number of samples in test dataset: \", df_test.shape[0])\n",
    "print(\"Number of columns in test dataset: \", df_test.shape[1])"
   ]
  },
  {
   "cell_type": "markdown",
   "metadata": {},
   "source": [
    "The training dataset contains 11 columns and the test dataset contains 9 columns. The two additional columns that are present in the training dataset, and not in the test dataset are dropoff_datetime and trip_duration. By looking at the sample_submission.csv file, we understand that we need to predict the trip_duration."
   ]
  },
  {
   "cell_type": "markdown",
   "metadata": {},
   "source": [
    "## Checking for NaNs"
   ]
  },
  {
   "cell_type": "code",
   "execution_count": 7,
   "metadata": {
    "scrolled": true
   },
   "outputs": [
    {
     "data": {
      "text/plain": [
       "trip_duration         0\n",
       "store_and_fwd_flag    0\n",
       "dropoff_latitude      0\n",
       "dropoff_longitude     0\n",
       "pickup_latitude       0\n",
       "pickup_longitude      0\n",
       "passenger_count       0\n",
       "dropoff_datetime      0\n",
       "pickup_datetime       0\n",
       "vendor_id             0\n",
       "id                    0\n",
       "dtype: int64"
      ]
     },
     "execution_count": 7,
     "metadata": {},
     "output_type": "execute_result"
    }
   ],
   "source": [
    "df_train.isnull().sum().sort_values(ascending=False)"
   ]
  },
  {
   "cell_type": "code",
   "execution_count": 8,
   "metadata": {},
   "outputs": [
    {
     "data": {
      "text/plain": [
       "store_and_fwd_flag    0\n",
       "dropoff_latitude      0\n",
       "dropoff_longitude     0\n",
       "pickup_latitude       0\n",
       "pickup_longitude      0\n",
       "passenger_count       0\n",
       "pickup_datetime       0\n",
       "vendor_id             0\n",
       "id                    0\n",
       "dtype: int64"
      ]
     },
     "execution_count": 8,
     "metadata": {},
     "output_type": "execute_result"
    }
   ],
   "source": [
    "df_test.isnull().sum().sort_values(ascending=False)"
   ]
  },
  {
   "cell_type": "markdown",
   "metadata": {},
   "source": [
    "Checking if all the ids present in the training and testing dataset are unique"
   ]
  },
  {
   "cell_type": "code",
   "execution_count": 9,
   "metadata": {
    "scrolled": true
   },
   "outputs": [
    {
     "name": "stdout",
     "output_type": "stream",
     "text": [
      "Number of ids in the train dataset:  1458644\n",
      "Number of unique ids in the train dataset:  1458644 \n",
      "\n",
      "Number of ids in the test dataset:  625134\n",
      "Number of unique ids in the test dataset:  625134 \n",
      "\n",
      "Number of common ids(if any) between the train and test datasets:  0\n"
     ]
    }
   ],
   "source": [
    "print(\"Number of ids in the train dataset: \", len(df_train[\"id\"]))\n",
    "print(\"Number of unique ids in the train dataset: \", len(pd.unique(df_train[\"id\"])), \"\\n\")\n",
    "\n",
    "print(\"Number of ids in the test dataset: \", len(df_test[\"id\"]))\n",
    "print(\"Number of unique ids in the test dataset: \", len(pd.unique(df_test[\"id\"])), \"\\n\")\n",
    "\n",
    "print(\"Number of common ids(if any) between the train and test datasets: \", \\\n",
    "len(set(df_train[\"id\"].values).intersection(set(df_test[\"id\"].values))))"
   ]
  },
  {
   "cell_type": "markdown",
   "metadata": {},
   "source": [
    "* vendor_id takes on only two values in both the train and test datasets i.e. 1 and 2 (Hypothesis - This could represent data from two different taxi companies)\n",
    "\n",
    "* This leads to a set of follow-up questions:\n",
    "\n",
    "* If the hypothesis is right and the values in the vendor_id column actually represent the data from two different taxi companies; are the number of observations in the dataset from each of the companies comparable or is there any imbalance?(Both in the train and test datasets)\n",
    "\n",
    "* Among the vendor_id's(1 and 2) - what is the distribution in the number of passengers (passenger_count) across the train and test datasets?"
   ]
  },
  {
   "cell_type": "code",
   "execution_count": 10,
   "metadata": {},
   "outputs": [
    {
     "name": "stdout",
     "output_type": "stream",
     "text": [
      "Number of vendor_ids in the train dataset:  1458644\n",
      "Number of unique vendor_ids in the train dataset:  2 \n",
      "\n",
      "Number of vendor_ids in the test dataset:  625134\n",
      "Number of unique vendor_ids in the test dataset:  2 \n",
      "\n"
     ]
    }
   ],
   "source": [
    "print(\"Number of vendor_ids in the train dataset: \", len(df_train[\"vendor_id\"]))\n",
    "print(\"Number of unique vendor_ids in the train dataset: \", len(pd.unique(df_train[\"vendor_id\"])), \"\\n\")\n",
    "\n",
    "print(\"Number of vendor_ids in the test dataset: \", len(df_test[\"vendor_id\"]))\n",
    "print(\"Number of unique vendor_ids in the test dataset: \", len(pd.unique(df_test[\"vendor_id\"])), \"\\n\")"
   ]
  },
  {
   "cell_type": "code",
   "execution_count": 11,
   "metadata": {
    "scrolled": true
   },
   "outputs": [
    {
     "data": {
      "text/plain": [
       "<matplotlib.axes._subplots.AxesSubplot at 0x18ed11edef0>"
      ]
     },
     "execution_count": 11,
     "metadata": {},
     "output_type": "execute_result"
    },
    {
     "data": {
      "image/png": "[encoded data removed]",
      "text/plain": [
       "<Figure size 432x288 with 1 Axes>"
      ]
     },
     "metadata": {
      "needs_background": "light"
     },
     "output_type": "display_data"
    }
   ],
   "source": [
    "##The number of observations in the dataset from each of the two companies i.e. 1 and 2, seems to be comparable across the train and test datasets\n",
    "sns.countplot(x=\"vendor_id\", data=df_train)"
   ]
  },
  {
   "cell_type": "code",
   "execution_count": 12,
   "metadata": {},
   "outputs": [
    {
     "data": {
      "text/plain": [
       "<matplotlib.axes._subplots.AxesSubplot at 0x18e81a27cf8>"
      ]
     },
     "execution_count": 12,
     "metadata": {},
     "output_type": "execute_result"
    },
    {
     "data": {
      "image/png": "[encoded data removed]",
      "text/plain": [
       "<Figure size 432x288 with 1 Axes>"
      ]
     },
     "metadata": {
      "needs_background": "light"
     },
     "output_type": "display_data"
    }
   ],
   "source": [
    "sns.countplot(x=\"vendor_id\", data=df_test)"
   ]
  },
  {
   "cell_type": "markdown",
   "metadata": {},
   "source": [
    "### String to Datetime conversion"
   ]
  },
  {
   "cell_type": "code",
   "execution_count": 13,
   "metadata": {},
   "outputs": [],
   "source": [
    "df_train[\"pickup_datetime\"] = pd.to_datetime(df_train[\"pickup_datetime\"])\n",
    "df_train[\"dropoff_datetime\"] = pd.to_datetime(df_train[\"dropoff_datetime\"])\n",
    "\n",
    "df_test[\"pickup_datetime\"] = pd.to_datetime(df_test[\"pickup_datetime\"])"
   ]
  },
  {
   "cell_type": "markdown",
   "metadata": {},
   "source": [
    "trip_duration is the difference in the dropoff_datetime and pickup_datetime"
   ]
  },
  {
   "cell_type": "code",
   "execution_count": 14,
   "metadata": {
    "scrolled": true
   },
   "outputs": [
    {
     "data": {
      "text/plain": [
       "count    1.458644e+06\n",
       "mean     9.594923e+02\n",
       "std      5.237432e+03\n",
       "min      1.000000e+00\n",
       "25%      3.970000e+02\n",
       "50%      6.620000e+02\n",
       "75%      1.075000e+03\n",
       "max      3.526282e+06\n",
       "Name: trip_duration, dtype: float64"
      ]
     },
     "execution_count": 14,
     "metadata": {},
     "output_type": "execute_result"
    }
   ],
   "source": [
    "df_train[\"trip_duration\"].describe()"
   ]
  },
  {
   "cell_type": "code",
   "execution_count": 15,
   "metadata": {},
   "outputs": [
    {
     "data": {
      "text/plain": [
       "count                   1458644\n",
       "mean     0 days 00:15:59.492272\n",
       "std      0 days 01:27:17.431724\n",
       "min             0 days 00:00:01\n",
       "25%             0 days 00:06:37\n",
       "50%             0 days 00:11:02\n",
       "75%             0 days 00:17:55\n",
       "max            40 days 19:31:22\n",
       "dtype: object"
      ]
     },
     "execution_count": 15,
     "metadata": {},
     "output_type": "execute_result"
    }
   ],
   "source": [
    "(df_train[\"dropoff_datetime\"] - df_train[\"pickup_datetime\"]).describe()"
   ]
  },
  {
   "cell_type": "markdown",
   "metadata": {},
   "source": [
    "There happens to be a trip that lasted for 40 days which is vague and can definitely be marked as outlier and should be dropped"
   ]
  },
  {
   "cell_type": "markdown",
   "metadata": {},
   "source": [
    "### Checking for outliers "
   ]
  },
  {
   "cell_type": "code",
   "execution_count": 16,
   "metadata": {
    "scrolled": true
   },
   "outputs": [
    {
     "data": {
      "image/png": "[encoded data removed]",
      "text/plain": [
       "<Figure size 1440x1440 with 1 Axes>"
      ]
     },
     "metadata": {
      "needs_background": "light"
     },
     "output_type": "display_data"
    }
   ],
   "source": [
    "plt.figure(figsize=(20,20))\n",
    "plt.scatter(range(len(df_train[\"trip_duration\"])), np.sort(df_train[\"trip_duration\"]))\n",
    "plt.xlabel('index')\n",
    "plt.ylabel('trip_duration in seconds')\n",
    "plt.show()"
   ]
  },
  {
   "cell_type": "markdown",
   "metadata": {},
   "source": [
    "We can see that their are 4 outliers with a duration of 20 days or more"
   ]
  },
  {
   "cell_type": "markdown",
   "metadata": {},
   "source": [
    "## Removing these outliers"
   ]
  },
  {
   "cell_type": "code",
   "execution_count": 17,
   "metadata": {},
   "outputs": [],
   "source": [
    "df_train = df_train[df_train[\"trip_duration\"] < 500000]"
   ]
  },
  {
   "cell_type": "code",
   "execution_count": 18,
   "metadata": {},
   "outputs": [
    {
     "data": {
      "text/plain": [
       "count                   1458640\n",
       "mean     0 days 00:15:52.815251\n",
       "std      0 days 00:52:51.322283\n",
       "min             0 days 00:00:01\n",
       "25%             0 days 00:06:37\n",
       "50%             0 days 00:11:02\n",
       "75%             0 days 00:17:55\n",
       "max             0 days 23:59:52\n",
       "dtype: object"
      ]
     },
     "execution_count": 18,
     "metadata": {},
     "output_type": "execute_result"
    }
   ],
   "source": [
    "(df_train[\"dropoff_datetime\"] - df_train[\"pickup_datetime\"]).describe()"
   ]
  },
  {
   "cell_type": "markdown",
   "metadata": {},
   "source": [
    "According to the Data Dictionary the store and fwd flag indicates whether the trip record was held in vehicle memory before sending to the vendor because the vehicle did not have a connection to the server - Y=store and forward; N=not a store and forward trip. This must therefore indicate that most of the trips(99.448% to be precise) were not stored in the vehicle memory before forwarding."
   ]
  },
  {
   "cell_type": "code",
   "execution_count": 19,
   "metadata": {},
   "outputs": [
    {
     "data": {
      "text/plain": [
       "99.44845883836999"
      ]
     },
     "execution_count": 19,
     "metadata": {},
     "output_type": "execute_result"
    }
   ],
   "source": [
    "len(df_train[df_train[\"store_and_fwd_flag\"] == \"N\"])*100.0/(df_train.count()[0])"
   ]
  },
  {
   "cell_type": "code",
   "execution_count": 20,
   "metadata": {},
   "outputs": [
    {
     "data": {
      "text/plain": [
       "{1}"
      ]
     },
     "execution_count": 20,
     "metadata": {},
     "output_type": "execute_result"
    }
   ],
   "source": [
    "set(df_train[df_train[\"store_and_fwd_flag\"] == \"Y\"][\"vendor_id\"])"
   ]
  },
  {
   "cell_type": "code",
   "execution_count": 21,
   "metadata": {},
   "outputs": [
    {
     "data": {
      "text/plain": [
       "(625134, 9)"
      ]
     },
     "execution_count": 21,
     "metadata": {},
     "output_type": "execute_result"
    }
   ],
   "source": [
    "df_test.shape"
   ]
  },
  {
   "cell_type": "markdown",
   "metadata": {},
   "source": [
    "Among the 0.551% of the trips in the train dataset, where the trip record was stored in the vehicle memory; we observe that all the 0.551% of the cases were only for vendor id = 1."
   ]
  },
  {
   "cell_type": "markdown",
   "metadata": {},
   "source": [
    "### Calculating the distances between pickup and dropoff latitude and longitude co-ordinates"
   ]
  },
  {
   "cell_type": "code",
   "execution_count": 22,
   "metadata": {},
   "outputs": [],
   "source": [
    "from haversine import haversine"
   ]
  },
  {
   "cell_type": "code",
   "execution_count": 23,
   "metadata": {},
   "outputs": [],
   "source": [
    "def calculate_haversine_distance(var_row):\n",
    "    return haversine((var_row[\"pickup_latitude\"], var_row[\"pickup_longitude\"]), \n",
    "                     (var_row[\"dropoff_latitude\"], var_row[\"dropoff_longitude\"]), unit = 'mi')"
   ]
  },
  {
   "cell_type": "markdown",
   "metadata": {},
   "source": [
    "* Calculating the Haversine Distance\n",
    "* The haversine formula determines the great-circle distance between two points on a sphere given their longitudes and latitudes."
   ]
  },
  {
   "cell_type": "code",
   "execution_count": 24,
   "metadata": {},
   "outputs": [],
   "source": [
    "df_train[\"haversine_distance\"] = df_train.apply(lambda row: calculate_haversine_distance(row), axis=1)"
   ]
  },
  {
   "cell_type": "code",
   "execution_count": 25,
   "metadata": {},
   "outputs": [
    {
     "data": {
      "text/html": [
       "<div>\n",
       "<style scoped>\n",
       "    .dataframe tbody tr th:only-of-type {\n",
       "        vertical-align: middle;\n",
       "    }\n",
       "\n",
       "    .dataframe tbody tr th {\n",
       "        vertical-align: top;\n",
       "    }\n",
       "\n",
       "    .dataframe thead th {\n",
       "        text-align: right;\n",
       "    }\n",
       "</style>\n",
       "<table border=\"1\" class=\"dataframe\">\n",
       "  <thead>\n",
       "    <tr style=\"text-align: right;\">\n",
       "      <th></th>\n",
       "      <th>id</th>\n",
       "      <th>vendor_id</th>\n",
       "      <th>pickup_datetime</th>\n",
       "      <th>dropoff_datetime</th>\n",
       "      <th>passenger_count</th>\n",
       "      <th>pickup_longitude</th>\n",
       "      <th>pickup_latitude</th>\n",
       "      <th>dropoff_longitude</th>\n",
       "      <th>dropoff_latitude</th>\n",
       "      <th>store_and_fwd_flag</th>\n",
       "      <th>trip_duration</th>\n",
       "      <th>haversine_distance</th>\n",
       "    </tr>\n",
       "  </thead>\n",
       "  <tbody>\n",
       "    <tr>\n",
       "      <th>0</th>\n",
       "      <td>id2875421</td>\n",
       "      <td>2</td>\n",
       "      <td>2016-03-14 17:24:55</td>\n",
       "      <td>2016-03-14 17:32:30</td>\n",
       "      <td>1</td>\n",
       "      <td>-73.982155</td>\n",
       "      <td>40.767937</td>\n",
       "      <td>-73.964630</td>\n",
       "      <td>40.765602</td>\n",
       "      <td>N</td>\n",
       "      <td>455</td>\n",
       "      <td>0.931139</td>\n",
       "    </tr>\n",
       "    <tr>\n",
       "      <th>1</th>\n",
       "      <td>id2377394</td>\n",
       "      <td>1</td>\n",
       "      <td>2016-06-12 00:43:35</td>\n",
       "      <td>2016-06-12 00:54:38</td>\n",
       "      <td>1</td>\n",
       "      <td>-73.980415</td>\n",
       "      <td>40.738564</td>\n",
       "      <td>-73.999481</td>\n",
       "      <td>40.731152</td>\n",
       "      <td>N</td>\n",
       "      <td>663</td>\n",
       "      <td>1.121892</td>\n",
       "    </tr>\n",
       "    <tr>\n",
       "      <th>2</th>\n",
       "      <td>id3858529</td>\n",
       "      <td>2</td>\n",
       "      <td>2016-01-19 11:35:24</td>\n",
       "      <td>2016-01-19 12:10:48</td>\n",
       "      <td>1</td>\n",
       "      <td>-73.979027</td>\n",
       "      <td>40.763939</td>\n",
       "      <td>-74.005333</td>\n",
       "      <td>40.710087</td>\n",
       "      <td>N</td>\n",
       "      <td>2124</td>\n",
       "      <td>3.967522</td>\n",
       "    </tr>\n",
       "    <tr>\n",
       "      <th>3</th>\n",
       "      <td>id3504673</td>\n",
       "      <td>2</td>\n",
       "      <td>2016-04-06 19:32:31</td>\n",
       "      <td>2016-04-06 19:39:40</td>\n",
       "      <td>1</td>\n",
       "      <td>-74.010040</td>\n",
       "      <td>40.719971</td>\n",
       "      <td>-74.012268</td>\n",
       "      <td>40.706718</td>\n",
       "      <td>N</td>\n",
       "      <td>429</td>\n",
       "      <td>0.923047</td>\n",
       "    </tr>\n",
       "    <tr>\n",
       "      <th>4</th>\n",
       "      <td>id2181028</td>\n",
       "      <td>2</td>\n",
       "      <td>2016-03-26 13:30:55</td>\n",
       "      <td>2016-03-26 13:38:10</td>\n",
       "      <td>1</td>\n",
       "      <td>-73.973053</td>\n",
       "      <td>40.793209</td>\n",
       "      <td>-73.972923</td>\n",
       "      <td>40.782520</td>\n",
       "      <td>N</td>\n",
       "      <td>435</td>\n",
       "      <td>0.738556</td>\n",
       "    </tr>\n",
       "  </tbody>\n",
       "</table>\n",
       "</div>"
      ],
      "text/plain": [
       "          id  vendor_id     pickup_datetime    dropoff_datetime  \\\n",
       "0  id2875421          2 2016-03-14 17:24:55 2016-03-14 17:32:30   \n",
       "1  id2377394          1 2016-06-12 00:43:35 2016-06-12 00:54:38   \n",
       "2  id3858529          2 2016-01-19 11:35:24 2016-01-19 12:10:48   \n",
       "3  id3504673          2 2016-04-06 19:32:31 2016-04-06 19:39:40   \n",
       "4  id2181028          2 2016-03-26 13:30:55 2016-03-26 13:38:10   \n",
       "\n",
       "   passenger_count  pickup_longitude  pickup_latitude  dropoff_longitude  \\\n",
       "0                1        -73.982155        40.767937         -73.964630   \n",
       "1                1        -73.980415        40.738564         -73.999481   \n",
       "2                1        -73.979027        40.763939         -74.005333   \n",
       "3                1        -74.010040        40.719971         -74.012268   \n",
       "4                1        -73.973053        40.793209         -73.972923   \n",
       "\n",
       "   dropoff_latitude store_and_fwd_flag  trip_duration  haversine_distance  \n",
       "0         40.765602                  N            455            0.931139  \n",
       "1         40.731152                  N            663            1.121892  \n",
       "2         40.710087                  N           2124            3.967522  \n",
       "3         40.706718                  N            429            0.923047  \n",
       "4         40.782520                  N            435            0.738556  "
      ]
     },
     "execution_count": 25,
     "metadata": {},
     "output_type": "execute_result"
    }
   ],
   "source": [
    "df_train.head()"
   ]
  },
  {
   "cell_type": "code",
   "execution_count": 26,
   "metadata": {},
   "outputs": [
    {
     "data": {
      "text/plain": [
       "count    1.458640e+06\n",
       "mean     2.138042e+00\n",
       "std      2.669725e+00\n",
       "min      0.000000e+00\n",
       "25%      7.654273e-01\n",
       "50%      1.300974e+00\n",
       "75%      2.408017e+00\n",
       "max      7.710660e+02\n",
       "Name: haversine_distance, dtype: float64"
      ]
     },
     "execution_count": 26,
     "metadata": {},
     "output_type": "execute_result"
    }
   ],
   "source": [
    "df_train[\"haversine_distance\"].describe()"
   ]
  },
  {
   "cell_type": "code",
   "execution_count": 27,
   "metadata": {},
   "outputs": [
    {
     "data": {
      "text/plain": [
       "<matplotlib.axes._subplots.AxesSubplot at 0x18e83b23828>"
      ]
     },
     "execution_count": 27,
     "metadata": {},
     "output_type": "execute_result"
    },
    {
     "data": {
      "image/png": "[encoded data removed]",
      "text/plain": [
       "<Figure size 720x720 with 1 Axes>"
      ]
     },
     "metadata": {
      "needs_background": "light"
     },
     "output_type": "display_data"
    }
   ],
   "source": [
    "plt.figure(figsize=(10,10))\n",
    "sns.regplot(x=\"haversine_distance\", y=\"trip_duration\", data=df_train)"
   ]
  },
  {
   "cell_type": "code",
   "execution_count": 28,
   "metadata": {},
   "outputs": [
    {
     "data": {
      "text/html": [
       "<div>\n",
       "<style scoped>\n",
       "    .dataframe tbody tr th:only-of-type {\n",
       "        vertical-align: middle;\n",
       "    }\n",
       "\n",
       "    .dataframe tbody tr th {\n",
       "        vertical-align: top;\n",
       "    }\n",
       "\n",
       "    .dataframe thead th {\n",
       "        text-align: right;\n",
       "    }\n",
       "</style>\n",
       "<table border=\"1\" class=\"dataframe\">\n",
       "  <thead>\n",
       "    <tr style=\"text-align: right;\">\n",
       "      <th></th>\n",
       "      <th>id</th>\n",
       "      <th>vendor_id</th>\n",
       "      <th>pickup_datetime</th>\n",
       "      <th>dropoff_datetime</th>\n",
       "      <th>passenger_count</th>\n",
       "      <th>pickup_longitude</th>\n",
       "      <th>pickup_latitude</th>\n",
       "      <th>dropoff_longitude</th>\n",
       "      <th>dropoff_latitude</th>\n",
       "      <th>store_and_fwd_flag</th>\n",
       "      <th>trip_duration</th>\n",
       "      <th>haversine_distance</th>\n",
       "    </tr>\n",
       "  </thead>\n",
       "  <tbody>\n",
       "    <tr>\n",
       "      <th>114376</th>\n",
       "      <td>id1311087</td>\n",
       "      <td>1</td>\n",
       "      <td>2016-02-29 12:16:29</td>\n",
       "      <td>2016-02-29 18:47:09</td>\n",
       "      <td>3</td>\n",
       "      <td>-75.455917</td>\n",
       "      <td>39.803932</td>\n",
       "      <td>-73.796021</td>\n",
       "      <td>40.707726</td>\n",
       "      <td>N</td>\n",
       "      <td>23440</td>\n",
       "      <td>107.515607</td>\n",
       "    </tr>\n",
       "    <tr>\n",
       "      <th>184925</th>\n",
       "      <td>id2306955</td>\n",
       "      <td>1</td>\n",
       "      <td>2016-05-07 18:58:53</td>\n",
       "      <td>2016-05-07 19:12:05</td>\n",
       "      <td>1</td>\n",
       "      <td>-72.809669</td>\n",
       "      <td>51.881084</td>\n",
       "      <td>-73.987228</td>\n",
       "      <td>40.750599</td>\n",
       "      <td>N</td>\n",
       "      <td>792</td>\n",
       "      <td>771.065969</td>\n",
       "    </tr>\n",
       "    <tr>\n",
       "      <th>275644</th>\n",
       "      <td>id0978162</td>\n",
       "      <td>1</td>\n",
       "      <td>2016-02-24 16:20:59</td>\n",
       "      <td>2016-02-24 16:35:34</td>\n",
       "      <td>4</td>\n",
       "      <td>-75.354332</td>\n",
       "      <td>34.712234</td>\n",
       "      <td>-73.834923</td>\n",
       "      <td>32.181141</td>\n",
       "      <td>N</td>\n",
       "      <td>875</td>\n",
       "      <td>195.585678</td>\n",
       "    </tr>\n",
       "    <tr>\n",
       "      <th>377068</th>\n",
       "      <td>id0116374</td>\n",
       "      <td>1</td>\n",
       "      <td>2016-04-02 20:33:19</td>\n",
       "      <td>2016-04-02 20:38:01</td>\n",
       "      <td>1</td>\n",
       "      <td>-74.007095</td>\n",
       "      <td>40.717113</td>\n",
       "      <td>-76.963242</td>\n",
       "      <td>38.946033</td>\n",
       "      <td>N</td>\n",
       "      <td>282</td>\n",
       "      <td>198.917209</td>\n",
       "    </tr>\n",
       "    <tr>\n",
       "      <th>397526</th>\n",
       "      <td>id0982904</td>\n",
       "      <td>1</td>\n",
       "      <td>2016-04-28 13:32:14</td>\n",
       "      <td>2016-04-28 14:14:09</td>\n",
       "      <td>2</td>\n",
       "      <td>-73.870682</td>\n",
       "      <td>40.773598</td>\n",
       "      <td>-79.817978</td>\n",
       "      <td>38.963852</td>\n",
       "      <td>N</td>\n",
       "      <td>2515</td>\n",
       "      <td>339.178108</td>\n",
       "    </tr>\n",
       "    <tr>\n",
       "      <th>644165</th>\n",
       "      <td>id0401529</td>\n",
       "      <td>2</td>\n",
       "      <td>2016-06-02 15:19:35</td>\n",
       "      <td>2016-06-02 15:32:59</td>\n",
       "      <td>1</td>\n",
       "      <td>-73.980751</td>\n",
       "      <td>40.757111</td>\n",
       "      <td>-74.240051</td>\n",
       "      <td>38.478298</td>\n",
       "      <td>N</td>\n",
       "      <td>804</td>\n",
       "      <td>158.054383</td>\n",
       "    </tr>\n",
       "    <tr>\n",
       "      <th>910072</th>\n",
       "      <td>id1146400</td>\n",
       "      <td>1</td>\n",
       "      <td>2016-02-15 18:57:32</td>\n",
       "      <td>2016-02-15 19:02:35</td>\n",
       "      <td>2</td>\n",
       "      <td>-73.989914</td>\n",
       "      <td>40.756634</td>\n",
       "      <td>-70.346077</td>\n",
       "      <td>36.398121</td>\n",
       "      <td>N</td>\n",
       "      <td>303</td>\n",
       "      <td>359.676748</td>\n",
       "    </tr>\n",
       "    <tr>\n",
       "      <th>923793</th>\n",
       "      <td>id1001696</td>\n",
       "      <td>1</td>\n",
       "      <td>2016-02-24 21:02:32</td>\n",
       "      <td>2016-02-24 21:25:57</td>\n",
       "      <td>1</td>\n",
       "      <td>-73.972366</td>\n",
       "      <td>40.758633</td>\n",
       "      <td>-79.553535</td>\n",
       "      <td>43.674000</td>\n",
       "      <td>N</td>\n",
       "      <td>1405</td>\n",
       "      <td>349.357232</td>\n",
       "    </tr>\n",
       "    <tr>\n",
       "      <th>974378</th>\n",
       "      <td>id1510552</td>\n",
       "      <td>2</td>\n",
       "      <td>2016-01-06 20:40:52</td>\n",
       "      <td>2016-01-06 20:51:03</td>\n",
       "      <td>5</td>\n",
       "      <td>-71.799896</td>\n",
       "      <td>35.081532</td>\n",
       "      <td>-79.352837</td>\n",
       "      <td>40.436329</td>\n",
       "      <td>N</td>\n",
       "      <td>611</td>\n",
       "      <td>553.775535</td>\n",
       "    </tr>\n",
       "    <tr>\n",
       "      <th>1013474</th>\n",
       "      <td>id3626673</td>\n",
       "      <td>1</td>\n",
       "      <td>2016-05-05 18:02:50</td>\n",
       "      <td>2016-05-05 18:18:23</td>\n",
       "      <td>1</td>\n",
       "      <td>-73.978912</td>\n",
       "      <td>40.756763</td>\n",
       "      <td>-79.338699</td>\n",
       "      <td>41.427902</td>\n",
       "      <td>N</td>\n",
       "      <td>933</td>\n",
       "      <td>282.874161</td>\n",
       "    </tr>\n",
       "    <tr>\n",
       "      <th>1060807</th>\n",
       "      <td>id0838705</td>\n",
       "      <td>1</td>\n",
       "      <td>2016-02-26 19:50:03</td>\n",
       "      <td>2016-02-26 20:08:54</td>\n",
       "      <td>1</td>\n",
       "      <td>-66.972160</td>\n",
       "      <td>44.371944</td>\n",
       "      <td>-69.048019</td>\n",
       "      <td>43.147583</td>\n",
       "      <td>N</td>\n",
       "      <td>1131</td>\n",
       "      <td>133.735777</td>\n",
       "    </tr>\n",
       "    <tr>\n",
       "      <th>1100676</th>\n",
       "      <td>id2644780</td>\n",
       "      <td>1</td>\n",
       "      <td>2016-05-03 16:24:07</td>\n",
       "      <td>2016-05-03 17:18:34</td>\n",
       "      <td>2</td>\n",
       "      <td>-73.991325</td>\n",
       "      <td>40.750023</td>\n",
       "      <td>-79.518616</td>\n",
       "      <td>43.921028</td>\n",
       "      <td>N</td>\n",
       "      <td>3267</td>\n",
       "      <td>357.211532</td>\n",
       "    </tr>\n",
       "    <tr>\n",
       "      <th>1301396</th>\n",
       "      <td>id1216866</td>\n",
       "      <td>1</td>\n",
       "      <td>2016-03-26 22:01:54</td>\n",
       "      <td>2016-03-27 00:47:16</td>\n",
       "      <td>1</td>\n",
       "      <td>-73.981491</td>\n",
       "      <td>40.773251</td>\n",
       "      <td>-76.135719</td>\n",
       "      <td>40.243626</td>\n",
       "      <td>N</td>\n",
       "      <td>9922</td>\n",
       "      <td>118.932345</td>\n",
       "    </tr>\n",
       "  </tbody>\n",
       "</table>\n",
       "</div>"
      ],
      "text/plain": [
       "                id  vendor_id     pickup_datetime    dropoff_datetime  \\\n",
       "114376   id1311087          1 2016-02-29 12:16:29 2016-02-29 18:47:09   \n",
       "184925   id2306955          1 2016-05-07 18:58:53 2016-05-07 19:12:05   \n",
       "275644   id0978162          1 2016-02-24 16:20:59 2016-02-24 16:35:34   \n",
       "377068   id0116374          1 2016-04-02 20:33:19 2016-04-02 20:38:01   \n",
       "397526   id0982904          1 2016-04-28 13:32:14 2016-04-28 14:14:09   \n",
       "644165   id0401529          2 2016-06-02 15:19:35 2016-06-02 15:32:59   \n",
       "910072   id1146400          1 2016-02-15 18:57:32 2016-02-15 19:02:35   \n",
       "923793   id1001696          1 2016-02-24 21:02:32 2016-02-24 21:25:57   \n",
       "974378   id1510552          2 2016-01-06 20:40:52 2016-01-06 20:51:03   \n",
       "1013474  id3626673          1 2016-05-05 18:02:50 2016-05-05 18:18:23   \n",
       "1060807  id0838705          1 2016-02-26 19:50:03 2016-02-26 20:08:54   \n",
       "1100676  id2644780          1 2016-05-03 16:24:07 2016-05-03 17:18:34   \n",
       "1301396  id1216866          1 2016-03-26 22:01:54 2016-03-27 00:47:16   \n",
       "\n",
       "         passenger_count  pickup_longitude  pickup_latitude  \\\n",
       "114376                 3        -75.455917        39.803932   \n",
       "184925                 1        -72.809669        51.881084   \n",
       "275644                 4        -75.354332        34.712234   \n",
       "377068                 1        -74.007095        40.717113   \n",
       "397526                 2        -73.870682        40.773598   \n",
       "644165                 1        -73.980751        40.757111   \n",
       "910072                 2        -73.989914        40.756634   \n",
       "923793                 1        -73.972366        40.758633   \n",
       "974378                 5        -71.799896        35.081532   \n",
       "1013474                1        -73.978912        40.756763   \n",
       "1060807                1        -66.972160        44.371944   \n",
       "1100676                2        -73.991325        40.750023   \n",
       "1301396                1        -73.981491        40.773251   \n",
       "\n",
       "         dropoff_longitude  dropoff_latitude store_and_fwd_flag  \\\n",
       "114376          -73.796021         40.707726                  N   \n",
       "184925          -73.987228         40.750599                  N   \n",
       "275644          -73.834923         32.181141                  N   \n",
       "377068          -76.963242         38.946033                  N   \n",
       "397526          -79.817978         38.963852                  N   \n",
       "644165          -74.240051         38.478298                  N   \n",
       "910072          -70.346077         36.398121                  N   \n",
       "923793          -79.553535         43.674000                  N   \n",
       "974378          -79.352837         40.436329                  N   \n",
       "1013474         -79.338699         41.427902                  N   \n",
       "1060807         -69.048019         43.147583                  N   \n",
       "1100676         -79.518616         43.921028                  N   \n",
       "1301396         -76.135719         40.243626                  N   \n",
       "\n",
       "         trip_duration  haversine_distance  \n",
       "114376           23440          107.515607  \n",
       "184925             792          771.065969  \n",
       "275644             875          195.585678  \n",
       "377068             282          198.917209  \n",
       "397526            2515          339.178108  \n",
       "644165             804          158.054383  \n",
       "910072             303          359.676748  \n",
       "923793            1405          349.357232  \n",
       "974378             611          553.775535  \n",
       "1013474            933          282.874161  \n",
       "1060807           1131          133.735777  \n",
       "1100676           3267          357.211532  \n",
       "1301396           9922          118.932345  "
      ]
     },
     "execution_count": 28,
     "metadata": {},
     "output_type": "execute_result"
    }
   ],
   "source": [
    "df_train[df_train[\"haversine_distance\"] > 100]"
   ]
  },
  {
   "cell_type": "code",
   "execution_count": 29,
   "metadata": {},
   "outputs": [
    {
     "data": {
      "text/plain": [
       "(2083774, 12)"
      ]
     },
     "execution_count": 29,
     "metadata": {},
     "output_type": "execute_result"
    }
   ],
   "source": [
    "combined_data = pd.concat([df_train, df_test], keys=['df_train', 'df_test'], sort=False)\n",
    "combined_data.shape"
   ]
  },
  {
   "cell_type": "code",
   "execution_count": 30,
   "metadata": {},
   "outputs": [
    {
     "data": {
      "text/html": [
       "<div>\n",
       "<style scoped>\n",
       "    .dataframe tbody tr th:only-of-type {\n",
       "        vertical-align: middle;\n",
       "    }\n",
       "\n",
       "    .dataframe tbody tr th {\n",
       "        vertical-align: top;\n",
       "    }\n",
       "\n",
       "    .dataframe thead th {\n",
       "        text-align: right;\n",
       "    }\n",
       "</style>\n",
       "<table border=\"1\" class=\"dataframe\">\n",
       "  <thead>\n",
       "    <tr style=\"text-align: right;\">\n",
       "      <th></th>\n",
       "      <th></th>\n",
       "      <th>id</th>\n",
       "      <th>vendor_id</th>\n",
       "      <th>pickup_datetime</th>\n",
       "      <th>dropoff_datetime</th>\n",
       "      <th>passenger_count</th>\n",
       "      <th>pickup_longitude</th>\n",
       "      <th>pickup_latitude</th>\n",
       "      <th>dropoff_longitude</th>\n",
       "      <th>dropoff_latitude</th>\n",
       "      <th>store_and_fwd_flag</th>\n",
       "      <th>trip_duration</th>\n",
       "      <th>haversine_distance</th>\n",
       "    </tr>\n",
       "  </thead>\n",
       "  <tbody>\n",
       "    <tr>\n",
       "      <th rowspan=\"5\" valign=\"top\">df_train</th>\n",
       "      <th>0</th>\n",
       "      <td>id2875421</td>\n",
       "      <td>2</td>\n",
       "      <td>2016-03-14 17:24:55</td>\n",
       "      <td>2016-03-14 17:32:30</td>\n",
       "      <td>1</td>\n",
       "      <td>-73.982155</td>\n",
       "      <td>40.767937</td>\n",
       "      <td>-73.964630</td>\n",
       "      <td>40.765602</td>\n",
       "      <td>N</td>\n",
       "      <td>455.0</td>\n",
       "      <td>0.931139</td>\n",
       "    </tr>\n",
       "    <tr>\n",
       "      <th>1</th>\n",
       "      <td>id2377394</td>\n",
       "      <td>1</td>\n",
       "      <td>2016-06-12 00:43:35</td>\n",
       "      <td>2016-06-12 00:54:38</td>\n",
       "      <td>1</td>\n",
       "      <td>-73.980415</td>\n",
       "      <td>40.738564</td>\n",
       "      <td>-73.999481</td>\n",
       "      <td>40.731152</td>\n",
       "      <td>N</td>\n",
       "      <td>663.0</td>\n",
       "      <td>1.121892</td>\n",
       "    </tr>\n",
       "    <tr>\n",
       "      <th>2</th>\n",
       "      <td>id3858529</td>\n",
       "      <td>2</td>\n",
       "      <td>2016-01-19 11:35:24</td>\n",
       "      <td>2016-01-19 12:10:48</td>\n",
       "      <td>1</td>\n",
       "      <td>-73.979027</td>\n",
       "      <td>40.763939</td>\n",
       "      <td>-74.005333</td>\n",
       "      <td>40.710087</td>\n",
       "      <td>N</td>\n",
       "      <td>2124.0</td>\n",
       "      <td>3.967522</td>\n",
       "    </tr>\n",
       "    <tr>\n",
       "      <th>3</th>\n",
       "      <td>id3504673</td>\n",
       "      <td>2</td>\n",
       "      <td>2016-04-06 19:32:31</td>\n",
       "      <td>2016-04-06 19:39:40</td>\n",
       "      <td>1</td>\n",
       "      <td>-74.010040</td>\n",
       "      <td>40.719971</td>\n",
       "      <td>-74.012268</td>\n",
       "      <td>40.706718</td>\n",
       "      <td>N</td>\n",
       "      <td>429.0</td>\n",
       "      <td>0.923047</td>\n",
       "    </tr>\n",
       "    <tr>\n",
       "      <th>4</th>\n",
       "      <td>id2181028</td>\n",
       "      <td>2</td>\n",
       "      <td>2016-03-26 13:30:55</td>\n",
       "      <td>2016-03-26 13:38:10</td>\n",
       "      <td>1</td>\n",
       "      <td>-73.973053</td>\n",
       "      <td>40.793209</td>\n",
       "      <td>-73.972923</td>\n",
       "      <td>40.782520</td>\n",
       "      <td>N</td>\n",
       "      <td>435.0</td>\n",
       "      <td>0.738556</td>\n",
       "    </tr>\n",
       "  </tbody>\n",
       "</table>\n",
       "</div>"
      ],
      "text/plain": [
       "                   id  vendor_id     pickup_datetime    dropoff_datetime  \\\n",
       "df_train 0  id2875421          2 2016-03-14 17:24:55 2016-03-14 17:32:30   \n",
       "         1  id2377394          1 2016-06-12 00:43:35 2016-06-12 00:54:38   \n",
       "         2  id3858529          2 2016-01-19 11:35:24 2016-01-19 12:10:48   \n",
       "         3  id3504673          2 2016-04-06 19:32:31 2016-04-06 19:39:40   \n",
       "         4  id2181028          2 2016-03-26 13:30:55 2016-03-26 13:38:10   \n",
       "\n",
       "            passenger_count  pickup_longitude  pickup_latitude  \\\n",
       "df_train 0                1        -73.982155        40.767937   \n",
       "         1                1        -73.980415        40.738564   \n",
       "         2                1        -73.979027        40.763939   \n",
       "         3                1        -74.010040        40.719971   \n",
       "         4                1        -73.973053        40.793209   \n",
       "\n",
       "            dropoff_longitude  dropoff_latitude store_and_fwd_flag  \\\n",
       "df_train 0         -73.964630         40.765602                  N   \n",
       "         1         -73.999481         40.731152                  N   \n",
       "         2         -74.005333         40.710087                  N   \n",
       "         3         -74.012268         40.706718                  N   \n",
       "         4         -73.972923         40.782520                  N   \n",
       "\n",
       "            trip_duration  haversine_distance  \n",
       "df_train 0          455.0            0.931139  \n",
       "         1          663.0            1.121892  \n",
       "         2         2124.0            3.967522  \n",
       "         3          429.0            0.923047  \n",
       "         4          435.0            0.738556  "
      ]
     },
     "execution_count": 30,
     "metadata": {},
     "output_type": "execute_result"
    }
   ],
   "source": [
    "combined_data.head()"
   ]
  },
  {
   "cell_type": "code",
   "execution_count": 31,
   "metadata": {},
   "outputs": [
    {
     "data": {
      "text/html": [
       "<div>\n",
       "<style scoped>\n",
       "    .dataframe tbody tr th:only-of-type {\n",
       "        vertical-align: middle;\n",
       "    }\n",
       "\n",
       "    .dataframe tbody tr th {\n",
       "        vertical-align: top;\n",
       "    }\n",
       "\n",
       "    .dataframe thead th {\n",
       "        text-align: right;\n",
       "    }\n",
       "</style>\n",
       "<table border=\"1\" class=\"dataframe\">\n",
       "  <thead>\n",
       "    <tr style=\"text-align: right;\">\n",
       "      <th></th>\n",
       "      <th>vendor_id</th>\n",
       "      <th>passenger_count</th>\n",
       "      <th>pickup_longitude</th>\n",
       "      <th>pickup_latitude</th>\n",
       "      <th>dropoff_longitude</th>\n",
       "      <th>dropoff_latitude</th>\n",
       "      <th>trip_duration</th>\n",
       "      <th>haversine_distance</th>\n",
       "    </tr>\n",
       "  </thead>\n",
       "  <tbody>\n",
       "    <tr>\n",
       "      <th>count</th>\n",
       "      <td>2.083774e+06</td>\n",
       "      <td>2.083774e+06</td>\n",
       "      <td>2.083774e+06</td>\n",
       "      <td>2.083774e+06</td>\n",
       "      <td>2.083774e+06</td>\n",
       "      <td>2.083774e+06</td>\n",
       "      <td>1.458640e+06</td>\n",
       "      <td>1.458640e+06</td>\n",
       "    </tr>\n",
       "    <tr>\n",
       "      <th>mean</th>\n",
       "      <td>1.534931e+00</td>\n",
       "      <td>1.663701e+00</td>\n",
       "      <td>-7.397352e+01</td>\n",
       "      <td>4.075092e+01</td>\n",
       "      <td>-7.397343e+01</td>\n",
       "      <td>4.075180e+01</td>\n",
       "      <td>9.528153e+02</td>\n",
       "      <td>2.138042e+00</td>\n",
       "    </tr>\n",
       "    <tr>\n",
       "      <th>std</th>\n",
       "      <td>4.987784e-01</td>\n",
       "      <td>1.313359e+00</td>\n",
       "      <td>7.165689e-02</td>\n",
       "      <td>3.200124e-02</td>\n",
       "      <td>7.122526e-02</td>\n",
       "      <td>3.587059e-02</td>\n",
       "      <td>3.171322e+03</td>\n",
       "      <td>2.669725e+00</td>\n",
       "    </tr>\n",
       "    <tr>\n",
       "      <th>min</th>\n",
       "      <td>1.000000e+00</td>\n",
       "      <td>0.000000e+00</td>\n",
       "      <td>-1.219333e+02</td>\n",
       "      <td>3.435970e+01</td>\n",
       "      <td>-1.219333e+02</td>\n",
       "      <td>3.218114e+01</td>\n",
       "      <td>1.000000e+00</td>\n",
       "      <td>0.000000e+00</td>\n",
       "    </tr>\n",
       "    <tr>\n",
       "      <th>25%</th>\n",
       "      <td>1.000000e+00</td>\n",
       "      <td>1.000000e+00</td>\n",
       "      <td>-7.399186e+01</td>\n",
       "      <td>4.073736e+01</td>\n",
       "      <td>-7.399133e+01</td>\n",
       "      <td>4.073592e+01</td>\n",
       "      <td>3.970000e+02</td>\n",
       "      <td>7.654273e-01</td>\n",
       "    </tr>\n",
       "    <tr>\n",
       "      <th>50%</th>\n",
       "      <td>2.000000e+00</td>\n",
       "      <td>1.000000e+00</td>\n",
       "      <td>-7.398174e+01</td>\n",
       "      <td>4.075410e+01</td>\n",
       "      <td>-7.397976e+01</td>\n",
       "      <td>4.075453e+01</td>\n",
       "      <td>6.620000e+02</td>\n",
       "      <td>1.300974e+00</td>\n",
       "    </tr>\n",
       "    <tr>\n",
       "      <th>75%</th>\n",
       "      <td>2.000000e+00</td>\n",
       "      <td>2.000000e+00</td>\n",
       "      <td>-7.396735e+01</td>\n",
       "      <td>4.076837e+01</td>\n",
       "      <td>-7.396301e+01</td>\n",
       "      <td>4.076982e+01</td>\n",
       "      <td>1.075000e+03</td>\n",
       "      <td>2.408017e+00</td>\n",
       "    </tr>\n",
       "    <tr>\n",
       "      <th>max</th>\n",
       "      <td>2.000000e+00</td>\n",
       "      <td>9.000000e+00</td>\n",
       "      <td>-6.133553e+01</td>\n",
       "      <td>5.188108e+01</td>\n",
       "      <td>-6.133553e+01</td>\n",
       "      <td>4.885760e+01</td>\n",
       "      <td>8.639200e+04</td>\n",
       "      <td>7.710660e+02</td>\n",
       "    </tr>\n",
       "  </tbody>\n",
       "</table>\n",
       "</div>"
      ],
      "text/plain": [
       "          vendor_id  passenger_count  pickup_longitude  pickup_latitude  \\\n",
       "count  2.083774e+06     2.083774e+06      2.083774e+06     2.083774e+06   \n",
       "mean   1.534931e+00     1.663701e+00     -7.397352e+01     4.075092e+01   \n",
       "std    4.987784e-01     1.313359e+00      7.165689e-02     3.200124e-02   \n",
       "min    1.000000e+00     0.000000e+00     -1.219333e+02     3.435970e+01   \n",
       "25%    1.000000e+00     1.000000e+00     -7.399186e+01     4.073736e+01   \n",
       "50%    2.000000e+00     1.000000e+00     -7.398174e+01     4.075410e+01   \n",
       "75%    2.000000e+00     2.000000e+00     -7.396735e+01     4.076837e+01   \n",
       "max    2.000000e+00     9.000000e+00     -6.133553e+01     5.188108e+01   \n",
       "\n",
       "       dropoff_longitude  dropoff_latitude  trip_duration  haversine_distance  \n",
       "count       2.083774e+06      2.083774e+06   1.458640e+06        1.458640e+06  \n",
       "mean       -7.397343e+01      4.075180e+01   9.528153e+02        2.138042e+00  \n",
       "std         7.122526e-02      3.587059e-02   3.171322e+03        2.669725e+00  \n",
       "min        -1.219333e+02      3.218114e+01   1.000000e+00        0.000000e+00  \n",
       "25%        -7.399133e+01      4.073592e+01   3.970000e+02        7.654273e-01  \n",
       "50%        -7.397976e+01      4.075453e+01   6.620000e+02        1.300974e+00  \n",
       "75%        -7.396301e+01      4.076982e+01   1.075000e+03        2.408017e+00  \n",
       "max        -6.133553e+01      4.885760e+01   8.639200e+04        7.710660e+02  "
      ]
     },
     "execution_count": 31,
     "metadata": {},
     "output_type": "execute_result"
    }
   ],
   "source": [
    "combined_data.describe()"
   ]
  },
  {
   "cell_type": "code",
   "execution_count": 32,
   "metadata": {},
   "outputs": [],
   "source": [
    "combined_data.drop('id', axis = 1, inplace=True)"
   ]
  },
  {
   "cell_type": "code",
   "execution_count": 33,
   "metadata": {},
   "outputs": [
    {
     "data": {
      "text/plain": [
       "(2083774, 11)"
      ]
     },
     "execution_count": 33,
     "metadata": {},
     "output_type": "execute_result"
    }
   ],
   "source": [
    "\n",
    "combined_data.shape"
   ]
  },
  {
   "cell_type": "code",
   "execution_count": 34,
   "metadata": {},
   "outputs": [
    {
     "data": {
      "text/plain": [
       "haversine_distance    0.300001\n",
       "trip_duration         0.300001\n",
       "dropoff_datetime      0.300001\n",
       "dtype: float64"
      ]
     },
     "execution_count": 34,
     "metadata": {},
     "output_type": "execute_result"
    }
   ],
   "source": [
    "missing = combined_data.isnull().sum()/len(combined_data)\n",
    "missing = missing[missing >0]\n",
    "missing.sort_values(ascending=False, inplace=True)\n",
    "missing"
   ]
  },
  {
   "cell_type": "code",
   "execution_count": 35,
   "metadata": {},
   "outputs": [],
   "source": [
    "combined_data2 = pd.get_dummies(combined_data, drop_first=True)"
   ]
  },
  {
   "cell_type": "code",
   "execution_count": 36,
   "metadata": {},
   "outputs": [
    {
     "data": {
      "text/plain": [
       "(2083774, 11)"
      ]
     },
     "execution_count": 36,
     "metadata": {},
     "output_type": "execute_result"
    }
   ],
   "source": [
    "combined_data2.shape"
   ]
  },
  {
   "cell_type": "code",
   "execution_count": 37,
   "metadata": {},
   "outputs": [],
   "source": [
    "train = combined_data2.loc['df_train']"
   ]
  },
  {
   "cell_type": "code",
   "execution_count": 38,
   "metadata": {},
   "outputs": [],
   "source": [
    "test = combined_data2.loc['df_test']"
   ]
  },
  {
   "cell_type": "code",
   "execution_count": 40,
   "metadata": {
    "scrolled": true
   },
   "outputs": [
    {
     "data": {
      "text/plain": [
       "array(['vendor_id', 'pickup_datetime', 'dropoff_datetime',\n",
       "       'passenger_count', 'pickup_longitude', 'pickup_latitude',\n",
       "       'dropoff_longitude', 'dropoff_latitude', 'trip_duration',\n",
       "       'haversine_distance', 'store_and_fwd_flag_Y'], dtype=object)"
      ]
     },
     "execution_count": 40,
     "metadata": {},
     "output_type": "execute_result"
    }
   ],
   "source": [
    "train.columns.values"
   ]
  },
  {
   "cell_type": "code",
   "execution_count": 42,
   "metadata": {},
   "outputs": [
    {
     "data": {
      "text/plain": [
       "array(['vendor_id', 'pickup_datetime', 'dropoff_datetime',\n",
       "       'passenger_count', 'pickup_longitude', 'pickup_latitude',\n",
       "       'dropoff_longitude', 'dropoff_latitude', 'trip_duration',\n",
       "       'haversine_distance', 'store_and_fwd_flag_Y'], dtype=object)"
      ]
     },
     "execution_count": 42,
     "metadata": {},
     "output_type": "execute_result"
    }
   ],
   "source": [
    "test.columns.values"
   ]
  },
  {
   "cell_type": "code",
   "execution_count": 43,
   "metadata": {},
   "outputs": [
    {
     "name": "stdout",
     "output_type": "stream",
     "text": [
      "(1458640, 11)\n",
      "(625134, 11)\n"
     ]
    }
   ],
   "source": [
    "print(train.shape)\n",
    "print(test.shape)"
   ]
  },
  {
   "cell_type": "code",
   "execution_count": 44,
   "metadata": {},
   "outputs": [],
   "source": [
    "header_train = ['vendor_id', 'pickup_datetime', 'dropoff_datetime',\n",
    "       'passenger_count', 'pickup_longitude', 'pickup_latitude',\n",
    "       'dropoff_longitude', 'dropoff_latitude', 'trip_duration',\n",
    "       'haversine_distance', 'store_and_fwd_flag_Y']"
   ]
  },
  {
   "cell_type": "code",
   "execution_count": 45,
   "metadata": {},
   "outputs": [],
   "source": [
    "header_test = ['vendor_id', 'pickup_datetime', 'dropoff_datetime',\n",
    "       'passenger_count', 'pickup_longitude', 'pickup_latitude',\n",
    "       'dropoff_longitude', 'dropoff_latitude', 'trip_duration',\n",
    "       'haversine_distance', 'store_and_fwd_flag_Y']"
   ]
  },
  {
   "cell_type": "markdown",
   "metadata": {},
   "source": [
    "### CONVERTING THE TRAINING AND TESTING DATA INTO CSV FILES AFTER CONVERTING THEM INTO DATAFRAMES¶"
   ]
  },
  {
   "cell_type": "code",
   "execution_count": 46,
   "metadata": {},
   "outputs": [],
   "source": [
    "training = pd.DataFrame(train)\n",
    "testing = pd.DataFrame(test)\n",
    "training.to_csv('training data.csv', columns = header_train, index=False)\n",
    "testing.to_csv('testing data.csv', columns = header_test, index=False)"
   ]
  },
  {
   "cell_type": "code",
   "execution_count": 47,
   "metadata": {},
   "outputs": [
    {
     "name": "stdout",
     "output_type": "stream",
     "text": [
      "Parse progress: |█████████████████████████████████████████████████████████| 100%\n",
      "Parse progress: |█████████████████████████████████████████████████████████| 100%\n"
     ]
    }
   ],
   "source": [
    "training = h2o.import_file(\"training data.csv\")\n",
    "testing = h2o.import_file(\"testing data.csv\")"
   ]
  },
  {
   "cell_type": "code",
   "execution_count": 48,
   "metadata": {},
   "outputs": [],
   "source": [
    "def alphabet(n):  ## for generating some arbitrary run id\n",
    "  alpha='0123456789abcdefghijklmnopqrstuvwxyzABCDEFGHIJKLMNOPQRSTUVWXYZ'    \n",
    "  str=''\n",
    "  r=len(alpha)-1   \n",
    "  while len(str)<n:\n",
    "    i=random.randint(0,r)\n",
    "    str+=alpha[i]   \n",
    "  return str\n",
    "\n",
    "# storing in meta_data dictionary  \n",
    "def set_meta_data(analysis,run_id,server,data,model_path,run_time,scale,model,balance,balance_threshold,name,path,nthreads,min_mem_size):\n",
    "  m_data={}\n",
    "  # m_data['target']=target\n",
    "  #m_data['classification']=classification\n",
    "  m_data['project'] =name\n",
    "  m_data['run_time']=run_time\n",
    "  m_data['run_id'] =run_id\n",
    "  m_data['start_time_sec'] = time.time()\n",
    "  #m_data['min_mem_size'] = min_mem_size\n",
    "  m_data['balance']=balance\n",
    "  m_data['balance_threshold']=balance_threshold \n",
    "  m_data['max_models']=model\n",
    "  m_data['scale']=scale  \n",
    "  m_data['scale']=False\n",
    "  m_data['model_path']=model_path\n",
    "  m_data['server_path']=server\n",
    "  m_data['data_path']=data \n",
    "  m_data['run_path'] =path\n",
    "  m_data['nthreads'] = nthreads\n",
    "  m_data['analysis'] = analysis\n",
    "  m_data['end_time_sec'] = time.time()  \n",
    "  return m_data"
   ]
  },
  {
   "cell_type": "markdown",
   "metadata": {},
   "source": [
    "#### ASSIGNING DATA PARAMETERS, STOPPING PARAMETERS, SOME OPTIONAL PARAMETERS, AND MISCELLANEOUS OPTIONAL PARAMATERS FOR PERFORMING H2O ON THE MODEL"
   ]
  },
  {
   "cell_type": "code",
   "execution_count": 49,
   "metadata": {},
   "outputs": [],
   "source": [
    "target='vendor_id' \n",
    "data_file='training'\n",
    "run_id=alphabet(9) # Just some arbitrary ID\n",
    "server_path=None\n",
    "classification=True\n",
    "scale=False\n",
    "max_models=None\n",
    "balance_y=False # balance_classes=balance_y\n",
    "balance_threshold=0.2\n",
    "project =\"automl_DB2\"  # project_name = project\n",
    "analysis=0\n",
    "data_path=None\n",
    "model_path=None\n",
    "run_time = 800\n",
    "name=None \n",
    "nthreads=1                       \n",
    "analysis=0\n",
    "min_mem_size=6\n",
    "run_dir =None"
   ]
  },
  {
   "cell_type": "markdown",
   "metadata": {},
   "source": [
    "#### SIMULTANEOUSLY CREATING METADATA"
   ]
  },
  {
   "cell_type": "code",
   "execution_count": 50,
   "metadata": {},
   "outputs": [
    {
     "name": "stdout",
     "output_type": "stream",
     "text": [
      "{'project': None, 'run_time': 800, 'run_id': 'Kj2dExOOv', 'start_time_sec': 1556286091.311026, 'balance': False, 'balance_threshold': 0.2, 'max_models': None, 'scale': False, 'model_path': None, 'server_path': None, 'data_path': None, 'run_path': None, 'nthreads': 1, 'analysis': 0, 'end_time_sec': 1556286091.311026}\n"
     ]
    }
   ],
   "source": [
    "#meta data\n",
    "meta_data =set_meta_data(analysis, run_id,server_path,data_path,model_path,run_time,scale,max_models,balance_y,balance_threshold,name,run_dir,nthreads,min_mem_size)\n",
    "print(meta_data)"
   ]
  },
  {
   "cell_type": "code",
   "execution_count": 51,
   "metadata": {
    "scrolled": true
   },
   "outputs": [
    {
     "name": "stdout",
     "output_type": "stream",
     "text": [
      "vendor_id\n",
      "['pickup_datetime', 'dropoff_datetime', 'passenger_count', 'pickup_longitude', 'pickup_latitude', 'dropoff_longitude', 'dropoff_latitude', 'trip_duration', 'haversine_distance', 'store_and_fwd_flag_Y']\n"
     ]
    }
   ],
   "source": [
    "y = target\n",
    "X = [name for name in training.columns if name != y]\n",
    "print(y)\n",
    "print(X)"
   ]
  },
  {
   "cell_type": "markdown",
   "metadata": {},
   "source": [
    "#### PUTTING ALL THE INDEPENDET VARIABLES IN THE META DATA"
   ]
  },
  {
   "cell_type": "code",
   "execution_count": 52,
   "metadata": {},
   "outputs": [],
   "source": [
    "\n",
    "model_start_time = time.time()"
   ]
  },
  {
   "cell_type": "code",
   "execution_count": 53,
   "metadata": {},
   "outputs": [],
   "source": [
    "meta_data['variables']=X"
   ]
  },
  {
   "cell_type": "code",
   "execution_count": 54,
   "metadata": {},
   "outputs": [],
   "source": [
    "import os"
   ]
  },
  {
   "cell_type": "markdown",
   "metadata": {},
   "source": [
    "#### RUNNING H2O AUTOML FOR 800 SECS MAXIMUM RUNTIME"
   ]
  },
  {
   "cell_type": "code",
   "execution_count": 55,
   "metadata": {
    "scrolled": true
   },
   "outputs": [
    {
     "name": "stdout",
     "output_type": "stream",
     "text": [
      "AutoML progress: |████████████████████████████████████████████████████████| 100%\n"
     ]
    }
   ],
   "source": [
    "aml_800 = H2OAutoML(max_runtime_secs=800,project_name = project) # init automl, run for 800 seconds\n",
    "aml_800.train(x=X,  \n",
    "           y=y,\n",
    "           training_frame=training)"
   ]
  },
  {
   "cell_type": "code",
   "execution_count": 56,
   "metadata": {
    "scrolled": false
   },
   "outputs": [
    {
     "data": {
      "text/html": [
       "<table>\n",
       "<thead>\n",
       "<tr><th>model_id                                           </th><th style=\"text-align: right;\">  mean_residual_deviance</th><th style=\"text-align: right;\">    rmse</th><th style=\"text-align: right;\">     mse</th><th style=\"text-align: right;\">     mae</th><th style=\"text-align: right;\">   rmsle</th></tr>\n",
       "</thead>\n",
       "<tbody>\n",
       "<tr><td>StackedEnsemble_AllModels_AutoML_20190426_094131   </td><td style=\"text-align: right;\">                0.223692</td><td style=\"text-align: right;\">0.472961</td><td style=\"text-align: right;\">0.223692</td><td style=\"text-align: right;\">0.448358</td><td style=\"text-align: right;\">0.192721</td></tr>\n",
       "<tr><td>StackedEnsemble_BestOfFamily_AutoML_20190426_094131</td><td style=\"text-align: right;\">                0.223703</td><td style=\"text-align: right;\">0.472972</td><td style=\"text-align: right;\">0.223703</td><td style=\"text-align: right;\">0.448336</td><td style=\"text-align: right;\">0.192725</td></tr>\n",
       "<tr><td>DRF_1_AutoML_20190426_094131                       </td><td style=\"text-align: right;\">                0.223825</td><td style=\"text-align: right;\">0.473101</td><td style=\"text-align: right;\">0.223825</td><td style=\"text-align: right;\">0.449427</td><td style=\"text-align: right;\">0.192833</td></tr>\n",
       "<tr><td>GBM_3_AutoML_20190426_094131                       </td><td style=\"text-align: right;\">                0.223946</td><td style=\"text-align: right;\">0.473229</td><td style=\"text-align: right;\">0.223946</td><td style=\"text-align: right;\">0.4495  </td><td style=\"text-align: right;\">0.192883</td></tr>\n",
       "<tr><td>GBM_2_AutoML_20190426_094131                       </td><td style=\"text-align: right;\">                0.224033</td><td style=\"text-align: right;\">0.473321</td><td style=\"text-align: right;\">0.224033</td><td style=\"text-align: right;\">0.449157</td><td style=\"text-align: right;\">0.192899</td></tr>\n",
       "<tr><td>GBM_1_AutoML_20190426_094131                       </td><td style=\"text-align: right;\">                0.224132</td><td style=\"text-align: right;\">0.473426</td><td style=\"text-align: right;\">0.224132</td><td style=\"text-align: right;\">0.449303</td><td style=\"text-align: right;\">0.192949</td></tr>\n",
       "<tr><td>GBM_4_AutoML_20190426_094131                       </td><td style=\"text-align: right;\">                0.224456</td><td style=\"text-align: right;\">0.473767</td><td style=\"text-align: right;\">0.224456</td><td style=\"text-align: right;\">0.454978</td><td style=\"text-align: right;\">0.193247</td></tr>\n",
       "<tr><td>GLM_grid_1_AutoML_20190426_094131_model_1          </td><td style=\"text-align: right;\">                0.226595</td><td style=\"text-align: right;\">0.47602 </td><td style=\"text-align: right;\">0.226595</td><td style=\"text-align: right;\">0.454174</td><td style=\"text-align: right;\">0.194021</td></tr>\n",
       "</tbody>\n",
       "</table>"
      ]
     },
     "metadata": {},
     "output_type": "display_data"
    },
    {
     "data": {
      "text/plain": []
     },
     "execution_count": 56,
     "metadata": {},
     "output_type": "execute_result"
    }
   ],
   "source": [
    "leaderboard = aml_800.leaderboard\n",
    "leaderboard.head(50)"
   ]
  },
  {
   "cell_type": "code",
   "execution_count": 57,
   "metadata": {},
   "outputs": [
    {
     "name": "stdout",
     "output_type": "stream",
     "text": [
      "Execution time for  800 sec =   838.9390437602997\n"
     ]
    }
   ],
   "source": [
    "execution_time =  time.time() - model_start_time\n",
    "meta_data['model_execution_time_sec'] = execution_time\n",
    "print(\"Execution time for \", run_time,\"sec =  \",meta_data['model_execution_time_sec'])"
   ]
  },
  {
   "cell_type": "code",
   "execution_count": 58,
   "metadata": {},
   "outputs": [],
   "source": [
    "aml_800_leaderboard_df=aml_800.leaderboard.as_data_frame()\n",
    "leaderboard_stats=run_id+'_800_leaderboard.csv'\n",
    "aml_800_leaderboard_df.to_csv(leaderboard_stats)"
   ]
  },
  {
   "cell_type": "markdown",
   "metadata": {},
   "source": [
    "#### IMPORTING THE LEADERBOARD AS A DATAFRAME"
   ]
  },
  {
   "cell_type": "code",
   "execution_count": 59,
   "metadata": {},
   "outputs": [],
   "source": [
    "list_800 = leaderboard.as_data_frame(use_pandas=True).as_matrix()[:,0].tolist()"
   ]
  },
  {
   "cell_type": "code",
   "execution_count": 60,
   "metadata": {
    "scrolled": true
   },
   "outputs": [
    {
     "name": "stdout",
     "output_type": "stream",
     "text": [
      "Model Details\n",
      "=============\n",
      "H2OStackedEnsembleEstimator :  Stacked Ensemble\n",
      "Model Key:  StackedEnsemble_AllModels_AutoML_20190426_094131\n",
      "No model summary for this model\n",
      "\n",
      "\n",
      "ModelMetricsRegressionGLM: stackedensemble\n",
      "** Reported on train data. **\n",
      "\n",
      "MSE: 0.21762265187440846\n",
      "RMSE: 0.4665004307333579\n",
      "MAE: 0.4421068124079384\n",
      "RMSLE: 0.1901970711440807\n",
      "R^2: 0.1252348566889241\n",
      "Mean Residual Deviance: 0.21762265187440846\n",
      "Null degrees of freedom: 1458639\n",
      "Residual degrees of freedom: 1458636\n",
      "Null deviance: 362878.0906024601\n",
      "Residual deviance: 317433.10493008717\n",
      "AIC: 1915035.694912695\n",
      "\n",
      "ModelMetricsRegressionGLM: stackedensemble\n",
      "** Reported on cross-validation data. **\n",
      "\n",
      "MSE: 0.22369165604500163\n",
      "RMSE: 0.47296052271305017\n",
      "MAE: 0.4483582552494405\n",
      "RMSLE: 0.1927212633350179\n",
      "R^2: 0.10083963285851016\n",
      "Mean Residual Deviance: 0.22369165604500163\n",
      "Null degrees of freedom: 1458639\n",
      "Residual degrees of freedom: 1458636\n",
      "Null deviance: 362878.30931079393\n",
      "Residual deviance: 326285.5971734812\n",
      "AIC: 1955156.988107883\n"
     ]
    },
    {
     "data": {
      "text/plain": []
     },
     "execution_count": 60,
     "metadata": {},
     "output_type": "execute_result"
    }
   ],
   "source": [
    "aml_800leaderboard_df=aml_800.leaderboard.as_data_frame()\n",
    "model_set=aml_800leaderboard_df['model_id']\n",
    "mod_best800=h2o.get_model(model_set[0])\n",
    "mod_best800.algo\n",
    "mod_best800\n"
   ]
  },
  {
   "cell_type": "markdown",
   "metadata": {},
   "source": [
    "##### PARAMETERS OF THE TOP MODEL "
   ]
  },
  {
   "cell_type": "code",
   "execution_count": 61,
   "metadata": {},
   "outputs": [
    {
     "data": {
      "text/plain": [
       "{'base_models': {'actual': [{'URL': '/3/Models/DRF_1_AutoML_20190426_094131',\n",
       "    '__meta': {'schema_name': 'ModelKeyV3',\n",
       "     'schema_type': 'Key<Model>',\n",
       "     'schema_version': 3},\n",
       "    'name': 'DRF_1_AutoML_20190426_094131',\n",
       "    'type': 'Key<Model>'},\n",
       "   {'URL': '/3/Models/GBM_3_AutoML_20190426_094131',\n",
       "    '__meta': {'schema_name': 'ModelKeyV3',\n",
       "     'schema_type': 'Key<Model>',\n",
       "     'schema_version': 3},\n",
       "    'name': 'GBM_3_AutoML_20190426_094131',\n",
       "    'type': 'Key<Model>'},\n",
       "   {'URL': '/3/Models/GBM_2_AutoML_20190426_094131',\n",
       "    '__meta': {'schema_name': 'ModelKeyV3',\n",
       "     'schema_type': 'Key<Model>',\n",
       "     'schema_version': 3},\n",
       "    'name': 'GBM_2_AutoML_20190426_094131',\n",
       "    'type': 'Key<Model>'},\n",
       "   {'URL': '/3/Models/GBM_1_AutoML_20190426_094131',\n",
       "    '__meta': {'schema_name': 'ModelKeyV3',\n",
       "     'schema_type': 'Key<Model>',\n",
       "     'schema_version': 3},\n",
       "    'name': 'GBM_1_AutoML_20190426_094131',\n",
       "    'type': 'Key<Model>'},\n",
       "   {'URL': '/3/Models/GBM_4_AutoML_20190426_094131',\n",
       "    '__meta': {'schema_name': 'ModelKeyV3',\n",
       "     'schema_type': 'Key<Model>',\n",
       "     'schema_version': 3},\n",
       "    'name': 'GBM_4_AutoML_20190426_094131',\n",
       "    'type': 'Key<Model>'},\n",
       "   {'URL': '/3/Models/GLM_grid_1_AutoML_20190426_094131_model_1',\n",
       "    '__meta': {'schema_name': 'ModelKeyV3',\n",
       "     'schema_type': 'Key<Model>',\n",
       "     'schema_version': 3},\n",
       "    'name': 'GLM_grid_1_AutoML_20190426_094131_model_1',\n",
       "    'type': 'Key<Model>'}],\n",
       "  'default': []},\n",
       " 'blending_frame': {'actual': None, 'default': None},\n",
       " 'export_checkpoints_dir': {'actual': None, 'default': None},\n",
       " 'keep_levelone_frame': {'actual': True, 'default': False},\n",
       " 'metalearner_algorithm': {'actual': 'AUTO', 'default': 'AUTO'},\n",
       " 'metalearner_fold_assignment': {'actual': None, 'default': None},\n",
       " 'metalearner_fold_column': {'actual': None, 'default': None},\n",
       " 'metalearner_nfolds': {'actual': 5, 'default': 0},\n",
       " 'metalearner_params': {'actual': '', 'default': ''},\n",
       " 'model_id': {'actual': {'URL': '/3/Models/StackedEnsemble_AllModels_AutoML_20190426_094131',\n",
       "   '__meta': {'schema_name': 'ModelKeyV3',\n",
       "    'schema_type': 'Key<Model>',\n",
       "    'schema_version': 3},\n",
       "   'name': 'StackedEnsemble_AllModels_AutoML_20190426_094131',\n",
       "   'type': 'Key<Model>'},\n",
       "  'default': None},\n",
       " 'response_column': {'actual': {'__meta': {'schema_name': 'ColSpecifierV3',\n",
       "    'schema_type': 'VecSpecifier',\n",
       "    'schema_version': 3},\n",
       "   'column_name': 'vendor_id',\n",
       "   'is_member_of_frames': None},\n",
       "  'default': None},\n",
       " 'seed': {'actual': 8975980480021508131, 'default': -1},\n",
       " 'training_frame': {'actual': {'URL': '/3/Frames/automl_training_training_data.hex',\n",
       "   '__meta': {'schema_name': 'FrameKeyV3',\n",
       "    'schema_type': 'Key<Frame>',\n",
       "    'schema_version': 3},\n",
       "   'name': 'automl_training_training_data.hex',\n",
       "   'type': 'Key<Frame>'},\n",
       "  'default': None},\n",
       " 'validation_frame': {'actual': None, 'default': None}}"
      ]
     },
     "execution_count": 61,
     "metadata": {},
     "output_type": "execute_result"
    }
   ],
   "source": [
    "mod_best800.params"
   ]
  },
  {
   "cell_type": "code",
   "execution_count": 62,
   "metadata": {},
   "outputs": [],
   "source": [
    "## Function for converting dictionary to json\n",
    "def dict_to_json(dct,n,m):\n",
    "  j = json.dumps(dct, indent=4)\n",
    "  f = open(n, m)\n",
    "  print(j, file=f)\n",
    "  f.close()\n",
    "\n",
    "## Function for converting files to csv\n",
    "def writeToFile(line,n,m):\n",
    "  f = open(n, m)\n",
    "  print(line, file=f)\n",
    "  f.close()"
   ]
  },
  {
   "cell_type": "markdown",
   "metadata": {},
   "source": [
    "#### GENERATE HYPERPARAMETERS FOR EVERY MODEL IN THE LEADER BOARD BY PASSING THE MODEL AND AN ARRAY OF HYPERPARAMETERS"
   ]
  },
  {
   "cell_type": "code",
   "execution_count": 63,
   "metadata": {},
   "outputs": [],
   "source": [
    "def generate_hyperparameters(model, keys, run_time, list_runtime):\n",
    "    list = list_runtime;\n",
    "    head = \"Model Name,\"\n",
    "    for k in keys:\n",
    "        head = head + k+\"_default\"+\",\"+ k+\"_actual\"+\",\"\n",
    "    head = head[:-1]\n",
    "   # n1=run_id+'_hy_parameter_500_XGBoost.csv'\n",
    "    n1=run_id+'_hy_parameter_'+run_time+'_'+model+'.csv';\n",
    "    writeToFile(head,n1,'w')\n",
    "\n",
    "    for algo in list:\n",
    "        if algo.startswith(model):\n",
    "           # print(algo)\n",
    "            mod = h2o.get_model(algo)\n",
    "            hy_parameter_800 = mod.params\n",
    "            n=run_id+'_hy_parameter_'+run_time+'_'+model+'.json';\n",
    "            dict_to_json(hy_parameter_800,n,'a')\n",
    "            mod.params\n",
    "\n",
    "            rec=algo+\",\"\n",
    "            for k in keys:\n",
    "                print(mod.params[k])\n",
    "                rec = rec + str(mod.params[k][\"default\"])+\",\"+str(mod.params[k][\"actual\"])+\",\"\n",
    "            rec = rec[:-1]\n",
    "            #print(rec)\n",
    "            writeToFile(rec,n1,'a')"
   ]
  },
  {
   "cell_type": "markdown",
   "metadata": {},
   "source": [
    "#### SPECIFYING THE HYPERPARAMETERS AND THE MODEL NAMES AND PASSING THEM THROUGH THE GENERATE HYPERPARAMETERS FUNCTION"
   ]
  },
  {
   "cell_type": "code",
   "execution_count": 64,
   "metadata": {
    "scrolled": true
   },
   "outputs": [
    {
     "name": "stdout",
     "output_type": "stream",
     "text": [
      "{'default': 'AUTO', 'actual': 'AUTO'}\n",
      "{'default': 50, 'actual': 24}\n",
      "{'default': 5, 'actual': 15}\n",
      "{'default': 10.0, 'actual': 100.0}\n",
      "{'default': 0.1, 'actual': 0.1}\n",
      "{'default': 1.0, 'actual': 0.8}\n",
      "{'default': 1.0, 'actual': 0.8}\n",
      "{'default': 1.0, 'actual': 0.8}\n",
      "{'default': 1e-05, 'actual': 1e-05}\n",
      "{'default': 'AUTO', 'actual': 'AUTO'}\n",
      "{'default': 50, 'actual': 24}\n",
      "{'default': 5, 'actual': 15}\n",
      "{'default': 10.0, 'actual': 100.0}\n",
      "{'default': 0.1, 'actual': 0.1}\n",
      "{'default': 1.0, 'actual': 0.8}\n",
      "{'default': 1.0, 'actual': 0.8}\n",
      "{'default': 1.0, 'actual': 0.8}\n",
      "{'default': 1e-05, 'actual': 1e-05}\n",
      "{'default': 'AUTO', 'actual': 'AUTO'}\n",
      "{'default': 50, 'actual': 24}\n",
      "{'default': 5, 'actual': 15}\n",
      "{'default': 10.0, 'actual': 100.0}\n",
      "{'default': 0.1, 'actual': 0.1}\n",
      "{'default': 1.0, 'actual': 0.8}\n",
      "{'default': 1.0, 'actual': 0.8}\n",
      "{'default': 1.0, 'actual': 0.8}\n",
      "{'default': 1e-05, 'actual': 1e-05}\n",
      "{'default': 'AUTO', 'actual': 'AUTO'}\n",
      "{'default': 50, 'actual': 24}\n",
      "{'default': 5, 'actual': 15}\n",
      "{'default': 10.0, 'actual': 100.0}\n",
      "{'default': 0.1, 'actual': 0.1}\n",
      "{'default': 1.0, 'actual': 0.8}\n",
      "{'default': 1.0, 'actual': 0.8}\n",
      "{'default': 1.0, 'actual': 0.8}\n",
      "{'default': 1e-05, 'actual': 1e-05}\n",
      "{'default': None, 'actual': [0.0, 0.2, 0.4, 0.6, 0.8, 1.0]}\n",
      "{'default': 'MeanImputation', 'actual': 'MeanImputation'}\n",
      "{'default': -1, 'actual': -1}\n",
      "{'default': 'AUTO', 'actual': 'AUTO'}\n"
     ]
    }
   ],
   "source": [
    "keys_xgboost = [\"ntrees\",\"max_depth\",\"min_rows\",\"min_sum_hessian_in_leaf\",\"sample_rate\",\"col_sample_rate\",\"col_sample_rate_per_tree\",\"booster\",\"reg_lambda\",\"reg_alpha\"];\n",
    "keys_gbm = [\"histogram_type\",\"ntrees\",\"max_depth\",\"min_rows\",\"learn_rate\",\"sample_rate\",\"col_sample_rate\",\"col_sample_rate_per_tree\",\"min_split_improvement\"];\n",
    "keys_glm = [\"alpha\",\"missing_values_handling\"];\n",
    "keys_dl = [\"epochs\",\"activation\",\"rho\",\"epsilon\",\"input_dropout_ratio\",\"hidden\",\"hidden_dropout_ratios\"];\n",
    "keys_drf = [\"mtries\", \"categorical_encoding\"]\n",
    "\n",
    "generate_hyperparameters('XGBoost',keys_xgboost,'800', list_800);\n",
    "generate_hyperparameters('GBM',keys_gbm, '800', list_800);\n",
    "generate_hyperparameters('GLM',keys_glm, '800', list_800);\n",
    "generate_hyperparameters('DeepLearning',keys_dl, '800', list_800);\n",
    "generate_hyperparameters('DRF',keys_drf, '800', list_800);"
   ]
  },
  {
   "cell_type": "code",
   "execution_count": 65,
   "metadata": {},
   "outputs": [],
   "source": [
    "meta_data['end_time'] = time.time()"
   ]
  },
  {
   "cell_type": "code",
   "execution_count": 66,
   "metadata": {},
   "outputs": [
    {
     "data": {
      "text/plain": [
       "{'analysis': 0,\n",
       " 'balance': False,\n",
       " 'balance_threshold': 0.2,\n",
       " 'data_path': None,\n",
       " 'end_time': 1556286932.8800838,\n",
       " 'end_time_sec': 1556286091.311026,\n",
       " 'max_models': None,\n",
       " 'model_execution_time_sec': 838.9390437602997,\n",
       " 'model_path': None,\n",
       " 'nthreads': 1,\n",
       " 'project': None,\n",
       " 'run_id': 'Kj2dExOOv',\n",
       " 'run_path': None,\n",
       " 'run_time': 800,\n",
       " 'scale': False,\n",
       " 'server_path': None,\n",
       " 'start_time_sec': 1556286091.311026,\n",
       " 'variables': ['pickup_datetime',\n",
       "  'dropoff_datetime',\n",
       "  'passenger_count',\n",
       "  'pickup_longitude',\n",
       "  'pickup_latitude',\n",
       "  'dropoff_longitude',\n",
       "  'dropoff_latitude',\n",
       "  'trip_duration',\n",
       "  'haversine_distance',\n",
       "  'store_and_fwd_flag_Y']}"
      ]
     },
     "execution_count": 66,
     "metadata": {},
     "output_type": "execute_result"
    }
   ],
   "source": [
    "meta_data"
   ]
  },
  {
   "cell_type": "markdown",
   "metadata": {},
   "source": [
    "## VARIABLE IMPORTANCE¶"
   ]
  },
  {
   "cell_type": "code",
   "execution_count": 67,
   "metadata": {},
   "outputs": [],
   "source": [
    "mod_best_XGB_800=h2o.get_model(model_set[2])\n",
    "vi_xgb800 = mod_best_XGB_800.varimp(use_pandas = True)\n",
    "n=run_id+'_variableImportanceXGB800_.json'\n",
    "vi_xgb800.to_csv(run_id+'_variableImportanceXGB800_.csv', index=False)\n",
    "vi_xgb800 = vi_xgb800.to_dict('dict')\n",
    "dict_to_json(vi_xgb800,n,'a')"
   ]
  },
  {
   "cell_type": "code",
   "execution_count": 68,
   "metadata": {},
   "outputs": [],
   "source": [
    "n=run_id+'_800_meta_data.json'\n",
    "dict_to_json(meta_data,n,'a')"
   ]
  },
  {
   "cell_type": "markdown",
   "metadata": {},
   "source": [
    "### REPEATING THE SAME FOR 1500 SECONDS RUNTIME¶"
   ]
  },
  {
   "cell_type": "code",
   "execution_count": 69,
   "metadata": {},
   "outputs": [
    {
     "name": "stdout",
     "output_type": "stream",
     "text": [
      "{'project': None, 'run_time': 1500, 'run_id': 'Kj2dExOOv', 'start_time_sec': 1556286933.3817422, 'balance': False, 'balance_threshold': 0.2, 'max_models': None, 'scale': False, 'model_path': None, 'server_path': None, 'data_path': None, 'run_path': None, 'nthreads': 1, 'analysis': 0, 'end_time_sec': 1556286933.3817422}\n"
     ]
    }
   ],
   "source": [
    "run_time = 1500\n",
    "meta_data =set_meta_data(analysis, run_id,server_path,data_path,model_path,run_time,scale,max_models,balance_y,balance_threshold,name,run_dir,nthreads,min_mem_size)\n",
    "print(meta_data)"
   ]
  },
  {
   "cell_type": "code",
   "execution_count": 70,
   "metadata": {},
   "outputs": [],
   "source": [
    "model_start_time = time.time()"
   ]
  },
  {
   "cell_type": "code",
   "execution_count": 71,
   "metadata": {},
   "outputs": [],
   "source": [
    "meta_data['variables']=X"
   ]
  },
  {
   "cell_type": "code",
   "execution_count": 72,
   "metadata": {},
   "outputs": [
    {
     "name": "stdout",
     "output_type": "stream",
     "text": [
      "AutoML progress: |████████████████████████████████████████████████████████| 100%\n"
     ]
    }
   ],
   "source": [
    "aml_1500 = H2OAutoML(max_runtime_secs=1500,project_name = project) # init automl, run for 1500 seconds\n",
    "aml_1500.train(x=X,  \n",
    "           y=y,\n",
    "           training_frame=training)"
   ]
  },
  {
   "cell_type": "code",
   "execution_count": 73,
   "metadata": {},
   "outputs": [
    {
     "data": {
      "text/html": [
       "<table>\n",
       "<thead>\n",
       "<tr><th>model_id                                           </th><th style=\"text-align: right;\">  mean_residual_deviance</th><th style=\"text-align: right;\">    rmse</th><th style=\"text-align: right;\">     mse</th><th style=\"text-align: right;\">     mae</th><th style=\"text-align: right;\">   rmsle</th></tr>\n",
       "</thead>\n",
       "<tbody>\n",
       "<tr><td>GBM_5_AutoML_20190426_095533                       </td><td style=\"text-align: right;\">                0.223324</td><td style=\"text-align: right;\">0.472572</td><td style=\"text-align: right;\">0.223324</td><td style=\"text-align: right;\">0.448407</td><td style=\"text-align: right;\">0.192624</td></tr>\n",
       "<tr><td>GBM_4_AutoML_20190426_095533                       </td><td style=\"text-align: right;\">                0.223635</td><td style=\"text-align: right;\">0.472901</td><td style=\"text-align: right;\">0.223635</td><td style=\"text-align: right;\">0.448394</td><td style=\"text-align: right;\">0.192731</td></tr>\n",
       "<tr><td>StackedEnsemble_AllModels_AutoML_20190426_094131   </td><td style=\"text-align: right;\">                0.223692</td><td style=\"text-align: right;\">0.472961</td><td style=\"text-align: right;\">0.223692</td><td style=\"text-align: right;\">0.448358</td><td style=\"text-align: right;\">0.192721</td></tr>\n",
       "<tr><td>StackedEnsemble_BestOfFamily_AutoML_20190426_094131</td><td style=\"text-align: right;\">                0.223703</td><td style=\"text-align: right;\">0.472972</td><td style=\"text-align: right;\">0.223703</td><td style=\"text-align: right;\">0.448336</td><td style=\"text-align: right;\">0.192725</td></tr>\n",
       "<tr><td>DRF_1_AutoML_20190426_094131                       </td><td style=\"text-align: right;\">                0.223825</td><td style=\"text-align: right;\">0.473101</td><td style=\"text-align: right;\">0.223825</td><td style=\"text-align: right;\">0.449427</td><td style=\"text-align: right;\">0.192833</td></tr>\n",
       "<tr><td>DRF_1_AutoML_20190426_095533                       </td><td style=\"text-align: right;\">                0.223836</td><td style=\"text-align: right;\">0.473113</td><td style=\"text-align: right;\">0.223836</td><td style=\"text-align: right;\">0.449319</td><td style=\"text-align: right;\">0.192828</td></tr>\n",
       "<tr><td>GBM_3_AutoML_20190426_095533                       </td><td style=\"text-align: right;\">                0.223913</td><td style=\"text-align: right;\">0.473194</td><td style=\"text-align: right;\">0.223913</td><td style=\"text-align: right;\">0.448871</td><td style=\"text-align: right;\">0.192848</td></tr>\n",
       "<tr><td>GBM_3_AutoML_20190426_094131                       </td><td style=\"text-align: right;\">                0.223946</td><td style=\"text-align: right;\">0.473229</td><td style=\"text-align: right;\">0.223946</td><td style=\"text-align: right;\">0.4495  </td><td style=\"text-align: right;\">0.192883</td></tr>\n",
       "<tr><td>GBM_2_AutoML_20190426_094131                       </td><td style=\"text-align: right;\">                0.224033</td><td style=\"text-align: right;\">0.473321</td><td style=\"text-align: right;\">0.224033</td><td style=\"text-align: right;\">0.449157</td><td style=\"text-align: right;\">0.192899</td></tr>\n",
       "<tr><td>GBM_2_AutoML_20190426_095533                       </td><td style=\"text-align: right;\">                0.224037</td><td style=\"text-align: right;\">0.473326</td><td style=\"text-align: right;\">0.224037</td><td style=\"text-align: right;\">0.449204</td><td style=\"text-align: right;\">0.192909</td></tr>\n",
       "<tr><td>GBM_1_AutoML_20190426_094131                       </td><td style=\"text-align: right;\">                0.224132</td><td style=\"text-align: right;\">0.473426</td><td style=\"text-align: right;\">0.224132</td><td style=\"text-align: right;\">0.449303</td><td style=\"text-align: right;\">0.192949</td></tr>\n",
       "<tr><td>GBM_1_AutoML_20190426_095533                       </td><td style=\"text-align: right;\">                0.224156</td><td style=\"text-align: right;\">0.473451</td><td style=\"text-align: right;\">0.224156</td><td style=\"text-align: right;\">0.449304</td><td style=\"text-align: right;\">0.192951</td></tr>\n",
       "<tr><td>GBM_4_AutoML_20190426_094131                       </td><td style=\"text-align: right;\">                0.224456</td><td style=\"text-align: right;\">0.473767</td><td style=\"text-align: right;\">0.224456</td><td style=\"text-align: right;\">0.454978</td><td style=\"text-align: right;\">0.193247</td></tr>\n",
       "<tr><td>DeepLearning_1_AutoML_20190426_095533              </td><td style=\"text-align: right;\">                0.224992</td><td style=\"text-align: right;\">0.474333</td><td style=\"text-align: right;\">0.224992</td><td style=\"text-align: right;\">0.451958</td><td style=\"text-align: right;\">0.193209</td></tr>\n",
       "<tr><td>GLM_grid_1_AutoML_20190426_095533_model_1          </td><td style=\"text-align: right;\">                0.226595</td><td style=\"text-align: right;\">0.47602 </td><td style=\"text-align: right;\">0.226595</td><td style=\"text-align: right;\">0.454174</td><td style=\"text-align: right;\">0.194021</td></tr>\n",
       "<tr><td>GLM_grid_1_AutoML_20190426_094131_model_1          </td><td style=\"text-align: right;\">                0.226595</td><td style=\"text-align: right;\">0.47602 </td><td style=\"text-align: right;\">0.226595</td><td style=\"text-align: right;\">0.454174</td><td style=\"text-align: right;\">0.194021</td></tr>\n",
       "</tbody>\n",
       "</table>"
      ]
     },
     "metadata": {},
     "output_type": "display_data"
    },
    {
     "data": {
      "text/plain": []
     },
     "execution_count": 73,
     "metadata": {},
     "output_type": "execute_result"
    }
   ],
   "source": [
    "leaderboard_1500 = aml_1500.leaderboard\n",
    "leaderboard_1500.head(50)"
   ]
  },
  {
   "cell_type": "code",
   "execution_count": 74,
   "metadata": {},
   "outputs": [
    {
     "name": "stdout",
     "output_type": "stream",
     "text": [
      "Execution time for  1500 sec =   1504.9285984039307\n"
     ]
    }
   ],
   "source": [
    "execution_time =  time.time() - model_start_time\n",
    "meta_data['model_execution_time_sec'] = execution_time\n",
    "print(\"Execution time for \", run_time,\"sec =  \",meta_data['model_execution_time_sec'])"
   ]
  },
  {
   "cell_type": "code",
   "execution_count": 75,
   "metadata": {},
   "outputs": [],
   "source": [
    "aml_1500_leaderboard_df=aml_800.leaderboard.as_data_frame()\n",
    "leaderboard_stats=run_id+'_800_leaderboard.csv'\n",
    "aml_800_leaderboard_df.to_csv(leaderboard_stats)"
   ]
  },
  {
   "cell_type": "markdown",
   "metadata": {},
   "source": [
    "#### IMPORTING THE LEADERBOARD AS A DATAFRAME"
   ]
  },
  {
   "cell_type": "code",
   "execution_count": 76,
   "metadata": {},
   "outputs": [],
   "source": [
    "list_1500 = leaderboard.as_data_frame(use_pandas=True).as_matrix()[:,0].tolist()"
   ]
  },
  {
   "cell_type": "code",
   "execution_count": 77,
   "metadata": {},
   "outputs": [
    {
     "name": "stdout",
     "output_type": "stream",
     "text": [
      "Model Details\n",
      "=============\n",
      "H2OGradientBoostingEstimator :  Gradient Boosting Machine\n",
      "Model Key:  GBM_5_AutoML_20190426_095533\n",
      "\n",
      "\n",
      "ModelMetricsRegression: gbm\n",
      "** Reported on train data. **\n",
      "\n",
      "MSE: 0.219796246490311\n",
      "RMSE: 0.4688243236973856\n",
      "MAE: 0.44477185759041005\n",
      "RMSLE: 0.19114905557545775\n",
      "Mean Residual Deviance: 0.219796246490311\n",
      "\n",
      "ModelMetricsRegression: gbm\n",
      "** Reported on cross-validation data. **\n",
      "\n",
      "MSE: 0.22332445107094384\n",
      "RMSE: 0.4725721649345673\n",
      "MAE: 0.4484068068651467\n",
      "RMSLE: 0.19262405607199493\n",
      "Mean Residual Deviance: 0.22332445107094384\n",
      "Cross-Validation Metrics Summary: \n"
     ]
    },
    {
     "data": {
      "text/html": [
       "<div style=\"overflow:auto\"><table style=\"width:50%\"><tr><td><b></b></td>\n",
       "<td><b>mean</b></td>\n",
       "<td><b>sd</b></td>\n",
       "<td><b>cv_1_valid</b></td>\n",
       "<td><b>cv_2_valid</b></td>\n",
       "<td><b>cv_3_valid</b></td>\n",
       "<td><b>cv_4_valid</b></td>\n",
       "<td><b>cv_5_valid</b></td></tr>\n",
       "<tr><td>mae</td>\n",
       "<td>0.4484068</td>\n",
       "<td>0.0002863</td>\n",
       "<td>0.4487317</td>\n",
       "<td>0.4479163</td>\n",
       "<td>0.4480033</td>\n",
       "<td>0.4489640</td>\n",
       "<td>0.4484186</td></tr>\n",
       "<tr><td>mean_residual_deviance</td>\n",
       "<td>0.2233245</td>\n",
       "<td>0.0001538</td>\n",
       "<td>0.2234878</td>\n",
       "<td>0.2229824</td>\n",
       "<td>0.2231952</td>\n",
       "<td>0.2235980</td>\n",
       "<td>0.2233588</td></tr>\n",
       "<tr><td>mse</td>\n",
       "<td>0.2233245</td>\n",
       "<td>0.0001538</td>\n",
       "<td>0.2234878</td>\n",
       "<td>0.2229824</td>\n",
       "<td>0.2231952</td>\n",
       "<td>0.2235980</td>\n",
       "<td>0.2233588</td></tr>\n",
       "<tr><td>r2</td>\n",
       "<td>0.1023148</td>\n",
       "<td>0.0005924</td>\n",
       "<td>0.1018118</td>\n",
       "<td>0.1036522</td>\n",
       "<td>0.1026576</td>\n",
       "<td>0.1011529</td>\n",
       "<td>0.1022997</td></tr>\n",
       "<tr><td>residual_deviance</td>\n",
       "<td>0.2233245</td>\n",
       "<td>0.0001538</td>\n",
       "<td>0.2234878</td>\n",
       "<td>0.2229824</td>\n",
       "<td>0.2231952</td>\n",
       "<td>0.2235980</td>\n",
       "<td>0.2233588</td></tr>\n",
       "<tr><td>rmse</td>\n",
       "<td>0.4725721</td>\n",
       "<td>0.0001627</td>\n",
       "<td>0.4727450</td>\n",
       "<td>0.4722101</td>\n",
       "<td>0.4724354</td>\n",
       "<td>0.4728615</td>\n",
       "<td>0.4726085</td></tr>\n",
       "<tr><td>rmsle</td>\n",
       "<td>0.1926240</td>\n",
       "<td>0.0000650</td>\n",
       "<td>0.1927038</td>\n",
       "<td>0.1924778</td>\n",
       "<td>0.1925560</td>\n",
       "<td>0.1927119</td>\n",
       "<td>0.1926706</td></tr></table></div>"
      ],
      "text/plain": [
       "                        mean      sd           cv_1_valid    cv_2_valid    cv_3_valid    cv_4_valid    cv_5_valid\n",
       "----------------------  --------  -----------  ------------  ------------  ------------  ------------  ------------\n",
       "mae                     0.448407  0.000286292  0.448732      0.447916      0.448003      0.448964      0.448419\n",
       "mean_residual_deviance  0.223324  0.000153777  0.223488      0.222982      0.223195      0.223598      0.223359\n",
       "mse                     0.223324  0.000153777  0.223488      0.222982      0.223195      0.223598      0.223359\n",
       "r2                      0.102315  0.000592398  0.101812      0.103652      0.102658      0.101153      0.1023\n",
       "residual_deviance       0.223324  0.000153777  0.223488      0.222982      0.223195      0.223598      0.223359\n",
       "rmse                    0.472572  0.000162715  0.472745      0.47221       0.472435      0.472862      0.472609\n",
       "rmsle                   0.192624  6.50012e-05  0.192704      0.192478      0.192556      0.192712      0.192671"
      ]
     },
     "metadata": {},
     "output_type": "display_data"
    },
    {
     "name": "stdout",
     "output_type": "stream",
     "text": [
      "Scoring History: \n"
     ]
    },
    {
     "data": {
      "text/html": [
       "<div style=\"overflow:auto\"><table style=\"width:50%\"><tr><td><b></b></td>\n",
       "<td><b>timestamp</b></td>\n",
       "<td><b>duration</b></td>\n",
       "<td><b>number_of_trees</b></td>\n",
       "<td><b>training_rmse</b></td>\n",
       "<td><b>training_mae</b></td>\n",
       "<td><b>training_deviance</b></td></tr>\n",
       "<tr><td></td>\n",
       "<td>2019-04-26 10:13:21</td>\n",
       "<td> 3 min 14.401 sec</td>\n",
       "<td>0.0</td>\n",
       "<td>0.4987769</td>\n",
       "<td>0.4975568</td>\n",
       "<td>0.2487784</td></tr>\n",
       "<tr><td></td>\n",
       "<td>2019-04-26 10:13:24</td>\n",
       "<td> 3 min 17.511 sec</td>\n",
       "<td>5.0</td>\n",
       "<td>0.4888912</td>\n",
       "<td>0.4865718</td>\n",
       "<td>0.2390146</td></tr>\n",
       "<tr><td></td>\n",
       "<td>2019-04-26 10:13:27</td>\n",
       "<td> 3 min 20.463 sec</td>\n",
       "<td>10.0</td>\n",
       "<td>0.4806431</td>\n",
       "<td>0.4751513</td>\n",
       "<td>0.2310178</td></tr>\n",
       "<tr><td></td>\n",
       "<td>2019-04-26 10:13:30</td>\n",
       "<td> 3 min 23.128 sec</td>\n",
       "<td>15.0</td>\n",
       "<td>0.4760576</td>\n",
       "<td>0.4667190</td>\n",
       "<td>0.2266308</td></tr>\n",
       "<tr><td></td>\n",
       "<td>2019-04-26 10:13:33</td>\n",
       "<td> 3 min 26.260 sec</td>\n",
       "<td>20.0</td>\n",
       "<td>0.4728399</td>\n",
       "<td>0.4590518</td>\n",
       "<td>0.2235775</td></tr>\n",
       "<tr><td></td>\n",
       "<td>2019-04-26 10:13:34</td>\n",
       "<td> 3 min 27.994 sec</td>\n",
       "<td>25.0</td>\n",
       "<td>0.4722405</td>\n",
       "<td>0.4573507</td>\n",
       "<td>0.2230111</td></tr>\n",
       "<tr><td></td>\n",
       "<td>2019-04-26 10:13:37</td>\n",
       "<td> 3 min 31.062 sec</td>\n",
       "<td>30.0</td>\n",
       "<td>0.4707477</td>\n",
       "<td>0.4526349</td>\n",
       "<td>0.2216034</td></tr>\n",
       "<tr><td></td>\n",
       "<td>2019-04-26 10:13:40</td>\n",
       "<td> 3 min 33.804 sec</td>\n",
       "<td>35.0</td>\n",
       "<td>0.4698152</td>\n",
       "<td>0.4489757</td>\n",
       "<td>0.2207263</td></tr>\n",
       "<tr><td></td>\n",
       "<td>2019-04-26 10:13:43</td>\n",
       "<td> 3 min 36.813 sec</td>\n",
       "<td>40.0</td>\n",
       "<td>0.4693004</td>\n",
       "<td>0.4469077</td>\n",
       "<td>0.2202428</td></tr>\n",
       "<tr><td></td>\n",
       "<td>2019-04-26 10:13:46</td>\n",
       "<td> 3 min 39.354 sec</td>\n",
       "<td>45.0</td>\n",
       "<td>0.4690099</td>\n",
       "<td>0.4455993</td>\n",
       "<td>0.2199703</td></tr>\n",
       "<tr><td></td>\n",
       "<td>2019-04-26 10:13:47</td>\n",
       "<td> 3 min 40.818 sec</td>\n",
       "<td>50.0</td>\n",
       "<td>0.4689210</td>\n",
       "<td>0.4451641</td>\n",
       "<td>0.2198870</td></tr>\n",
       "<tr><td></td>\n",
       "<td>2019-04-26 10:13:48</td>\n",
       "<td> 3 min 41.869 sec</td>\n",
       "<td>55.0</td>\n",
       "<td>0.4688243</td>\n",
       "<td>0.4447719</td>\n",
       "<td>0.2197962</td></tr></table></div>"
      ],
      "text/plain": [
       "    timestamp            duration          number_of_trees    training_rmse    training_mae    training_deviance\n",
       "--  -------------------  ----------------  -----------------  ---------------  --------------  -------------------\n",
       "    2019-04-26 10:13:21  3 min 14.401 sec  0                  0.498777         0.497557        0.248778\n",
       "    2019-04-26 10:13:24  3 min 17.511 sec  5                  0.488891         0.486572        0.239015\n",
       "    2019-04-26 10:13:27  3 min 20.463 sec  10                 0.480643         0.475151        0.231018\n",
       "    2019-04-26 10:13:30  3 min 23.128 sec  15                 0.476058         0.466719        0.226631\n",
       "    2019-04-26 10:13:33  3 min 26.260 sec  20                 0.47284          0.459052        0.223578\n",
       "    2019-04-26 10:13:34  3 min 27.994 sec  25                 0.47224          0.457351        0.223011\n",
       "    2019-04-26 10:13:37  3 min 31.062 sec  30                 0.470748         0.452635        0.221603\n",
       "    2019-04-26 10:13:40  3 min 33.804 sec  35                 0.469815         0.448976        0.220726\n",
       "    2019-04-26 10:13:43  3 min 36.813 sec  40                 0.4693           0.446908        0.220243\n",
       "    2019-04-26 10:13:46  3 min 39.354 sec  45                 0.46901          0.445599        0.21997\n",
       "    2019-04-26 10:13:47  3 min 40.818 sec  50                 0.468921         0.445164        0.219887\n",
       "    2019-04-26 10:13:48  3 min 41.869 sec  55                 0.468824         0.444772        0.219796"
      ]
     },
     "metadata": {},
     "output_type": "display_data"
    },
    {
     "name": "stdout",
     "output_type": "stream",
     "text": [
      "Variable Importances: \n"
     ]
    },
    {
     "data": {
      "text/html": [
       "<div style=\"overflow:auto\"><table style=\"width:50%\"><tr><td><b>variable</b></td>\n",
       "<td><b>relative_importance</b></td>\n",
       "<td><b>scaled_importance</b></td>\n",
       "<td><b>percentage</b></td></tr>\n",
       "<tr><td>passenger_count</td>\n",
       "<td>150082.2343750</td>\n",
       "<td>1.0</td>\n",
       "<td>0.7472543</td></tr>\n",
       "<tr><td>store_and_fwd_flag_Y</td>\n",
       "<td>10619.4228516</td>\n",
       "<td>0.0707574</td>\n",
       "<td>0.0528737</td></tr>\n",
       "<tr><td>trip_duration</td>\n",
       "<td>8679.7285156</td>\n",
       "<td>0.0578332</td>\n",
       "<td>0.0432161</td></tr>\n",
       "<tr><td>pickup_datetime</td>\n",
       "<td>6008.7021484</td>\n",
       "<td>0.0400361</td>\n",
       "<td>0.0299171</td></tr>\n",
       "<tr><td>haversine_distance</td>\n",
       "<td>5446.4306641</td>\n",
       "<td>0.0362896</td>\n",
       "<td>0.0271176</td></tr>\n",
       "<tr><td>dropoff_datetime</td>\n",
       "<td>5019.7216797</td>\n",
       "<td>0.0334465</td>\n",
       "<td>0.0249930</td></tr>\n",
       "<tr><td>pickup_latitude</td>\n",
       "<td>4126.1240234</td>\n",
       "<td>0.0274924</td>\n",
       "<td>0.0205438</td></tr>\n",
       "<tr><td>pickup_longitude</td>\n",
       "<td>4073.6606445</td>\n",
       "<td>0.0271429</td>\n",
       "<td>0.0202826</td></tr>\n",
       "<tr><td>dropoff_longitude</td>\n",
       "<td>3535.2238770</td>\n",
       "<td>0.0235552</td>\n",
       "<td>0.0176018</td></tr>\n",
       "<tr><td>dropoff_latitude</td>\n",
       "<td>3253.6867676</td>\n",
       "<td>0.0216794</td>\n",
       "<td>0.0162000</td></tr></table></div>"
      ],
      "text/plain": [
       "variable              relative_importance    scaled_importance    percentage\n",
       "--------------------  ---------------------  -------------------  ------------\n",
       "passenger_count       150082                 1                    0.747254\n",
       "store_and_fwd_flag_Y  10619.4                0.0707574            0.0528737\n",
       "trip_duration         8679.73                0.0578332            0.0432161\n",
       "pickup_datetime       6008.7                 0.0400361            0.0299171\n",
       "haversine_distance    5446.43                0.0362896            0.0271176\n",
       "dropoff_datetime      5019.72                0.0334465            0.024993\n",
       "pickup_latitude       4126.12                0.0274924            0.0205438\n",
       "pickup_longitude      4073.66                0.0271429            0.0202826\n",
       "dropoff_longitude     3535.22                0.0235552            0.0176018\n",
       "dropoff_latitude      3253.69                0.0216794            0.0162"
      ]
     },
     "metadata": {},
     "output_type": "display_data"
    },
    {
     "data": {
      "text/plain": []
     },
     "execution_count": 77,
     "metadata": {},
     "output_type": "execute_result"
    }
   ],
   "source": [
    "aml_1500leaderboard_df=aml_1500.leaderboard.as_data_frame()\n",
    "model_set=aml_1500leaderboard_df['model_id']\n",
    "mod_best1500=h2o.get_model(model_set[0])\n",
    "mod_best1500.algo\n",
    "mod_best1500\n"
   ]
  },
  {
   "cell_type": "markdown",
   "metadata": {},
   "source": [
    "#### PARAMETERS OF top model SINCE STACKED ENSEMBLE DOESN'T HAVE ANY HYPERPARAMETERS OF ITS OWN"
   ]
  },
  {
   "cell_type": "code",
   "execution_count": 78,
   "metadata": {},
   "outputs": [
    {
     "data": {
      "text/plain": [
       "{'balance_classes': {'actual': False, 'default': False},\n",
       " 'build_tree_one_node': {'actual': False, 'default': False},\n",
       " 'calibrate_model': {'actual': False, 'default': False},\n",
       " 'calibration_frame': {'actual': None, 'default': None},\n",
       " 'categorical_encoding': {'actual': 'AUTO', 'default': 'AUTO'},\n",
       " 'check_constant_response': {'actual': True, 'default': True},\n",
       " 'checkpoint': {'actual': None, 'default': None},\n",
       " 'class_sampling_factors': {'actual': None, 'default': None},\n",
       " 'col_sample_rate': {'actual': 0.8, 'default': 1.0},\n",
       " 'col_sample_rate_change_per_level': {'actual': 1.0, 'default': 1.0},\n",
       " 'col_sample_rate_per_tree': {'actual': 0.8, 'default': 1.0},\n",
       " 'custom_metric_func': {'actual': None, 'default': None},\n",
       " 'distribution': {'actual': 'gaussian', 'default': 'AUTO'},\n",
       " 'export_checkpoints_dir': {'actual': None, 'default': None},\n",
       " 'fold_assignment': {'actual': 'Modulo', 'default': 'AUTO'},\n",
       " 'fold_column': {'actual': None, 'default': None},\n",
       " 'histogram_type': {'actual': 'AUTO', 'default': 'AUTO'},\n",
       " 'huber_alpha': {'actual': 0.9, 'default': 0.9},\n",
       " 'ignore_const_cols': {'actual': True, 'default': True},\n",
       " 'ignored_columns': {'actual': [], 'default': None},\n",
       " 'keep_cross_validation_fold_assignment': {'actual': False, 'default': False},\n",
       " 'keep_cross_validation_models': {'actual': False, 'default': True},\n",
       " 'keep_cross_validation_predictions': {'actual': True, 'default': False},\n",
       " 'learn_rate': {'actual': 0.1, 'default': 0.1},\n",
       " 'learn_rate_annealing': {'actual': 1.0, 'default': 1.0},\n",
       " 'max_abs_leafnode_pred': {'actual': 1.7976931348623157e+308,\n",
       "  'default': 1.7976931348623157e+308},\n",
       " 'max_after_balance_size': {'actual': 5.0, 'default': 5.0},\n",
       " 'max_confusion_matrix_size': {'actual': 20, 'default': 20},\n",
       " 'max_depth': {'actual': 15, 'default': 5},\n",
       " 'max_hit_ratio_k': {'actual': 0, 'default': 0},\n",
       " 'max_runtime_secs': {'actual': 0.0, 'default': 0.0},\n",
       " 'min_rows': {'actual': 100.0, 'default': 10.0},\n",
       " 'min_split_improvement': {'actual': 1e-05, 'default': 1e-05},\n",
       " 'model_id': {'actual': {'URL': '/3/Models/GBM_4_AutoML_20190426_095533',\n",
       "   '__meta': {'schema_name': 'ModelKeyV3',\n",
       "    'schema_type': 'Key<Model>',\n",
       "    'schema_version': 3},\n",
       "   'name': 'GBM_4_AutoML_20190426_095533',\n",
       "   'type': 'Key<Model>'},\n",
       "  'default': None},\n",
       " 'monotone_constraints': {'actual': None, 'default': None},\n",
       " 'nbins': {'actual': 20, 'default': 20},\n",
       " 'nbins_cats': {'actual': 1024, 'default': 1024},\n",
       " 'nbins_top_level': {'actual': 1024, 'default': 1024},\n",
       " 'nfolds': {'actual': 5, 'default': 0},\n",
       " 'ntrees': {'actual': 55, 'default': 50},\n",
       " 'offset_column': {'actual': None, 'default': None},\n",
       " 'pred_noise_bandwidth': {'actual': 0.0, 'default': 0.0},\n",
       " 'quantile_alpha': {'actual': 0.5, 'default': 0.5},\n",
       " 'r2_stopping': {'actual': 1.7976931348623157e+308,\n",
       "  'default': 1.7976931348623157e+308},\n",
       " 'response_column': {'actual': {'__meta': {'schema_name': 'ColSpecifierV3',\n",
       "    'schema_type': 'VecSpecifier',\n",
       "    'schema_version': 3},\n",
       "   'column_name': 'vendor_id',\n",
       "   'is_member_of_frames': None},\n",
       "  'default': None},\n",
       " 'sample_rate': {'actual': 0.8, 'default': 1.0},\n",
       " 'sample_rate_per_class': {'actual': None, 'default': None},\n",
       " 'score_each_iteration': {'actual': False, 'default': False},\n",
       " 'score_tree_interval': {'actual': 5, 'default': 0},\n",
       " 'seed': {'actual': -2497709711160533768, 'default': -1},\n",
       " 'stopping_metric': {'actual': 'deviance', 'default': 'AUTO'},\n",
       " 'stopping_rounds': {'actual': 0, 'default': 0},\n",
       " 'stopping_tolerance': {'actual': 0.001, 'default': 0.001},\n",
       " 'training_frame': {'actual': {'URL': '/3/Frames/automl_training_training_data.hex',\n",
       "   '__meta': {'schema_name': 'FrameKeyV3',\n",
       "    'schema_type': 'Key<Frame>',\n",
       "    'schema_version': 3},\n",
       "   'name': 'automl_training_training_data.hex',\n",
       "   'type': 'Key<Frame>'},\n",
       "  'default': None},\n",
       " 'tweedie_power': {'actual': 1.5, 'default': 1.5},\n",
       " 'validation_frame': {'actual': None, 'default': None},\n",
       " 'weights_column': {'actual': None, 'default': None}}"
      ]
     },
     "execution_count": 78,
     "metadata": {},
     "output_type": "execute_result"
    }
   ],
   "source": [
    "h2o.get_model(model_set[1]).params"
   ]
  },
  {
   "cell_type": "markdown",
   "metadata": {},
   "source": [
    "#### PARAMETERS OF THE TOP MODEL (STACKED ENSEMBLE)"
   ]
  },
  {
   "cell_type": "code",
   "execution_count": 79,
   "metadata": {},
   "outputs": [
    {
     "data": {
      "text/plain": [
       "{'balance_classes': {'actual': False, 'default': False},\n",
       " 'build_tree_one_node': {'actual': False, 'default': False},\n",
       " 'calibrate_model': {'actual': False, 'default': False},\n",
       " 'calibration_frame': {'actual': None, 'default': None},\n",
       " 'categorical_encoding': {'actual': 'AUTO', 'default': 'AUTO'},\n",
       " 'check_constant_response': {'actual': True, 'default': True},\n",
       " 'checkpoint': {'actual': None, 'default': None},\n",
       " 'class_sampling_factors': {'actual': None, 'default': None},\n",
       " 'col_sample_rate': {'actual': 0.8, 'default': 1.0},\n",
       " 'col_sample_rate_change_per_level': {'actual': 1.0, 'default': 1.0},\n",
       " 'col_sample_rate_per_tree': {'actual': 0.8, 'default': 1.0},\n",
       " 'custom_metric_func': {'actual': None, 'default': None},\n",
       " 'distribution': {'actual': 'gaussian', 'default': 'AUTO'},\n",
       " 'export_checkpoints_dir': {'actual': None, 'default': None},\n",
       " 'fold_assignment': {'actual': 'Modulo', 'default': 'AUTO'},\n",
       " 'fold_column': {'actual': None, 'default': None},\n",
       " 'histogram_type': {'actual': 'AUTO', 'default': 'AUTO'},\n",
       " 'huber_alpha': {'actual': 0.9, 'default': 0.9},\n",
       " 'ignore_const_cols': {'actual': True, 'default': True},\n",
       " 'ignored_columns': {'actual': [], 'default': None},\n",
       " 'keep_cross_validation_fold_assignment': {'actual': False, 'default': False},\n",
       " 'keep_cross_validation_models': {'actual': False, 'default': True},\n",
       " 'keep_cross_validation_predictions': {'actual': True, 'default': False},\n",
       " 'learn_rate': {'actual': 0.1, 'default': 0.1},\n",
       " 'learn_rate_annealing': {'actual': 1.0, 'default': 1.0},\n",
       " 'max_abs_leafnode_pred': {'actual': 1.7976931348623157e+308,\n",
       "  'default': 1.7976931348623157e+308},\n",
       " 'max_after_balance_size': {'actual': 5.0, 'default': 5.0},\n",
       " 'max_confusion_matrix_size': {'actual': 20, 'default': 20},\n",
       " 'max_depth': {'actual': 15, 'default': 5},\n",
       " 'max_hit_ratio_k': {'actual': 0, 'default': 0},\n",
       " 'max_runtime_secs': {'actual': 0.0, 'default': 0.0},\n",
       " 'min_rows': {'actual': 100.0, 'default': 10.0},\n",
       " 'min_split_improvement': {'actual': 1e-05, 'default': 1e-05},\n",
       " 'model_id': {'actual': {'URL': '/3/Models/GBM_5_AutoML_20190426_095533',\n",
       "   '__meta': {'schema_name': 'ModelKeyV3',\n",
       "    'schema_type': 'Key<Model>',\n",
       "    'schema_version': 3},\n",
       "   'name': 'GBM_5_AutoML_20190426_095533',\n",
       "   'type': 'Key<Model>'},\n",
       "  'default': None},\n",
       " 'monotone_constraints': {'actual': None, 'default': None},\n",
       " 'nbins': {'actual': 20, 'default': 20},\n",
       " 'nbins_cats': {'actual': 1024, 'default': 1024},\n",
       " 'nbins_top_level': {'actual': 1024, 'default': 1024},\n",
       " 'nfolds': {'actual': 5, 'default': 0},\n",
       " 'ntrees': {'actual': 55, 'default': 50},\n",
       " 'offset_column': {'actual': None, 'default': None},\n",
       " 'pred_noise_bandwidth': {'actual': 0.0, 'default': 0.0},\n",
       " 'quantile_alpha': {'actual': 0.5, 'default': 0.5},\n",
       " 'r2_stopping': {'actual': 1.7976931348623157e+308,\n",
       "  'default': 1.7976931348623157e+308},\n",
       " 'response_column': {'actual': {'__meta': {'schema_name': 'ColSpecifierV3',\n",
       "    'schema_type': 'VecSpecifier',\n",
       "    'schema_version': 3},\n",
       "   'column_name': 'vendor_id',\n",
       "   'is_member_of_frames': None},\n",
       "  'default': None},\n",
       " 'sample_rate': {'actual': 0.8, 'default': 1.0},\n",
       " 'sample_rate_per_class': {'actual': None, 'default': None},\n",
       " 'score_each_iteration': {'actual': False, 'default': False},\n",
       " 'score_tree_interval': {'actual': 5, 'default': 0},\n",
       " 'seed': {'actual': -2497709711160533768, 'default': -1},\n",
       " 'stopping_metric': {'actual': 'deviance', 'default': 'AUTO'},\n",
       " 'stopping_rounds': {'actual': 0, 'default': 0},\n",
       " 'stopping_tolerance': {'actual': 0.001, 'default': 0.001},\n",
       " 'training_frame': {'actual': {'URL': '/3/Frames/automl_training_training_data.hex',\n",
       "   '__meta': {'schema_name': 'FrameKeyV3',\n",
       "    'schema_type': 'Key<Frame>',\n",
       "    'schema_version': 3},\n",
       "   'name': 'automl_training_training_data.hex',\n",
       "   'type': 'Key<Frame>'},\n",
       "  'default': None},\n",
       " 'tweedie_power': {'actual': 1.5, 'default': 1.5},\n",
       " 'validation_frame': {'actual': None, 'default': None},\n",
       " 'weights_column': {'actual': None, 'default': None}}"
      ]
     },
     "execution_count": 79,
     "metadata": {},
     "output_type": "execute_result"
    }
   ],
   "source": [
    "mod_best1500.params"
   ]
  },
  {
   "cell_type": "code",
   "execution_count": 80,
   "metadata": {},
   "outputs": [],
   "source": [
    "## Function for converting dictionary to json\n",
    "def dict_to_json(dct,n,m):\n",
    "  j = json.dumps(dct, indent=4)\n",
    "  f = open(n, m)\n",
    "  print(j, file=f)\n",
    "  f.close()\n",
    "\n",
    "## Function for converting files to csv\n",
    "def writeToFile(line,n,m):\n",
    "  f = open(n, m)\n",
    "  print(line, file=f)\n",
    "  f.close()"
   ]
  },
  {
   "cell_type": "markdown",
   "metadata": {},
   "source": [
    "#### GENERATE HYPERPARAMETERS FOR EVERY MODEL IN THE LEADER BOARD BY PASSING THE MODEL AND AN ARRAY OF HYPE"
   ]
  },
  {
   "cell_type": "code",
   "execution_count": 81,
   "metadata": {},
   "outputs": [],
   "source": [
    "def generate_hyperparameters(model, keys, run_time, list_runtime):\n",
    "    list = list_runtime;\n",
    "    head = \"Model Name,\"\n",
    "    for k in keys:\n",
    "        head = head + k+\"_default\"+\",\"+ k+\"_actual\"+\",\"\n",
    "    head = head[:-1]\n",
    "   # n1=run_id+'_hy_parameter_1500_XGBoost.csv'\n",
    "    n1=run_id+'_hy_parameter_'+run_time+'_'+model+'.csv';\n",
    "    writeToFile(head,n1,'w')\n",
    "\n",
    "    for algo in list:\n",
    "        if algo.startswith(model):\n",
    "           # print(algo)\n",
    "            mod = h2o.get_model(algo)\n",
    "            hy_parameter_1500 = mod.params\n",
    "            n=run_id+'_hy_parameter_'+run_time+'_'+model+'.json';\n",
    "            dict_to_json(hy_parameter_1500,n,'a')\n",
    "            mod.params\n",
    "\n",
    "            rec=algo+\",\"\n",
    "            for k in keys:\n",
    "                print(mod.params[k])\n",
    "                rec = rec + str(mod.params[k][\"default\"])+\",\"+str(mod.params[k][\"actual\"])+\",\"\n",
    "            rec = rec[:-1]\n",
    "            #print(rec)\n",
    "            writeToFile(rec,n1,'a')"
   ]
  },
  {
   "cell_type": "markdown",
   "metadata": {},
   "source": [
    "#### SPECIFYING THE HYPERPARAMETERS AND THE MODEL NAMES AND PASSING THEM THROUGH THE GENERATE HYPERPARAMETERS FUNCTION"
   ]
  },
  {
   "cell_type": "code",
   "execution_count": 82,
   "metadata": {},
   "outputs": [
    {
     "name": "stdout",
     "output_type": "stream",
     "text": [
      "{'default': 'AUTO', 'actual': 'AUTO'}\n",
      "{'default': 50, 'actual': 24}\n",
      "{'default': 5, 'actual': 15}\n",
      "{'default': 10.0, 'actual': 100.0}\n",
      "{'default': 0.1, 'actual': 0.1}\n",
      "{'default': 1.0, 'actual': 0.8}\n",
      "{'default': 1.0, 'actual': 0.8}\n",
      "{'default': 1.0, 'actual': 0.8}\n",
      "{'default': 1e-05, 'actual': 1e-05}\n",
      "{'default': 'AUTO', 'actual': 'AUTO'}\n",
      "{'default': 50, 'actual': 24}\n",
      "{'default': 5, 'actual': 15}\n",
      "{'default': 10.0, 'actual': 100.0}\n",
      "{'default': 0.1, 'actual': 0.1}\n",
      "{'default': 1.0, 'actual': 0.8}\n",
      "{'default': 1.0, 'actual': 0.8}\n",
      "{'default': 1.0, 'actual': 0.8}\n",
      "{'default': 1e-05, 'actual': 1e-05}\n",
      "{'default': 'AUTO', 'actual': 'AUTO'}\n",
      "{'default': 50, 'actual': 24}\n",
      "{'default': 5, 'actual': 15}\n",
      "{'default': 10.0, 'actual': 100.0}\n",
      "{'default': 0.1, 'actual': 0.1}\n",
      "{'default': 1.0, 'actual': 0.8}\n",
      "{'default': 1.0, 'actual': 0.8}\n",
      "{'default': 1.0, 'actual': 0.8}\n",
      "{'default': 1e-05, 'actual': 1e-05}\n",
      "{'default': 'AUTO', 'actual': 'AUTO'}\n",
      "{'default': 50, 'actual': 24}\n",
      "{'default': 5, 'actual': 15}\n",
      "{'default': 10.0, 'actual': 100.0}\n",
      "{'default': 0.1, 'actual': 0.1}\n",
      "{'default': 1.0, 'actual': 0.8}\n",
      "{'default': 1.0, 'actual': 0.8}\n",
      "{'default': 1.0, 'actual': 0.8}\n",
      "{'default': 1e-05, 'actual': 1e-05}\n",
      "{'default': None, 'actual': [0.0, 0.2, 0.4, 0.6, 0.8, 1.0]}\n",
      "{'default': 'MeanImputation', 'actual': 'MeanImputation'}\n",
      "{'default': -1, 'actual': -1}\n",
      "{'default': 'AUTO', 'actual': 'AUTO'}\n"
     ]
    }
   ],
   "source": [
    "generate_hyperparameters('XGBoost',keys_xgboost,'1500', list_1500);\n",
    "generate_hyperparameters('GBM',keys_gbm, '1500', list_1500);\n",
    "generate_hyperparameters('GLM',keys_glm, '1500', list_1500);\n",
    "generate_hyperparameters('DeepLearning',keys_dl, '1500', list_1500);\n",
    "generate_hyperparameters('DRF',keys_drf, '1500', list_1500);"
   ]
  },
  {
   "cell_type": "code",
   "execution_count": 83,
   "metadata": {},
   "outputs": [],
   "source": [
    "meta_data['end_time'] = time.time()"
   ]
  },
  {
   "cell_type": "code",
   "execution_count": 84,
   "metadata": {},
   "outputs": [
    {
     "data": {
      "text/plain": [
       "{'analysis': 0,\n",
       " 'balance': False,\n",
       " 'balance_threshold': 0.2,\n",
       " 'data_path': None,\n",
       " 'end_time': 1556288439.7639866,\n",
       " 'end_time_sec': 1556286933.3817422,\n",
       " 'max_models': None,\n",
       " 'model_execution_time_sec': 1504.9285984039307,\n",
       " 'model_path': None,\n",
       " 'nthreads': 1,\n",
       " 'project': None,\n",
       " 'run_id': 'Kj2dExOOv',\n",
       " 'run_path': None,\n",
       " 'run_time': 1500,\n",
       " 'scale': False,\n",
       " 'server_path': None,\n",
       " 'start_time_sec': 1556286933.3817422,\n",
       " 'variables': ['pickup_datetime',\n",
       "  'dropoff_datetime',\n",
       "  'passenger_count',\n",
       "  'pickup_longitude',\n",
       "  'pickup_latitude',\n",
       "  'dropoff_longitude',\n",
       "  'dropoff_latitude',\n",
       "  'trip_duration',\n",
       "  'haversine_distance',\n",
       "  'store_and_fwd_flag_Y']}"
      ]
     },
     "execution_count": 84,
     "metadata": {},
     "output_type": "execute_result"
    }
   ],
   "source": [
    "meta_data"
   ]
  },
  {
   "cell_type": "markdown",
   "metadata": {},
   "source": [
    "#### VARIABLE IMPORTANCE"
   ]
  },
  {
   "cell_type": "code",
   "execution_count": 85,
   "metadata": {},
   "outputs": [],
   "source": [
    "mod_best_DRF_1500=h2o.get_model(model_set[1])\n",
    "vi_drf1500 = mod_best_DRF_1500.varimp(use_pandas = True)\n",
    "n=run_id+'_variableImportanceDRF1500_.json'\n",
    "vi_drf1500.to_csv(run_id+'_variableImportanceDRF1500_.csv', index=False)\n",
    "vi_drf1500 = vi_drf1500.to_dict('dict')\n",
    "dict_to_json(vi_drf1500,n,'a')"
   ]
  },
  {
   "cell_type": "code",
   "execution_count": 86,
   "metadata": {},
   "outputs": [],
   "source": [
    "n=run_id+'_1500_meta_data.json'\n",
    "dict_to_json(meta_data,n,'a')"
   ]
  },
  {
   "cell_type": "markdown",
   "metadata": {},
   "source": [
    "### RUNNING H2O AUTOML FOR 2000 SECS MAXIMUM RUNTIME"
   ]
  },
  {
   "cell_type": "markdown",
   "metadata": {},
   "source": [
    "#### PUTTING ALL THE INDEPENDET VARIABLES IN THE META DATA"
   ]
  },
  {
   "cell_type": "code",
   "execution_count": 87,
   "metadata": {},
   "outputs": [],
   "source": [
    "\n",
    "model_start_time = time.time()"
   ]
  },
  {
   "cell_type": "code",
   "execution_count": 88,
   "metadata": {},
   "outputs": [],
   "source": [
    "meta_data['variables']=X"
   ]
  },
  {
   "cell_type": "code",
   "execution_count": 89,
   "metadata": {},
   "outputs": [],
   "source": [
    "import os"
   ]
  },
  {
   "cell_type": "code",
   "execution_count": 90,
   "metadata": {
    "scrolled": true
   },
   "outputs": [
    {
     "name": "stdout",
     "output_type": "stream",
     "text": [
      "AutoML progress: |████████████████████████████████████████████████████████| 100%\n"
     ]
    }
   ],
   "source": [
    "aml_2000 = H2OAutoML(max_runtime_secs=2000,project_name = project) # init automl, run for 800 seconds\n",
    "aml_2000.train(x=X,  \n",
    "           y=y,\n",
    "           training_frame=training)"
   ]
  },
  {
   "cell_type": "code",
   "execution_count": 91,
   "metadata": {
    "scrolled": false
   },
   "outputs": [
    {
     "data": {
      "text/html": [
       "<table>\n",
       "<thead>\n",
       "<tr><th>model_id                                           </th><th style=\"text-align: right;\">  mean_residual_deviance</th><th style=\"text-align: right;\">    rmse</th><th style=\"text-align: right;\">     mse</th><th style=\"text-align: right;\">     mae</th><th style=\"text-align: right;\">     rmsle</th></tr>\n",
       "</thead>\n",
       "<tbody>\n",
       "<tr><td>GBM_5_AutoML_20190426_095533                       </td><td style=\"text-align: right;\">                0.223324</td><td style=\"text-align: right;\">0.472572</td><td style=\"text-align: right;\">0.223324</td><td style=\"text-align: right;\">0.448407</td><td style=\"text-align: right;\">  0.192624</td></tr>\n",
       "<tr><td>GBM_5_AutoML_20190426_102040                       </td><td style=\"text-align: right;\">                0.223343</td><td style=\"text-align: right;\">0.472592</td><td style=\"text-align: right;\">0.223343</td><td style=\"text-align: right;\">0.447742</td><td style=\"text-align: right;\">  0.192605</td></tr>\n",
       "<tr><td>GBM_4_AutoML_20190426_102040                       </td><td style=\"text-align: right;\">                0.223634</td><td style=\"text-align: right;\">0.4729  </td><td style=\"text-align: right;\">0.223634</td><td style=\"text-align: right;\">0.448693</td><td style=\"text-align: right;\">  0.192742</td></tr>\n",
       "<tr><td>GBM_4_AutoML_20190426_095533                       </td><td style=\"text-align: right;\">                0.223635</td><td style=\"text-align: right;\">0.472901</td><td style=\"text-align: right;\">0.223635</td><td style=\"text-align: right;\">0.448394</td><td style=\"text-align: right;\">  0.192731</td></tr>\n",
       "<tr><td>StackedEnsemble_AllModels_AutoML_20190426_094131   </td><td style=\"text-align: right;\">                0.223692</td><td style=\"text-align: right;\">0.472961</td><td style=\"text-align: right;\">0.223692</td><td style=\"text-align: right;\">0.448358</td><td style=\"text-align: right;\">  0.192721</td></tr>\n",
       "<tr><td>StackedEnsemble_BestOfFamily_AutoML_20190426_094131</td><td style=\"text-align: right;\">                0.223703</td><td style=\"text-align: right;\">0.472972</td><td style=\"text-align: right;\">0.223703</td><td style=\"text-align: right;\">0.448336</td><td style=\"text-align: right;\">  0.192725</td></tr>\n",
       "<tr><td>DRF_1_AutoML_20190426_102040                       </td><td style=\"text-align: right;\">                0.223808</td><td style=\"text-align: right;\">0.473083</td><td style=\"text-align: right;\">0.223808</td><td style=\"text-align: right;\">0.448514</td><td style=\"text-align: right;\">  0.192796</td></tr>\n",
       "<tr><td>DRF_1_AutoML_20190426_094131                       </td><td style=\"text-align: right;\">                0.223825</td><td style=\"text-align: right;\">0.473101</td><td style=\"text-align: right;\">0.223825</td><td style=\"text-align: right;\">0.449427</td><td style=\"text-align: right;\">  0.192833</td></tr>\n",
       "<tr><td>DRF_1_AutoML_20190426_095533                       </td><td style=\"text-align: right;\">                0.223836</td><td style=\"text-align: right;\">0.473113</td><td style=\"text-align: right;\">0.223836</td><td style=\"text-align: right;\">0.449319</td><td style=\"text-align: right;\">  0.192828</td></tr>\n",
       "<tr><td>XRT_1_AutoML_20190426_102040                       </td><td style=\"text-align: right;\">                0.22387 </td><td style=\"text-align: right;\">0.473149</td><td style=\"text-align: right;\">0.22387 </td><td style=\"text-align: right;\">0.450114</td><td style=\"text-align: right;\">  0.192904</td></tr>\n",
       "<tr><td>GBM_3_AutoML_20190426_095533                       </td><td style=\"text-align: right;\">                0.223913</td><td style=\"text-align: right;\">0.473194</td><td style=\"text-align: right;\">0.223913</td><td style=\"text-align: right;\">0.448871</td><td style=\"text-align: right;\">  0.192848</td></tr>\n",
       "<tr><td>GBM_3_AutoML_20190426_102040                       </td><td style=\"text-align: right;\">                0.22392 </td><td style=\"text-align: right;\">0.473202</td><td style=\"text-align: right;\">0.22392 </td><td style=\"text-align: right;\">0.448912</td><td style=\"text-align: right;\">  0.192853</td></tr>\n",
       "<tr><td>GBM_3_AutoML_20190426_094131                       </td><td style=\"text-align: right;\">                0.223946</td><td style=\"text-align: right;\">0.473229</td><td style=\"text-align: right;\">0.223946</td><td style=\"text-align: right;\">0.4495  </td><td style=\"text-align: right;\">  0.192883</td></tr>\n",
       "<tr><td>GBM_2_AutoML_20190426_094131                       </td><td style=\"text-align: right;\">                0.224033</td><td style=\"text-align: right;\">0.473321</td><td style=\"text-align: right;\">0.224033</td><td style=\"text-align: right;\">0.449157</td><td style=\"text-align: right;\">  0.192899</td></tr>\n",
       "<tr><td>GBM_2_AutoML_20190426_102040                       </td><td style=\"text-align: right;\">                0.224033</td><td style=\"text-align: right;\">0.473321</td><td style=\"text-align: right;\">0.224033</td><td style=\"text-align: right;\">0.449197</td><td style=\"text-align: right;\">  0.192906</td></tr>\n",
       "<tr><td>GBM_2_AutoML_20190426_095533                       </td><td style=\"text-align: right;\">                0.224037</td><td style=\"text-align: right;\">0.473326</td><td style=\"text-align: right;\">0.224037</td><td style=\"text-align: right;\">0.449204</td><td style=\"text-align: right;\">  0.192909</td></tr>\n",
       "<tr><td>GBM_1_AutoML_20190426_102040                       </td><td style=\"text-align: right;\">                0.224122</td><td style=\"text-align: right;\">0.473415</td><td style=\"text-align: right;\">0.224122</td><td style=\"text-align: right;\">0.449403</td><td style=\"text-align: right;\">  0.192945</td></tr>\n",
       "<tr><td>GBM_1_AutoML_20190426_094131                       </td><td style=\"text-align: right;\">                0.224132</td><td style=\"text-align: right;\">0.473426</td><td style=\"text-align: right;\">0.224132</td><td style=\"text-align: right;\">0.449303</td><td style=\"text-align: right;\">  0.192949</td></tr>\n",
       "<tr><td>GBM_1_AutoML_20190426_095533                       </td><td style=\"text-align: right;\">                0.224156</td><td style=\"text-align: right;\">0.473451</td><td style=\"text-align: right;\">0.224156</td><td style=\"text-align: right;\">0.449304</td><td style=\"text-align: right;\">  0.192951</td></tr>\n",
       "<tr><td>GBM_4_AutoML_20190426_094131                       </td><td style=\"text-align: right;\">                0.224456</td><td style=\"text-align: right;\">0.473767</td><td style=\"text-align: right;\">0.224456</td><td style=\"text-align: right;\">0.454978</td><td style=\"text-align: right;\">  0.193247</td></tr>\n",
       "<tr><td>GBM_grid_1_AutoML_20190426_102040_model_1          </td><td style=\"text-align: right;\">                0.224546</td><td style=\"text-align: right;\">0.473863</td><td style=\"text-align: right;\">0.224546</td><td style=\"text-align: right;\">0.454914</td><td style=\"text-align: right;\">  0.193268</td></tr>\n",
       "<tr><td>DeepLearning_1_AutoML_20190426_102040              </td><td style=\"text-align: right;\">                0.22475 </td><td style=\"text-align: right;\">0.474079</td><td style=\"text-align: right;\">0.22475 </td><td style=\"text-align: right;\">0.450776</td><td style=\"text-align: right;\">  0.193123</td></tr>\n",
       "<tr><td>DeepLearning_1_AutoML_20190426_095533              </td><td style=\"text-align: right;\">                0.224992</td><td style=\"text-align: right;\">0.474333</td><td style=\"text-align: right;\">0.224992</td><td style=\"text-align: right;\">0.451958</td><td style=\"text-align: right;\">  0.193209</td></tr>\n",
       "<tr><td>DeepLearning_grid_1_AutoML_20190426_102040_model_1 </td><td style=\"text-align: right;\">                0.226384</td><td style=\"text-align: right;\">0.475798</td><td style=\"text-align: right;\">0.226384</td><td style=\"text-align: right;\">0.453032</td><td style=\"text-align: right;\">nan       </td></tr>\n",
       "<tr><td>GLM_grid_1_AutoML_20190426_094131_model_1          </td><td style=\"text-align: right;\">                0.226595</td><td style=\"text-align: right;\">0.47602 </td><td style=\"text-align: right;\">0.226595</td><td style=\"text-align: right;\">0.454174</td><td style=\"text-align: right;\">  0.194021</td></tr>\n",
       "<tr><td>GLM_grid_1_AutoML_20190426_102040_model_1          </td><td style=\"text-align: right;\">                0.226595</td><td style=\"text-align: right;\">0.47602 </td><td style=\"text-align: right;\">0.226595</td><td style=\"text-align: right;\">0.454174</td><td style=\"text-align: right;\">  0.194021</td></tr>\n",
       "<tr><td>GLM_grid_1_AutoML_20190426_095533_model_1          </td><td style=\"text-align: right;\">                0.226595</td><td style=\"text-align: right;\">0.47602 </td><td style=\"text-align: right;\">0.226595</td><td style=\"text-align: right;\">0.454174</td><td style=\"text-align: right;\">  0.194021</td></tr>\n",
       "<tr><td>DeepLearning_grid_1_AutoML_20190426_102040_model_2 </td><td style=\"text-align: right;\">                0.230463</td><td style=\"text-align: right;\">0.480065</td><td style=\"text-align: right;\">0.230463</td><td style=\"text-align: right;\">0.461555</td><td style=\"text-align: right;\">nan       </td></tr>\n",
       "<tr><td>DeepLearning_grid_1_AutoML_20190426_102040_model_3 </td><td style=\"text-align: right;\">                0.231932</td><td style=\"text-align: right;\">0.481593</td><td style=\"text-align: right;\">0.231932</td><td style=\"text-align: right;\">0.471521</td><td style=\"text-align: right;\">  0.196487</td></tr>\n",
       "<tr><td>DeepLearning_grid_1_AutoML_20190426_102040_model_4 </td><td style=\"text-align: right;\">                0.23338 </td><td style=\"text-align: right;\">0.483094</td><td style=\"text-align: right;\">0.23338 </td><td style=\"text-align: right;\">0.465444</td><td style=\"text-align: right;\">nan       </td></tr>\n",
       "<tr><td>GBM_grid_1_AutoML_20190426_102040_model_2          </td><td style=\"text-align: right;\">                0.247126</td><td style=\"text-align: right;\">0.497118</td><td style=\"text-align: right;\">0.247126</td><td style=\"text-align: right;\">0.495873</td><td style=\"text-align: right;\">  0.202585</td></tr>\n",
       "</tbody>\n",
       "</table>"
      ]
     },
     "metadata": {},
     "output_type": "display_data"
    },
    {
     "data": {
      "text/plain": []
     },
     "execution_count": 91,
     "metadata": {},
     "output_type": "execute_result"
    }
   ],
   "source": [
    "leaderboard = aml_2000.leaderboard\n",
    "leaderboard.head(75)"
   ]
  },
  {
   "cell_type": "code",
   "execution_count": 92,
   "metadata": {},
   "outputs": [
    {
     "name": "stdout",
     "output_type": "stream",
     "text": [
      "Execution time for  1500 sec =   1936.336702823639\n"
     ]
    }
   ],
   "source": [
    "execution_time =  time.time() - model_start_time\n",
    "meta_data['model_execution_time_sec'] = execution_time\n",
    "print(\"Execution time for \", run_time,\"sec =  \",meta_data['model_execution_time_sec'])"
   ]
  },
  {
   "cell_type": "code",
   "execution_count": 93,
   "metadata": {},
   "outputs": [],
   "source": [
    "aml_2000_leaderboard_df=aml_2000.leaderboard.as_data_frame()\n",
    "leaderboard_stats=run_id+'_2000_leaderboard.csv'\n",
    "aml_2000_leaderboard_df.to_csv(leaderboard_stats)"
   ]
  },
  {
   "cell_type": "markdown",
   "metadata": {},
   "source": [
    "#### IMPORTING THE LEADERBOARD AS A DATAFRAME"
   ]
  },
  {
   "cell_type": "code",
   "execution_count": 94,
   "metadata": {},
   "outputs": [],
   "source": [
    "list_2000 = leaderboard.as_data_frame(use_pandas=True).as_matrix()[:,0].tolist()"
   ]
  },
  {
   "cell_type": "code",
   "execution_count": 95,
   "metadata": {
    "scrolled": true
   },
   "outputs": [
    {
     "name": "stdout",
     "output_type": "stream",
     "text": [
      "Model Details\n",
      "=============\n",
      "H2OGradientBoostingEstimator :  Gradient Boosting Machine\n",
      "Model Key:  GBM_5_AutoML_20190426_095533\n",
      "\n",
      "\n",
      "ModelMetricsRegression: gbm\n",
      "** Reported on train data. **\n",
      "\n",
      "MSE: 0.219796246490311\n",
      "RMSE: 0.4688243236973856\n",
      "MAE: 0.44477185759041005\n",
      "RMSLE: 0.19114905557545775\n",
      "Mean Residual Deviance: 0.219796246490311\n",
      "\n",
      "ModelMetricsRegression: gbm\n",
      "** Reported on cross-validation data. **\n",
      "\n",
      "MSE: 0.22332445107094384\n",
      "RMSE: 0.4725721649345673\n",
      "MAE: 0.4484068068651467\n",
      "RMSLE: 0.19262405607199493\n",
      "Mean Residual Deviance: 0.22332445107094384\n",
      "Cross-Validation Metrics Summary: \n"
     ]
    },
    {
     "data": {
      "text/html": [
       "<div style=\"overflow:auto\"><table style=\"width:50%\"><tr><td><b></b></td>\n",
       "<td><b>mean</b></td>\n",
       "<td><b>sd</b></td>\n",
       "<td><b>cv_1_valid</b></td>\n",
       "<td><b>cv_2_valid</b></td>\n",
       "<td><b>cv_3_valid</b></td>\n",
       "<td><b>cv_4_valid</b></td>\n",
       "<td><b>cv_5_valid</b></td></tr>\n",
       "<tr><td>mae</td>\n",
       "<td>0.4484068</td>\n",
       "<td>0.0002863</td>\n",
       "<td>0.4487317</td>\n",
       "<td>0.4479163</td>\n",
       "<td>0.4480033</td>\n",
       "<td>0.4489640</td>\n",
       "<td>0.4484186</td></tr>\n",
       "<tr><td>mean_residual_deviance</td>\n",
       "<td>0.2233245</td>\n",
       "<td>0.0001538</td>\n",
       "<td>0.2234878</td>\n",
       "<td>0.2229824</td>\n",
       "<td>0.2231952</td>\n",
       "<td>0.2235980</td>\n",
       "<td>0.2233588</td></tr>\n",
       "<tr><td>mse</td>\n",
       "<td>0.2233245</td>\n",
       "<td>0.0001538</td>\n",
       "<td>0.2234878</td>\n",
       "<td>0.2229824</td>\n",
       "<td>0.2231952</td>\n",
       "<td>0.2235980</td>\n",
       "<td>0.2233588</td></tr>\n",
       "<tr><td>r2</td>\n",
       "<td>0.1023148</td>\n",
       "<td>0.0005924</td>\n",
       "<td>0.1018118</td>\n",
       "<td>0.1036522</td>\n",
       "<td>0.1026576</td>\n",
       "<td>0.1011529</td>\n",
       "<td>0.1022997</td></tr>\n",
       "<tr><td>residual_deviance</td>\n",
       "<td>0.2233245</td>\n",
       "<td>0.0001538</td>\n",
       "<td>0.2234878</td>\n",
       "<td>0.2229824</td>\n",
       "<td>0.2231952</td>\n",
       "<td>0.2235980</td>\n",
       "<td>0.2233588</td></tr>\n",
       "<tr><td>rmse</td>\n",
       "<td>0.4725721</td>\n",
       "<td>0.0001627</td>\n",
       "<td>0.4727450</td>\n",
       "<td>0.4722101</td>\n",
       "<td>0.4724354</td>\n",
       "<td>0.4728615</td>\n",
       "<td>0.4726085</td></tr>\n",
       "<tr><td>rmsle</td>\n",
       "<td>0.1926240</td>\n",
       "<td>0.0000650</td>\n",
       "<td>0.1927038</td>\n",
       "<td>0.1924778</td>\n",
       "<td>0.1925560</td>\n",
       "<td>0.1927119</td>\n",
       "<td>0.1926706</td></tr></table></div>"
      ],
      "text/plain": [
       "                        mean      sd           cv_1_valid    cv_2_valid    cv_3_valid    cv_4_valid    cv_5_valid\n",
       "----------------------  --------  -----------  ------------  ------------  ------------  ------------  ------------\n",
       "mae                     0.448407  0.000286292  0.448732      0.447916      0.448003      0.448964      0.448419\n",
       "mean_residual_deviance  0.223324  0.000153777  0.223488      0.222982      0.223195      0.223598      0.223359\n",
       "mse                     0.223324  0.000153777  0.223488      0.222982      0.223195      0.223598      0.223359\n",
       "r2                      0.102315  0.000592398  0.101812      0.103652      0.102658      0.101153      0.1023\n",
       "residual_deviance       0.223324  0.000153777  0.223488      0.222982      0.223195      0.223598      0.223359\n",
       "rmse                    0.472572  0.000162715  0.472745      0.47221       0.472435      0.472862      0.472609\n",
       "rmsle                   0.192624  6.50012e-05  0.192704      0.192478      0.192556      0.192712      0.192671"
      ]
     },
     "metadata": {},
     "output_type": "display_data"
    },
    {
     "name": "stdout",
     "output_type": "stream",
     "text": [
      "Scoring History: \n"
     ]
    },
    {
     "data": {
      "text/html": [
       "<div style=\"overflow:auto\"><table style=\"width:50%\"><tr><td><b></b></td>\n",
       "<td><b>timestamp</b></td>\n",
       "<td><b>duration</b></td>\n",
       "<td><b>number_of_trees</b></td>\n",
       "<td><b>training_rmse</b></td>\n",
       "<td><b>training_mae</b></td>\n",
       "<td><b>training_deviance</b></td></tr>\n",
       "<tr><td></td>\n",
       "<td>2019-04-26 10:13:21</td>\n",
       "<td> 3 min 14.401 sec</td>\n",
       "<td>0.0</td>\n",
       "<td>0.4987769</td>\n",
       "<td>0.4975568</td>\n",
       "<td>0.2487784</td></tr>\n",
       "<tr><td></td>\n",
       "<td>2019-04-26 10:13:24</td>\n",
       "<td> 3 min 17.511 sec</td>\n",
       "<td>5.0</td>\n",
       "<td>0.4888912</td>\n",
       "<td>0.4865718</td>\n",
       "<td>0.2390146</td></tr>\n",
       "<tr><td></td>\n",
       "<td>2019-04-26 10:13:27</td>\n",
       "<td> 3 min 20.463 sec</td>\n",
       "<td>10.0</td>\n",
       "<td>0.4806431</td>\n",
       "<td>0.4751513</td>\n",
       "<td>0.2310178</td></tr>\n",
       "<tr><td></td>\n",
       "<td>2019-04-26 10:13:30</td>\n",
       "<td> 3 min 23.128 sec</td>\n",
       "<td>15.0</td>\n",
       "<td>0.4760576</td>\n",
       "<td>0.4667190</td>\n",
       "<td>0.2266308</td></tr>\n",
       "<tr><td></td>\n",
       "<td>2019-04-26 10:13:33</td>\n",
       "<td> 3 min 26.260 sec</td>\n",
       "<td>20.0</td>\n",
       "<td>0.4728399</td>\n",
       "<td>0.4590518</td>\n",
       "<td>0.2235775</td></tr>\n",
       "<tr><td></td>\n",
       "<td>2019-04-26 10:13:34</td>\n",
       "<td> 3 min 27.994 sec</td>\n",
       "<td>25.0</td>\n",
       "<td>0.4722405</td>\n",
       "<td>0.4573507</td>\n",
       "<td>0.2230111</td></tr>\n",
       "<tr><td></td>\n",
       "<td>2019-04-26 10:13:37</td>\n",
       "<td> 3 min 31.062 sec</td>\n",
       "<td>30.0</td>\n",
       "<td>0.4707477</td>\n",
       "<td>0.4526349</td>\n",
       "<td>0.2216034</td></tr>\n",
       "<tr><td></td>\n",
       "<td>2019-04-26 10:13:40</td>\n",
       "<td> 3 min 33.804 sec</td>\n",
       "<td>35.0</td>\n",
       "<td>0.4698152</td>\n",
       "<td>0.4489757</td>\n",
       "<td>0.2207263</td></tr>\n",
       "<tr><td></td>\n",
       "<td>2019-04-26 10:13:43</td>\n",
       "<td> 3 min 36.813 sec</td>\n",
       "<td>40.0</td>\n",
       "<td>0.4693004</td>\n",
       "<td>0.4469077</td>\n",
       "<td>0.2202428</td></tr>\n",
       "<tr><td></td>\n",
       "<td>2019-04-26 10:13:46</td>\n",
       "<td> 3 min 39.354 sec</td>\n",
       "<td>45.0</td>\n",
       "<td>0.4690099</td>\n",
       "<td>0.4455993</td>\n",
       "<td>0.2199703</td></tr>\n",
       "<tr><td></td>\n",
       "<td>2019-04-26 10:13:47</td>\n",
       "<td> 3 min 40.818 sec</td>\n",
       "<td>50.0</td>\n",
       "<td>0.4689210</td>\n",
       "<td>0.4451641</td>\n",
       "<td>0.2198870</td></tr>\n",
       "<tr><td></td>\n",
       "<td>2019-04-26 10:13:48</td>\n",
       "<td> 3 min 41.869 sec</td>\n",
       "<td>55.0</td>\n",
       "<td>0.4688243</td>\n",
       "<td>0.4447719</td>\n",
       "<td>0.2197962</td></tr></table></div>"
      ],
      "text/plain": [
       "    timestamp            duration          number_of_trees    training_rmse    training_mae    training_deviance\n",
       "--  -------------------  ----------------  -----------------  ---------------  --------------  -------------------\n",
       "    2019-04-26 10:13:21  3 min 14.401 sec  0                  0.498777         0.497557        0.248778\n",
       "    2019-04-26 10:13:24  3 min 17.511 sec  5                  0.488891         0.486572        0.239015\n",
       "    2019-04-26 10:13:27  3 min 20.463 sec  10                 0.480643         0.475151        0.231018\n",
       "    2019-04-26 10:13:30  3 min 23.128 sec  15                 0.476058         0.466719        0.226631\n",
       "    2019-04-26 10:13:33  3 min 26.260 sec  20                 0.47284          0.459052        0.223578\n",
       "    2019-04-26 10:13:34  3 min 27.994 sec  25                 0.47224          0.457351        0.223011\n",
       "    2019-04-26 10:13:37  3 min 31.062 sec  30                 0.470748         0.452635        0.221603\n",
       "    2019-04-26 10:13:40  3 min 33.804 sec  35                 0.469815         0.448976        0.220726\n",
       "    2019-04-26 10:13:43  3 min 36.813 sec  40                 0.4693           0.446908        0.220243\n",
       "    2019-04-26 10:13:46  3 min 39.354 sec  45                 0.46901          0.445599        0.21997\n",
       "    2019-04-26 10:13:47  3 min 40.818 sec  50                 0.468921         0.445164        0.219887\n",
       "    2019-04-26 10:13:48  3 min 41.869 sec  55                 0.468824         0.444772        0.219796"
      ]
     },
     "metadata": {},
     "output_type": "display_data"
    },
    {
     "name": "stdout",
     "output_type": "stream",
     "text": [
      "Variable Importances: \n"
     ]
    },
    {
     "data": {
      "text/html": [
       "<div style=\"overflow:auto\"><table style=\"width:50%\"><tr><td><b>variable</b></td>\n",
       "<td><b>relative_importance</b></td>\n",
       "<td><b>scaled_importance</b></td>\n",
       "<td><b>percentage</b></td></tr>\n",
       "<tr><td>passenger_count</td>\n",
       "<td>150082.2343750</td>\n",
       "<td>1.0</td>\n",
       "<td>0.7472543</td></tr>\n",
       "<tr><td>store_and_fwd_flag_Y</td>\n",
       "<td>10619.4228516</td>\n",
       "<td>0.0707574</td>\n",
       "<td>0.0528737</td></tr>\n",
       "<tr><td>trip_duration</td>\n",
       "<td>8679.7285156</td>\n",
       "<td>0.0578332</td>\n",
       "<td>0.0432161</td></tr>\n",
       "<tr><td>pickup_datetime</td>\n",
       "<td>6008.7021484</td>\n",
       "<td>0.0400361</td>\n",
       "<td>0.0299171</td></tr>\n",
       "<tr><td>haversine_distance</td>\n",
       "<td>5446.4306641</td>\n",
       "<td>0.0362896</td>\n",
       "<td>0.0271176</td></tr>\n",
       "<tr><td>dropoff_datetime</td>\n",
       "<td>5019.7216797</td>\n",
       "<td>0.0334465</td>\n",
       "<td>0.0249930</td></tr>\n",
       "<tr><td>pickup_latitude</td>\n",
       "<td>4126.1240234</td>\n",
       "<td>0.0274924</td>\n",
       "<td>0.0205438</td></tr>\n",
       "<tr><td>pickup_longitude</td>\n",
       "<td>4073.6606445</td>\n",
       "<td>0.0271429</td>\n",
       "<td>0.0202826</td></tr>\n",
       "<tr><td>dropoff_longitude</td>\n",
       "<td>3535.2238770</td>\n",
       "<td>0.0235552</td>\n",
       "<td>0.0176018</td></tr>\n",
       "<tr><td>dropoff_latitude</td>\n",
       "<td>3253.6867676</td>\n",
       "<td>0.0216794</td>\n",
       "<td>0.0162000</td></tr></table></div>"
      ],
      "text/plain": [
       "variable              relative_importance    scaled_importance    percentage\n",
       "--------------------  ---------------------  -------------------  ------------\n",
       "passenger_count       150082                 1                    0.747254\n",
       "store_and_fwd_flag_Y  10619.4                0.0707574            0.0528737\n",
       "trip_duration         8679.73                0.0578332            0.0432161\n",
       "pickup_datetime       6008.7                 0.0400361            0.0299171\n",
       "haversine_distance    5446.43                0.0362896            0.0271176\n",
       "dropoff_datetime      5019.72                0.0334465            0.024993\n",
       "pickup_latitude       4126.12                0.0274924            0.0205438\n",
       "pickup_longitude      4073.66                0.0271429            0.0202826\n",
       "dropoff_longitude     3535.22                0.0235552            0.0176018\n",
       "dropoff_latitude      3253.69                0.0216794            0.0162"
      ]
     },
     "metadata": {},
     "output_type": "display_data"
    },
    {
     "data": {
      "text/plain": []
     },
     "execution_count": 95,
     "metadata": {},
     "output_type": "execute_result"
    }
   ],
   "source": [
    "aml_2000leaderboard_df=aml_2000.leaderboard.as_data_frame()\n",
    "model_set=aml_2000leaderboard_df['model_id']\n",
    "mod_best2000=h2o.get_model(model_set[0])\n",
    "mod_best2000.algo\n",
    "mod_best2000\n"
   ]
  },
  {
   "cell_type": "markdown",
   "metadata": {},
   "source": [
    "#### PARAMETERS OF THE TOP MODEL "
   ]
  },
  {
   "cell_type": "code",
   "execution_count": 96,
   "metadata": {},
   "outputs": [
    {
     "data": {
      "text/plain": [
       "{'balance_classes': {'actual': False, 'default': False},\n",
       " 'build_tree_one_node': {'actual': False, 'default': False},\n",
       " 'calibrate_model': {'actual': False, 'default': False},\n",
       " 'calibration_frame': {'actual': None, 'default': None},\n",
       " 'categorical_encoding': {'actual': 'AUTO', 'default': 'AUTO'},\n",
       " 'check_constant_response': {'actual': True, 'default': True},\n",
       " 'checkpoint': {'actual': None, 'default': None},\n",
       " 'class_sampling_factors': {'actual': None, 'default': None},\n",
       " 'col_sample_rate': {'actual': 0.8, 'default': 1.0},\n",
       " 'col_sample_rate_change_per_level': {'actual': 1.0, 'default': 1.0},\n",
       " 'col_sample_rate_per_tree': {'actual': 0.8, 'default': 1.0},\n",
       " 'custom_metric_func': {'actual': None, 'default': None},\n",
       " 'distribution': {'actual': 'gaussian', 'default': 'AUTO'},\n",
       " 'export_checkpoints_dir': {'actual': None, 'default': None},\n",
       " 'fold_assignment': {'actual': 'Modulo', 'default': 'AUTO'},\n",
       " 'fold_column': {'actual': None, 'default': None},\n",
       " 'histogram_type': {'actual': 'AUTO', 'default': 'AUTO'},\n",
       " 'huber_alpha': {'actual': 0.9, 'default': 0.9},\n",
       " 'ignore_const_cols': {'actual': True, 'default': True},\n",
       " 'ignored_columns': {'actual': [], 'default': None},\n",
       " 'keep_cross_validation_fold_assignment': {'actual': False, 'default': False},\n",
       " 'keep_cross_validation_models': {'actual': False, 'default': True},\n",
       " 'keep_cross_validation_predictions': {'actual': True, 'default': False},\n",
       " 'learn_rate': {'actual': 0.1, 'default': 0.1},\n",
       " 'learn_rate_annealing': {'actual': 1.0, 'default': 1.0},\n",
       " 'max_abs_leafnode_pred': {'actual': 1.7976931348623157e+308,\n",
       "  'default': 1.7976931348623157e+308},\n",
       " 'max_after_balance_size': {'actual': 5.0, 'default': 5.0},\n",
       " 'max_confusion_matrix_size': {'actual': 20, 'default': 20},\n",
       " 'max_depth': {'actual': 15, 'default': 5},\n",
       " 'max_hit_ratio_k': {'actual': 0, 'default': 0},\n",
       " 'max_runtime_secs': {'actual': 0.0, 'default': 0.0},\n",
       " 'min_rows': {'actual': 100.0, 'default': 10.0},\n",
       " 'min_split_improvement': {'actual': 1e-05, 'default': 1e-05},\n",
       " 'model_id': {'actual': {'URL': '/3/Models/GBM_5_AutoML_20190426_095533',\n",
       "   '__meta': {'schema_name': 'ModelKeyV3',\n",
       "    'schema_type': 'Key<Model>',\n",
       "    'schema_version': 3},\n",
       "   'name': 'GBM_5_AutoML_20190426_095533',\n",
       "   'type': 'Key<Model>'},\n",
       "  'default': None},\n",
       " 'monotone_constraints': {'actual': None, 'default': None},\n",
       " 'nbins': {'actual': 20, 'default': 20},\n",
       " 'nbins_cats': {'actual': 1024, 'default': 1024},\n",
       " 'nbins_top_level': {'actual': 1024, 'default': 1024},\n",
       " 'nfolds': {'actual': 5, 'default': 0},\n",
       " 'ntrees': {'actual': 55, 'default': 50},\n",
       " 'offset_column': {'actual': None, 'default': None},\n",
       " 'pred_noise_bandwidth': {'actual': 0.0, 'default': 0.0},\n",
       " 'quantile_alpha': {'actual': 0.5, 'default': 0.5},\n",
       " 'r2_stopping': {'actual': 1.7976931348623157e+308,\n",
       "  'default': 1.7976931348623157e+308},\n",
       " 'response_column': {'actual': {'__meta': {'schema_name': 'ColSpecifierV3',\n",
       "    'schema_type': 'VecSpecifier',\n",
       "    'schema_version': 3},\n",
       "   'column_name': 'vendor_id',\n",
       "   'is_member_of_frames': None},\n",
       "  'default': None},\n",
       " 'sample_rate': {'actual': 0.8, 'default': 1.0},\n",
       " 'sample_rate_per_class': {'actual': None, 'default': None},\n",
       " 'score_each_iteration': {'actual': False, 'default': False},\n",
       " 'score_tree_interval': {'actual': 5, 'default': 0},\n",
       " 'seed': {'actual': -2497709711160533768, 'default': -1},\n",
       " 'stopping_metric': {'actual': 'deviance', 'default': 'AUTO'},\n",
       " 'stopping_rounds': {'actual': 0, 'default': 0},\n",
       " 'stopping_tolerance': {'actual': 0.001, 'default': 0.001},\n",
       " 'training_frame': {'actual': {'URL': '/3/Frames/automl_training_training_data.hex',\n",
       "   '__meta': {'schema_name': 'FrameKeyV3',\n",
       "    'schema_type': 'Key<Frame>',\n",
       "    'schema_version': 3},\n",
       "   'name': 'automl_training_training_data.hex',\n",
       "   'type': 'Key<Frame>'},\n",
       "  'default': None},\n",
       " 'tweedie_power': {'actual': 1.5, 'default': 1.5},\n",
       " 'validation_frame': {'actual': None, 'default': None},\n",
       " 'weights_column': {'actual': None, 'default': None}}"
      ]
     },
     "execution_count": 96,
     "metadata": {},
     "output_type": "execute_result"
    }
   ],
   "source": [
    "mod_best2000.params"
   ]
  },
  {
   "cell_type": "code",
   "execution_count": 97,
   "metadata": {},
   "outputs": [],
   "source": [
    "## Function for converting dictionary to json\n",
    "def dict_to_json(dct,n,m):\n",
    "  j = json.dumps(dct, indent=4)\n",
    "  f = open(n, m)\n",
    "  print(j, file=f)\n",
    "  f.close()\n",
    "\n",
    "## Function for converting files to csv\n",
    "def writeToFile(line,n,m):\n",
    "  f = open(n, m)\n",
    "  print(line, file=f)\n",
    "  f.close()"
   ]
  },
  {
   "cell_type": "markdown",
   "metadata": {},
   "source": [
    "#### GENERATE HYPERPARAMETERS FOR EVERY MODEL IN THE LEADER BOARD BY PASSING THE MODEL AND AN ARRAY OF HYPERPARAMETERS"
   ]
  },
  {
   "cell_type": "code",
   "execution_count": 98,
   "metadata": {},
   "outputs": [],
   "source": [
    "def generate_hyperparameters(model, keys, run_time, list_runtime):\n",
    "    list = list_runtime;\n",
    "    head = \"Model Name,\"\n",
    "    for k in keys:\n",
    "        head = head + k+\"_default\"+\",\"+ k+\"_actual\"+\",\"\n",
    "    head = head[:-1]\n",
    "   \n",
    "    n1=run_id+'_hy_parameter_'+run_time+'_'+model+'.csv';\n",
    "    writeToFile(head,n1,'w')\n",
    "\n",
    "    for algo in list:\n",
    "        if algo.startswith(model):\n",
    "           # print(algo)\n",
    "            mod = h2o.get_model(algo)\n",
    "            hy_parameter_2000 = mod.params\n",
    "            n=run_id+'_hy_parameter_'+run_time+'_'+model+'.json';\n",
    "            dict_to_json(hy_parameter_2000,n,'a')\n",
    "            mod.params\n",
    "\n",
    "            rec=algo+\",\"\n",
    "            for k in keys:\n",
    "                print(mod.params[k])\n",
    "                rec = rec + str(mod.params[k][\"default\"])+\",\"+str(mod.params[k][\"actual\"])+\",\"\n",
    "            rec = rec[:-1]\n",
    "            #print(rec)\n",
    "            writeToFile(rec,n1,'a')"
   ]
  },
  {
   "cell_type": "markdown",
   "metadata": {},
   "source": [
    "#### SPECIFYING THE HYPERPARAMETERS AND THE MODEL NAMES AND PASSING THEM THROUGH THE GENERATE HYPERPARAMETERS FUNCTION"
   ]
  },
  {
   "cell_type": "code",
   "execution_count": 99,
   "metadata": {
    "scrolled": false
   },
   "outputs": [
    {
     "name": "stdout",
     "output_type": "stream",
     "text": [
      "{'default': 'AUTO', 'actual': 'AUTO'}\n",
      "{'default': 50, 'actual': 55}\n",
      "{'default': 5, 'actual': 15}\n",
      "{'default': 10.0, 'actual': 100.0}\n",
      "{'default': 0.1, 'actual': 0.1}\n",
      "{'default': 1.0, 'actual': 0.8}\n",
      "{'default': 1.0, 'actual': 0.8}\n",
      "{'default': 1.0, 'actual': 0.8}\n",
      "{'default': 1e-05, 'actual': 1e-05}\n",
      "{'default': 'AUTO', 'actual': 'AUTO'}\n",
      "{'default': 50, 'actual': 54}\n",
      "{'default': 5, 'actual': 15}\n",
      "{'default': 10.0, 'actual': 100.0}\n",
      "{'default': 0.1, 'actual': 0.1}\n",
      "{'default': 1.0, 'actual': 0.8}\n",
      "{'default': 1.0, 'actual': 0.8}\n",
      "{'default': 1.0, 'actual': 0.8}\n",
      "{'default': 1e-05, 'actual': 1e-05}\n",
      "{'default': 'AUTO', 'actual': 'AUTO'}\n",
      "{'default': 50, 'actual': 54}\n",
      "{'default': 5, 'actual': 15}\n",
      "{'default': 10.0, 'actual': 100.0}\n",
      "{'default': 0.1, 'actual': 0.1}\n",
      "{'default': 1.0, 'actual': 0.8}\n",
      "{'default': 1.0, 'actual': 0.8}\n",
      "{'default': 1.0, 'actual': 0.8}\n",
      "{'default': 1e-05, 'actual': 1e-05}\n",
      "{'default': 'AUTO', 'actual': 'AUTO'}\n",
      "{'default': 50, 'actual': 55}\n",
      "{'default': 5, 'actual': 15}\n",
      "{'default': 10.0, 'actual': 100.0}\n",
      "{'default': 0.1, 'actual': 0.1}\n",
      "{'default': 1.0, 'actual': 0.8}\n",
      "{'default': 1.0, 'actual': 0.8}\n",
      "{'default': 1.0, 'actual': 0.8}\n",
      "{'default': 1e-05, 'actual': 1e-05}\n",
      "{'default': 'AUTO', 'actual': 'AUTO'}\n",
      "{'default': 50, 'actual': 55}\n",
      "{'default': 5, 'actual': 15}\n",
      "{'default': 10.0, 'actual': 100.0}\n",
      "{'default': 0.1, 'actual': 0.1}\n",
      "{'default': 1.0, 'actual': 0.8}\n",
      "{'default': 1.0, 'actual': 0.8}\n",
      "{'default': 1.0, 'actual': 0.8}\n",
      "{'default': 1e-05, 'actual': 1e-05}\n",
      "{'default': 'AUTO', 'actual': 'AUTO'}\n",
      "{'default': 50, 'actual': 54}\n",
      "{'default': 5, 'actual': 15}\n",
      "{'default': 10.0, 'actual': 100.0}\n",
      "{'default': 0.1, 'actual': 0.1}\n",
      "{'default': 1.0, 'actual': 0.8}\n",
      "{'default': 1.0, 'actual': 0.8}\n",
      "{'default': 1.0, 'actual': 0.8}\n",
      "{'default': 1e-05, 'actual': 1e-05}\n",
      "{'default': 'AUTO', 'actual': 'AUTO'}\n",
      "{'default': 50, 'actual': 24}\n",
      "{'default': 5, 'actual': 15}\n",
      "{'default': 10.0, 'actual': 100.0}\n",
      "{'default': 0.1, 'actual': 0.1}\n",
      "{'default': 1.0, 'actual': 0.8}\n",
      "{'default': 1.0, 'actual': 0.8}\n",
      "{'default': 1.0, 'actual': 0.8}\n",
      "{'default': 1e-05, 'actual': 1e-05}\n",
      "{'default': 'AUTO', 'actual': 'AUTO'}\n",
      "{'default': 50, 'actual': 24}\n",
      "{'default': 5, 'actual': 15}\n",
      "{'default': 10.0, 'actual': 100.0}\n",
      "{'default': 0.1, 'actual': 0.1}\n",
      "{'default': 1.0, 'actual': 0.8}\n",
      "{'default': 1.0, 'actual': 0.8}\n",
      "{'default': 1.0, 'actual': 0.8}\n",
      "{'default': 1e-05, 'actual': 1e-05}\n",
      "{'default': 'AUTO', 'actual': 'AUTO'}\n",
      "{'default': 50, 'actual': 54}\n",
      "{'default': 5, 'actual': 15}\n",
      "{'default': 10.0, 'actual': 100.0}\n",
      "{'default': 0.1, 'actual': 0.1}\n",
      "{'default': 1.0, 'actual': 0.8}\n",
      "{'default': 1.0, 'actual': 0.8}\n",
      "{'default': 1.0, 'actual': 0.8}\n",
      "{'default': 1e-05, 'actual': 1e-05}\n",
      "{'default': 'AUTO', 'actual': 'AUTO'}\n",
      "{'default': 50, 'actual': 55}\n",
      "{'default': 5, 'actual': 15}\n",
      "{'default': 10.0, 'actual': 100.0}\n",
      "{'default': 0.1, 'actual': 0.1}\n",
      "{'default': 1.0, 'actual': 0.8}\n",
      "{'default': 1.0, 'actual': 0.8}\n",
      "{'default': 1.0, 'actual': 0.8}\n",
      "{'default': 1e-05, 'actual': 1e-05}\n",
      "{'default': 'AUTO', 'actual': 'AUTO'}\n",
      "{'default': 50, 'actual': 54}\n",
      "{'default': 5, 'actual': 15}\n",
      "{'default': 10.0, 'actual': 100.0}\n",
      "{'default': 0.1, 'actual': 0.1}\n",
      "{'default': 1.0, 'actual': 0.8}\n",
      "{'default': 1.0, 'actual': 0.8}\n",
      "{'default': 1.0, 'actual': 0.8}\n",
      "{'default': 1e-05, 'actual': 1e-05}\n",
      "{'default': 'AUTO', 'actual': 'AUTO'}\n",
      "{'default': 50, 'actual': 24}\n",
      "{'default': 5, 'actual': 15}\n",
      "{'default': 10.0, 'actual': 100.0}\n",
      "{'default': 0.1, 'actual': 0.1}\n",
      "{'default': 1.0, 'actual': 0.8}\n",
      "{'default': 1.0, 'actual': 0.8}\n",
      "{'default': 1.0, 'actual': 0.8}\n",
      "{'default': 1e-05, 'actual': 1e-05}\n",
      "{'default': 'AUTO', 'actual': 'AUTO'}\n",
      "{'default': 50, 'actual': 55}\n",
      "{'default': 5, 'actual': 15}\n",
      "{'default': 10.0, 'actual': 100.0}\n",
      "{'default': 0.1, 'actual': 0.1}\n",
      "{'default': 1.0, 'actual': 0.8}\n",
      "{'default': 1.0, 'actual': 0.8}\n",
      "{'default': 1.0, 'actual': 0.8}\n",
      "{'default': 1e-05, 'actual': 1e-05}\n",
      "{'default': 'AUTO', 'actual': 'AUTO'}\n",
      "{'default': 50, 'actual': 24}\n",
      "{'default': 5, 'actual': 15}\n",
      "{'default': 10.0, 'actual': 100.0}\n",
      "{'default': 0.1, 'actual': 0.1}\n",
      "{'default': 1.0, 'actual': 0.8}\n",
      "{'default': 1.0, 'actual': 0.8}\n",
      "{'default': 1.0, 'actual': 0.8}\n",
      "{'default': 1e-05, 'actual': 1e-05}\n",
      "{'default': 'AUTO', 'actual': 'AUTO'}\n",
      "{'default': 50, 'actual': 91}\n",
      "{'default': 5, 'actual': 7}\n",
      "{'default': 10.0, 'actual': 15.0}\n",
      "{'default': 0.1, 'actual': 0.05}\n",
      "{'default': 1.0, 'actual': 1.0}\n",
      "{'default': 1.0, 'actual': 1.0}\n",
      "{'default': 1.0, 'actual': 0.4}\n",
      "{'default': 1e-05, 'actual': 1e-05}\n",
      "{'default': 'AUTO', 'actual': 'AUTO'}\n",
      "{'default': 50, 'actual': 7}\n",
      "{'default': 5, 'actual': 10}\n",
      "{'default': 10.0, 'actual': 5.0}\n",
      "{'default': 0.1, 'actual': 0.005}\n",
      "{'default': 1.0, 'actual': 0.8}\n",
      "{'default': 1.0, 'actual': 0.7}\n",
      "{'default': 1.0, 'actual': 1.0}\n",
      "{'default': 1e-05, 'actual': 0.0001}\n",
      "{'default': None, 'actual': [0.0, 0.2, 0.4, 0.6, 0.8, 1.0]}\n",
      "{'default': 'MeanImputation', 'actual': 'MeanImputation'}\n",
      "{'default': None, 'actual': [0.0, 0.2, 0.4, 0.6, 0.8, 1.0]}\n",
      "{'default': 'MeanImputation', 'actual': 'MeanImputation'}\n",
      "{'default': None, 'actual': [0.0, 0.2, 0.4, 0.6, 0.8, 1.0]}\n",
      "{'default': 'MeanImputation', 'actual': 'MeanImputation'}\n",
      "{'default': 10.0, 'actual': 10.008388464597159}\n",
      "{'default': 'Rectifier', 'actual': 'Rectifier'}\n",
      "{'default': 0.99, 'actual': 0.99}\n",
      "{'default': 1e-08, 'actual': 1e-08}\n",
      "{'default': 0.0, 'actual': 0.0}\n",
      "{'default': [200, 200], 'actual': [10, 10, 10]}\n",
      "{'default': None, 'actual': None}\n",
      "{'default': 10.0, 'actual': 10.01047225497724}\n",
      "{'default': 'Rectifier', 'actual': 'Rectifier'}\n",
      "{'default': 0.99, 'actual': 0.99}\n",
      "{'default': 1e-08, 'actual': 1e-08}\n",
      "{'default': 0.0, 'actual': 0.0}\n",
      "{'default': [200, 200], 'actual': [10, 10, 10]}\n",
      "{'default': None, 'actual': None}\n",
      "{'default': 10.0, 'actual': 2.6190873004990953}\n",
      "{'default': 'Rectifier', 'actual': 'RectifierWithDropout'}\n",
      "{'default': 0.99, 'actual': 0.9}\n",
      "{'default': 1e-08, 'actual': 1e-07}\n",
      "{'default': 0.0, 'actual': 0.0}\n",
      "{'default': [200, 200], 'actual': [50]}\n",
      "{'default': None, 'actual': [0.4]}\n",
      "{'default': 10.0, 'actual': 0.06852547578566337}\n",
      "{'default': 'Rectifier', 'actual': 'RectifierWithDropout'}\n",
      "{'default': 0.99, 'actual': 0.99}\n",
      "{'default': 1e-08, 'actual': 1e-06}\n",
      "{'default': 0.0, 'actual': 0.05}\n",
      "{'default': [200, 200], 'actual': [200]}\n",
      "{'default': None, 'actual': [0.5]}\n",
      "{'default': 10.0, 'actual': 1.8937261764383262}\n",
      "{'default': 'Rectifier', 'actual': 'RectifierWithDropout'}\n",
      "{'default': 0.99, 'actual': 0.95}\n",
      "{'default': 1e-08, 'actual': 1e-06}\n",
      "{'default': 0.0, 'actual': 0.05}\n",
      "{'default': [200, 200], 'actual': [50, 50]}\n",
      "{'default': None, 'actual': [0.3, 0.3]}\n",
      "{'default': 10.0, 'actual': 1.7827690519936379}\n",
      "{'default': 'Rectifier', 'actual': 'RectifierWithDropout'}\n",
      "{'default': 0.99, 'actual': 0.95}\n",
      "{'default': 1e-08, 'actual': 1e-06}\n",
      "{'default': 0.0, 'actual': 0.0}\n",
      "{'default': [200, 200], 'actual': [50, 50, 50]}\n",
      "{'default': None, 'actual': [0.1, 0.1, 0.1]}\n",
      "{'default': -1, 'actual': -1}\n",
      "{'default': 'AUTO', 'actual': 'AUTO'}\n",
      "{'default': -1, 'actual': -1}\n",
      "{'default': 'AUTO', 'actual': 'AUTO'}\n",
      "{'default': -1, 'actual': -1}\n",
      "{'default': 'AUTO', 'actual': 'AUTO'}\n"
     ]
    }
   ],
   "source": [
    "generate_hyperparameters('XGBoost',keys_xgboost,'2000', list_2000);\n",
    "generate_hyperparameters('GBM',keys_gbm, '2000', list_2000);\n",
    "generate_hyperparameters('GLM',keys_glm, '2000', list_2000);\n",
    "generate_hyperparameters('DeepLearning',keys_dl, '2000', list_2000);\n",
    "generate_hyperparameters('DRF',keys_drf, '2000', list_2000);"
   ]
  },
  {
   "cell_type": "code",
   "execution_count": 100,
   "metadata": {},
   "outputs": [],
   "source": [
    "meta_data['end_time'] = time.time()"
   ]
  },
  {
   "cell_type": "code",
   "execution_count": 101,
   "metadata": {},
   "outputs": [
    {
     "data": {
      "text/plain": [
       "{'analysis': 0,\n",
       " 'balance': False,\n",
       " 'balance_threshold': 0.2,\n",
       " 'data_path': None,\n",
       " 'end_time': 1556290380.1399934,\n",
       " 'end_time_sec': 1556286933.3817422,\n",
       " 'max_models': None,\n",
       " 'model_execution_time_sec': 1936.336702823639,\n",
       " 'model_path': None,\n",
       " 'nthreads': 1,\n",
       " 'project': None,\n",
       " 'run_id': 'Kj2dExOOv',\n",
       " 'run_path': None,\n",
       " 'run_time': 1500,\n",
       " 'scale': False,\n",
       " 'server_path': None,\n",
       " 'start_time_sec': 1556286933.3817422,\n",
       " 'variables': ['pickup_datetime',\n",
       "  'dropoff_datetime',\n",
       "  'passenger_count',\n",
       "  'pickup_longitude',\n",
       "  'pickup_latitude',\n",
       "  'dropoff_longitude',\n",
       "  'dropoff_latitude',\n",
       "  'trip_duration',\n",
       "  'haversine_distance',\n",
       "  'store_and_fwd_flag_Y']}"
      ]
     },
     "execution_count": 101,
     "metadata": {},
     "output_type": "execute_result"
    }
   ],
   "source": [
    "meta_data"
   ]
  },
  {
   "cell_type": "markdown",
   "metadata": {},
   "source": [
    "## VARIABLE IMPORTANCE¶"
   ]
  },
  {
   "cell_type": "code",
   "execution_count": 102,
   "metadata": {},
   "outputs": [],
   "source": [
    "mod_best_GBM_2000=h2o.get_model(model_set[0])\n",
    "vi_GBM2000 = mod_best_GBM_2000.varimp(use_pandas = True)\n",
    "n=run_id+'_variableImportanceGBM2000_.json'\n",
    "vi_GBM2000.to_csv(run_id+'_variableImportanceGBM2000_.csv', index=False)\n",
    "vi_GBM2000 = vi_GBM2000.to_dict('dict')\n",
    "dict_to_json(vi_GBM2000,n,'a')"
   ]
  },
  {
   "cell_type": "code",
   "execution_count": 103,
   "metadata": {},
   "outputs": [],
   "source": [
    "n=run_id+'_2000_meta_data.json'\n",
    "dict_to_json(meta_data,n,'a')"
   ]
  },
  {
   "cell_type": "code",
   "execution_count": 104,
   "metadata": {},
   "outputs": [
    {
     "name": "stdout",
     "output_type": "stream",
     "text": [
      "H2O session _sid_b1ee closed.\n"
     ]
    }
   ],
   "source": [
    "h2o.cluster().shutdown()"
   ]
  },
  {
   "cell_type": "code",
   "execution_count": 114,
   "metadata": {
    "scrolled": true
   },
   "outputs": [
    {
     "name": "stdout",
     "output_type": "stream",
     "text": [
      "Checking whether there is an H2O instance running at http://localhost:54321 ..... not found.\n",
      "Attempting to start a local H2O server...\n",
      "; Java HotSpot(TM) 64-Bit Server VM (build 25.211-b12, mixed mode)\n",
      "  Starting server from C:\\Users\\Aesha\\PycharmProjects\\INFO6105\\NewEnv\\lib\\site-packages\\h2o\\backend\\bin\\h2o.jar\n",
      "  Ice root: C:\\Users\\Aesha\\AppData\\Local\\Temp\\tmpzm25x5oy\n",
      "  JVM stdout: C:\\Users\\Aesha\\AppData\\Local\\Temp\\tmpzm25x5oy\\h2o_Aesha_started_from_python.out\n",
      "  JVM stderr: C:\\Users\\Aesha\\AppData\\Local\\Temp\\tmpzm25x5oy\\h2o_Aesha_started_from_python.err\n",
      "  Server is running at http://127.0.0.1:54321\n",
      "Connecting to H2O server at http://127.0.0.1:54321 ... successful.\n"
     ]
    },
    {
     "data": {
      "text/html": [
       "<div style=\"overflow:auto\"><table style=\"width:50%\"><tr><td>H2O cluster uptime:</td>\n",
       "<td>01 secs</td></tr>\n",
       "<tr><td>H2O cluster timezone:</td>\n",
       "<td>America/New_York</td></tr>\n",
       "<tr><td>H2O data parsing timezone:</td>\n",
       "<td>UTC</td></tr>\n",
       "<tr><td>H2O cluster version:</td>\n",
       "<td>3.24.0.1</td></tr>\n",
       "<tr><td>H2O cluster version age:</td>\n",
       "<td>25 days </td></tr>\n",
       "<tr><td>H2O cluster name:</td>\n",
       "<td>H2O_from_python_Aesha_8ci3ug</td></tr>\n",
       "<tr><td>H2O cluster total nodes:</td>\n",
       "<td>1</td></tr>\n",
       "<tr><td>H2O cluster free memory:</td>\n",
       "<td>2.646 Gb</td></tr>\n",
       "<tr><td>H2O cluster total cores:</td>\n",
       "<td>8</td></tr>\n",
       "<tr><td>H2O cluster allowed cores:</td>\n",
       "<td>8</td></tr>\n",
       "<tr><td>H2O cluster status:</td>\n",
       "<td>accepting new members, healthy</td></tr>\n",
       "<tr><td>H2O connection url:</td>\n",
       "<td>http://127.0.0.1:54321</td></tr>\n",
       "<tr><td>H2O connection proxy:</td>\n",
       "<td>None</td></tr>\n",
       "<tr><td>H2O internal security:</td>\n",
       "<td>False</td></tr>\n",
       "<tr><td>H2O API Extensions:</td>\n",
       "<td>Amazon S3, Algos, AutoML, Core V3, Core V4</td></tr>\n",
       "<tr><td>Python version:</td>\n",
       "<td>3.7.0 final</td></tr></table></div>"
      ],
      "text/plain": [
       "--------------------------  ------------------------------------------\n",
       "H2O cluster uptime:         01 secs\n",
       "H2O cluster timezone:       America/New_York\n",
       "H2O data parsing timezone:  UTC\n",
       "H2O cluster version:        3.24.0.1\n",
       "H2O cluster version age:    25 days\n",
       "H2O cluster name:           H2O_from_python_Aesha_8ci3ug\n",
       "H2O cluster total nodes:    1\n",
       "H2O cluster free memory:    2.646 Gb\n",
       "H2O cluster total cores:    8\n",
       "H2O cluster allowed cores:  8\n",
       "H2O cluster status:         accepting new members, healthy\n",
       "H2O connection url:         http://127.0.0.1:54321\n",
       "H2O connection proxy:\n",
       "H2O internal security:      False\n",
       "H2O API Extensions:         Amazon S3, Algos, AutoML, Core V3, Core V4\n",
       "Python version:             3.7.0 final\n",
       "--------------------------  ------------------------------------------"
      ]
     },
     "metadata": {},
     "output_type": "display_data"
    }
   ],
   "source": [
    "h2o.init()"
   ]
  },
  {
   "cell_type": "markdown",
   "metadata": {},
   "source": [
    "## Getting range for DRF and GBM model for 800 seconds iteration"
   ]
  },
  {
   "cell_type": "code",
   "execution_count": 115,
   "metadata": {},
   "outputs": [
    {
     "name": "stdout",
     "output_type": "stream",
     "text": [
      "Parse progress: |█████████████████████████████████████████████████████████| 100%\n"
     ]
    }
   ],
   "source": [
    "gbm_800_df = h2o.import_file(\"Kj2dExOOv_hy_parameter_800_GBM.csv\")\n"
   ]
  },
  {
   "cell_type": "code",
   "execution_count": 116,
   "metadata": {
    "scrolled": false
   },
   "outputs": [
    {
     "data": {
      "text/html": [
       "<table>\n",
       "<thead>\n",
       "<tr><th>Model Name                  </th><th>histogram_type_default  </th><th>histogram_type_actual  </th><th style=\"text-align: right;\">  ntrees_default</th><th style=\"text-align: right;\">  ntrees_actual</th><th style=\"text-align: right;\">  max_depth_default</th><th style=\"text-align: right;\">  max_depth_actual</th><th style=\"text-align: right;\">  min_rows_default</th><th style=\"text-align: right;\">  min_rows_actual</th><th style=\"text-align: right;\">  learn_rate_default</th><th style=\"text-align: right;\">  learn_rate_actual</th><th style=\"text-align: right;\">  sample_rate_default</th><th style=\"text-align: right;\">  sample_rate_actual</th><th style=\"text-align: right;\">  col_sample_rate_default</th><th style=\"text-align: right;\">  col_sample_rate_actual</th><th style=\"text-align: right;\">  col_sample_rate_per_tree_default</th><th style=\"text-align: right;\">  col_sample_rate_per_tree_actual</th><th style=\"text-align: right;\">  min_split_improvement_default</th><th style=\"text-align: right;\">  min_split_improvement_actual</th></tr>\n",
       "</thead>\n",
       "<tbody>\n",
       "<tr><td>GBM_3_AutoML_20190426_094131</td><td>AUTO                    </td><td>AUTO                   </td><td style=\"text-align: right;\">              50</td><td style=\"text-align: right;\">             24</td><td style=\"text-align: right;\">                  5</td><td style=\"text-align: right;\">                15</td><td style=\"text-align: right;\">                10</td><td style=\"text-align: right;\">              100</td><td style=\"text-align: right;\">                 0.1</td><td style=\"text-align: right;\">                0.1</td><td style=\"text-align: right;\">                    1</td><td style=\"text-align: right;\">                 0.8</td><td style=\"text-align: right;\">                        1</td><td style=\"text-align: right;\">                     0.8</td><td style=\"text-align: right;\">                                 1</td><td style=\"text-align: right;\">                              0.8</td><td style=\"text-align: right;\">                          1e-05</td><td style=\"text-align: right;\">                         1e-05</td></tr>\n",
       "<tr><td>GBM_2_AutoML_20190426_094131</td><td>AUTO                    </td><td>AUTO                   </td><td style=\"text-align: right;\">              50</td><td style=\"text-align: right;\">             24</td><td style=\"text-align: right;\">                  5</td><td style=\"text-align: right;\">                15</td><td style=\"text-align: right;\">                10</td><td style=\"text-align: right;\">              100</td><td style=\"text-align: right;\">                 0.1</td><td style=\"text-align: right;\">                0.1</td><td style=\"text-align: right;\">                    1</td><td style=\"text-align: right;\">                 0.8</td><td style=\"text-align: right;\">                        1</td><td style=\"text-align: right;\">                     0.8</td><td style=\"text-align: right;\">                                 1</td><td style=\"text-align: right;\">                              0.8</td><td style=\"text-align: right;\">                          1e-05</td><td style=\"text-align: right;\">                         1e-05</td></tr>\n",
       "<tr><td>GBM_1_AutoML_20190426_094131</td><td>AUTO                    </td><td>AUTO                   </td><td style=\"text-align: right;\">              50</td><td style=\"text-align: right;\">             24</td><td style=\"text-align: right;\">                  5</td><td style=\"text-align: right;\">                15</td><td style=\"text-align: right;\">                10</td><td style=\"text-align: right;\">              100</td><td style=\"text-align: right;\">                 0.1</td><td style=\"text-align: right;\">                0.1</td><td style=\"text-align: right;\">                    1</td><td style=\"text-align: right;\">                 0.8</td><td style=\"text-align: right;\">                        1</td><td style=\"text-align: right;\">                     0.8</td><td style=\"text-align: right;\">                                 1</td><td style=\"text-align: right;\">                              0.8</td><td style=\"text-align: right;\">                          1e-05</td><td style=\"text-align: right;\">                         1e-05</td></tr>\n",
       "<tr><td>GBM_4_AutoML_20190426_094131</td><td>AUTO                    </td><td>AUTO                   </td><td style=\"text-align: right;\">              50</td><td style=\"text-align: right;\">             24</td><td style=\"text-align: right;\">                  5</td><td style=\"text-align: right;\">                15</td><td style=\"text-align: right;\">                10</td><td style=\"text-align: right;\">              100</td><td style=\"text-align: right;\">                 0.1</td><td style=\"text-align: right;\">                0.1</td><td style=\"text-align: right;\">                    1</td><td style=\"text-align: right;\">                 0.8</td><td style=\"text-align: right;\">                        1</td><td style=\"text-align: right;\">                     0.8</td><td style=\"text-align: right;\">                                 1</td><td style=\"text-align: right;\">                              0.8</td><td style=\"text-align: right;\">                          1e-05</td><td style=\"text-align: right;\">                         1e-05</td></tr>\n",
       "</tbody>\n",
       "</table>"
      ]
     },
     "metadata": {},
     "output_type": "display_data"
    },
    {
     "data": {
      "text/plain": []
     },
     "execution_count": 116,
     "metadata": {},
     "output_type": "execute_result"
    }
   ],
   "source": [
    "gbm_800_df.head(10)"
   ]
  },
  {
   "cell_type": "code",
   "execution_count": 117,
   "metadata": {},
   "outputs": [
    {
     "name": "stdout",
     "output_type": "stream",
     "text": [
      "Model Name string\n",
      "histogram_type_default enum\n",
      "histogram_type_actual enum\n",
      "ntrees_default int\n",
      "ntrees_actual int\n",
      "max_depth_default int\n",
      "max_depth_actual int\n",
      "min_rows_default int\n",
      "min_rows_actual int\n",
      "learn_rate_default real\n",
      "learn_rate_actual real\n",
      "sample_rate_default int\n",
      "sample_rate_actual real\n",
      "col_sample_rate_default int\n",
      "col_sample_rate_actual real\n",
      "col_sample_rate_per_tree_default int\n",
      "col_sample_rate_per_tree_actual real\n",
      "min_split_improvement_default real\n",
      "min_split_improvement_actual real\n"
     ]
    }
   ],
   "source": [
    "ranges = []\n",
    "for key,val in gbm_800_df.types.items():\n",
    "   print(key,val)\n",
    "   if val == 'int':\n",
    "        ranges.append([key,[gbm_800_df[key].min(),gbm_800_df[key].max()]])\n",
    "   if val == 'real':\n",
    "        ranges.append([key,[gbm_800_df[key].min(),gbm_800_df[key].max()]])"
   ]
  },
  {
   "cell_type": "code",
   "execution_count": 118,
   "metadata": {
    "scrolled": true
   },
   "outputs": [
    {
     "data": {
      "text/plain": [
       "[['ntrees_default', [50.0, 50.0]],\n",
       " ['ntrees_actual', [24.0, 24.0]],\n",
       " ['max_depth_default', [5.0, 5.0]],\n",
       " ['max_depth_actual', [15.0, 15.0]],\n",
       " ['min_rows_default', [10.0, 10.0]],\n",
       " ['min_rows_actual', [100.0, 100.0]],\n",
       " ['learn_rate_default', [0.1, 0.1]],\n",
       " ['learn_rate_actual', [0.1, 0.1]],\n",
       " ['sample_rate_default', [1.0, 1.0]],\n",
       " ['sample_rate_actual', [0.8, 0.8]],\n",
       " ['col_sample_rate_default', [1.0, 1.0]],\n",
       " ['col_sample_rate_actual', [0.8, 0.8]],\n",
       " ['col_sample_rate_per_tree_default', [1.0, 1.0]],\n",
       " ['col_sample_rate_per_tree_actual', [0.8, 0.8]],\n",
       " ['min_split_improvement_default', [1e-05, 1e-05]],\n",
       " ['min_split_improvement_actual', [1e-05, 1e-05]]]"
      ]
     },
     "execution_count": 118,
     "metadata": {},
     "output_type": "execute_result"
    }
   ],
   "source": [
    "ranges"
   ]
  },
  {
   "cell_type": "code",
   "execution_count": 119,
   "metadata": {},
   "outputs": [
    {
     "name": "stdout",
     "output_type": "stream",
     "text": [
      "Parse progress: |█████████████████████████████████████████████████████████| 100%\n"
     ]
    }
   ],
   "source": [
    "drf_800_df = h2o.import_file(\"Kj2dExOOv_hy_parameter_800_DRF.csv\")"
   ]
  },
  {
   "cell_type": "code",
   "execution_count": 120,
   "metadata": {
    "scrolled": false
   },
   "outputs": [
    {
     "data": {
      "text/html": [
       "<table>\n",
       "<thead>\n",
       "<tr><th>Model Name                  </th><th style=\"text-align: right;\">  mtries_default</th><th style=\"text-align: right;\">  mtries_actual</th><th>categorical_encoding_default  </th><th>categorical_encoding_actual  </th></tr>\n",
       "</thead>\n",
       "<tbody>\n",
       "<tr><td>DRF_1_AutoML_20190426_094131</td><td style=\"text-align: right;\">              -1</td><td style=\"text-align: right;\">             -1</td><td>AUTO                          </td><td>AUTO                         </td></tr>\n",
       "</tbody>\n",
       "</table>"
      ]
     },
     "metadata": {},
     "output_type": "display_data"
    },
    {
     "data": {
      "text/plain": []
     },
     "execution_count": 120,
     "metadata": {},
     "output_type": "execute_result"
    }
   ],
   "source": [
    "drf_800_df.head(10)"
   ]
  },
  {
   "cell_type": "code",
   "execution_count": 121,
   "metadata": {},
   "outputs": [
    {
     "name": "stdout",
     "output_type": "stream",
     "text": [
      "Model Name enum\n",
      "mtries_default int\n",
      "mtries_actual int\n",
      "categorical_encoding_default enum\n",
      "categorical_encoding_actual enum\n"
     ]
    }
   ],
   "source": [
    "ranges = []\n",
    "for key,val in drf_800_df.types.items():\n",
    "   print(key,val)\n",
    "   if val == 'int':\n",
    "        ranges.append([key,[drf_800_df[key].min(),drf_800_df[key].max()]])\n",
    "   if val == 'real':\n",
    "        ranges.append([key,[drf_800_df[key].min(),drf_800_df[key].max()]])"
   ]
  },
  {
   "cell_type": "code",
   "execution_count": 122,
   "metadata": {
    "scrolled": false
   },
   "outputs": [
    {
     "data": {
      "text/plain": [
       "[['mtries_default', [-1.0, -1.0]], ['mtries_actual', [-1.0, -1.0]]]"
      ]
     },
     "execution_count": 122,
     "metadata": {},
     "output_type": "execute_result"
    }
   ],
   "source": [
    "ranges"
   ]
  },
  {
   "cell_type": "markdown",
   "metadata": {},
   "source": [
    "## Getting range for GBM model for 1500 seconds iteration"
   ]
  },
  {
   "cell_type": "code",
   "execution_count": 123,
   "metadata": {},
   "outputs": [
    {
     "name": "stdout",
     "output_type": "stream",
     "text": [
      "Parse progress: |█████████████████████████████████████████████████████████| 100%\n"
     ]
    }
   ],
   "source": [
    "gbm_1500_df = h2o.import_file(\"Kj2dExOOv_hy_parameter_1500_GBM.csv\")\n"
   ]
  },
  {
   "cell_type": "code",
   "execution_count": 124,
   "metadata": {
    "scrolled": true
   },
   "outputs": [
    {
     "data": {
      "text/html": [
       "<table>\n",
       "<thead>\n",
       "<tr><th>Model Name                  </th><th>histogram_type_default  </th><th>histogram_type_actual  </th><th style=\"text-align: right;\">  ntrees_default</th><th style=\"text-align: right;\">  ntrees_actual</th><th style=\"text-align: right;\">  max_depth_default</th><th style=\"text-align: right;\">  max_depth_actual</th><th style=\"text-align: right;\">  min_rows_default</th><th style=\"text-align: right;\">  min_rows_actual</th><th style=\"text-align: right;\">  learn_rate_default</th><th style=\"text-align: right;\">  learn_rate_actual</th><th style=\"text-align: right;\">  sample_rate_default</th><th style=\"text-align: right;\">  sample_rate_actual</th><th style=\"text-align: right;\">  col_sample_rate_default</th><th style=\"text-align: right;\">  col_sample_rate_actual</th><th style=\"text-align: right;\">  col_sample_rate_per_tree_default</th><th style=\"text-align: right;\">  col_sample_rate_per_tree_actual</th><th style=\"text-align: right;\">  min_split_improvement_default</th><th style=\"text-align: right;\">  min_split_improvement_actual</th></tr>\n",
       "</thead>\n",
       "<tbody>\n",
       "<tr><td>GBM_3_AutoML_20190426_094131</td><td>AUTO                    </td><td>AUTO                   </td><td style=\"text-align: right;\">              50</td><td style=\"text-align: right;\">             24</td><td style=\"text-align: right;\">                  5</td><td style=\"text-align: right;\">                15</td><td style=\"text-align: right;\">                10</td><td style=\"text-align: right;\">              100</td><td style=\"text-align: right;\">                 0.1</td><td style=\"text-align: right;\">                0.1</td><td style=\"text-align: right;\">                    1</td><td style=\"text-align: right;\">                 0.8</td><td style=\"text-align: right;\">                        1</td><td style=\"text-align: right;\">                     0.8</td><td style=\"text-align: right;\">                                 1</td><td style=\"text-align: right;\">                              0.8</td><td style=\"text-align: right;\">                          1e-05</td><td style=\"text-align: right;\">                         1e-05</td></tr>\n",
       "<tr><td>GBM_2_AutoML_20190426_094131</td><td>AUTO                    </td><td>AUTO                   </td><td style=\"text-align: right;\">              50</td><td style=\"text-align: right;\">             24</td><td style=\"text-align: right;\">                  5</td><td style=\"text-align: right;\">                15</td><td style=\"text-align: right;\">                10</td><td style=\"text-align: right;\">              100</td><td style=\"text-align: right;\">                 0.1</td><td style=\"text-align: right;\">                0.1</td><td style=\"text-align: right;\">                    1</td><td style=\"text-align: right;\">                 0.8</td><td style=\"text-align: right;\">                        1</td><td style=\"text-align: right;\">                     0.8</td><td style=\"text-align: right;\">                                 1</td><td style=\"text-align: right;\">                              0.8</td><td style=\"text-align: right;\">                          1e-05</td><td style=\"text-align: right;\">                         1e-05</td></tr>\n",
       "<tr><td>GBM_1_AutoML_20190426_094131</td><td>AUTO                    </td><td>AUTO                   </td><td style=\"text-align: right;\">              50</td><td style=\"text-align: right;\">             24</td><td style=\"text-align: right;\">                  5</td><td style=\"text-align: right;\">                15</td><td style=\"text-align: right;\">                10</td><td style=\"text-align: right;\">              100</td><td style=\"text-align: right;\">                 0.1</td><td style=\"text-align: right;\">                0.1</td><td style=\"text-align: right;\">                    1</td><td style=\"text-align: right;\">                 0.8</td><td style=\"text-align: right;\">                        1</td><td style=\"text-align: right;\">                     0.8</td><td style=\"text-align: right;\">                                 1</td><td style=\"text-align: right;\">                              0.8</td><td style=\"text-align: right;\">                          1e-05</td><td style=\"text-align: right;\">                         1e-05</td></tr>\n",
       "<tr><td>GBM_4_AutoML_20190426_094131</td><td>AUTO                    </td><td>AUTO                   </td><td style=\"text-align: right;\">              50</td><td style=\"text-align: right;\">             24</td><td style=\"text-align: right;\">                  5</td><td style=\"text-align: right;\">                15</td><td style=\"text-align: right;\">                10</td><td style=\"text-align: right;\">              100</td><td style=\"text-align: right;\">                 0.1</td><td style=\"text-align: right;\">                0.1</td><td style=\"text-align: right;\">                    1</td><td style=\"text-align: right;\">                 0.8</td><td style=\"text-align: right;\">                        1</td><td style=\"text-align: right;\">                     0.8</td><td style=\"text-align: right;\">                                 1</td><td style=\"text-align: right;\">                              0.8</td><td style=\"text-align: right;\">                          1e-05</td><td style=\"text-align: right;\">                         1e-05</td></tr>\n",
       "</tbody>\n",
       "</table>"
      ]
     },
     "metadata": {},
     "output_type": "display_data"
    },
    {
     "data": {
      "text/plain": []
     },
     "execution_count": 124,
     "metadata": {},
     "output_type": "execute_result"
    }
   ],
   "source": [
    "gbm_1500_df.head(10)"
   ]
  },
  {
   "cell_type": "code",
   "execution_count": 125,
   "metadata": {},
   "outputs": [
    {
     "name": "stdout",
     "output_type": "stream",
     "text": [
      "Model Name string\n",
      "histogram_type_default enum\n",
      "histogram_type_actual enum\n",
      "ntrees_default int\n",
      "ntrees_actual int\n",
      "max_depth_default int\n",
      "max_depth_actual int\n",
      "min_rows_default int\n",
      "min_rows_actual int\n",
      "learn_rate_default real\n",
      "learn_rate_actual real\n",
      "sample_rate_default int\n",
      "sample_rate_actual real\n",
      "col_sample_rate_default int\n",
      "col_sample_rate_actual real\n",
      "col_sample_rate_per_tree_default int\n",
      "col_sample_rate_per_tree_actual real\n",
      "min_split_improvement_default real\n",
      "min_split_improvement_actual real\n"
     ]
    }
   ],
   "source": [
    "ranges = []\n",
    "for key,val in gbm_1500_df.types.items():\n",
    "   print(key,val)\n",
    "   if val == 'int':\n",
    "        ranges.append([key,[gbm_1500_df[key].min(),gbm_1500_df[key].max()]])\n",
    "   if val == 'real':\n",
    "        ranges.append([key,[gbm_1500_df[key].min(),gbm_1500_df[key].max()]])"
   ]
  },
  {
   "cell_type": "code",
   "execution_count": 126,
   "metadata": {
    "scrolled": true
   },
   "outputs": [
    {
     "data": {
      "text/plain": [
       "[['ntrees_default', [50.0, 50.0]],\n",
       " ['ntrees_actual', [24.0, 24.0]],\n",
       " ['max_depth_default', [5.0, 5.0]],\n",
       " ['max_depth_actual', [15.0, 15.0]],\n",
       " ['min_rows_default', [10.0, 10.0]],\n",
       " ['min_rows_actual', [100.0, 100.0]],\n",
       " ['learn_rate_default', [0.1, 0.1]],\n",
       " ['learn_rate_actual', [0.1, 0.1]],\n",
       " ['sample_rate_default', [1.0, 1.0]],\n",
       " ['sample_rate_actual', [0.8, 0.8]],\n",
       " ['col_sample_rate_default', [1.0, 1.0]],\n",
       " ['col_sample_rate_actual', [0.8, 0.8]],\n",
       " ['col_sample_rate_per_tree_default', [1.0, 1.0]],\n",
       " ['col_sample_rate_per_tree_actual', [0.8, 0.8]],\n",
       " ['min_split_improvement_default', [1e-05, 1e-05]],\n",
       " ['min_split_improvement_actual', [1e-05, 1e-05]]]"
      ]
     },
     "execution_count": 126,
     "metadata": {},
     "output_type": "execute_result"
    }
   ],
   "source": [
    "ranges"
   ]
  },
  {
   "cell_type": "markdown",
   "metadata": {},
   "source": [
    "## Getting range for GLM and DL model for 1500 seconds iteration"
   ]
  },
  {
   "cell_type": "code",
   "execution_count": 127,
   "metadata": {
    "scrolled": true
   },
   "outputs": [
    {
     "name": "stdout",
     "output_type": "stream",
     "text": [
      "Parse progress: |█████████████████████████████████████████████████████████| 100%\n"
     ]
    }
   ],
   "source": [
    "glm_2000_df = h2o.import_file(\"Kj2dExOOv_hy_parameter_2000_GLM.csv\")\n"
   ]
  },
  {
   "cell_type": "code",
   "execution_count": 128,
   "metadata": {
    "scrolled": false
   },
   "outputs": [
    {
     "data": {
      "text/html": [
       "<table>\n",
       "<thead>\n",
       "<tr><th>Model Name                               </th><th>alpha_default  </th><th>alpha_actual  </th><th style=\"text-align: right;\">  missing_values_handling_default</th><th style=\"text-align: right;\">  missing_values_handling_actual</th><th style=\"text-align: right;\">  C6</th><th style=\"text-align: right;\">  C7</th><th>C8  </th><th>C9            </th><th>C10           </th></tr>\n",
       "</thead>\n",
       "<tbody>\n",
       "<tr><td>GLM_grid_1_AutoML_20190426_094131_model_1</td><td>None           </td><td>[0.0          </td><td style=\"text-align: right;\">                              0.2</td><td style=\"text-align: right;\">                             0.4</td><td style=\"text-align: right;\"> 0.6</td><td style=\"text-align: right;\"> 0.8</td><td>1.0]</td><td>MeanImputation</td><td>MeanImputation</td></tr>\n",
       "<tr><td>GLM_grid_1_AutoML_20190426_102040_model_1</td><td>None           </td><td>[0.0          </td><td style=\"text-align: right;\">                              0.2</td><td style=\"text-align: right;\">                             0.4</td><td style=\"text-align: right;\"> 0.6</td><td style=\"text-align: right;\"> 0.8</td><td>1.0]</td><td>MeanImputation</td><td>MeanImputation</td></tr>\n",
       "<tr><td>GLM_grid_1_AutoML_20190426_095533_model_1</td><td>None           </td><td>[0.0          </td><td style=\"text-align: right;\">                              0.2</td><td style=\"text-align: right;\">                             0.4</td><td style=\"text-align: right;\"> 0.6</td><td style=\"text-align: right;\"> 0.8</td><td>1.0]</td><td>MeanImputation</td><td>MeanImputation</td></tr>\n",
       "</tbody>\n",
       "</table>"
      ]
     },
     "metadata": {},
     "output_type": "display_data"
    },
    {
     "data": {
      "text/plain": []
     },
     "execution_count": 128,
     "metadata": {},
     "output_type": "execute_result"
    }
   ],
   "source": [
    "glm_2000_df.head(10)"
   ]
  },
  {
   "cell_type": "code",
   "execution_count": 170,
   "metadata": {},
   "outputs": [
    {
     "name": "stdout",
     "output_type": "stream",
     "text": [
      "Model Name string\n",
      "alpha_default enum\n",
      "alpha_actual enum\n",
      "missing_values_handling_default real\n",
      "missing_values_handling_actual real\n",
      "C6 real\n",
      "C7 real\n",
      "C8 enum\n",
      "C9 enum\n",
      "C10 enum\n"
     ]
    }
   ],
   "source": [
    "ranges = []\n",
    "for key,val in glm_2000_df.types.items():\n",
    "   print(key,val)\n",
    "   if val == 'int':\n",
    "        ranges.append([key,[glm_2000_df[key].min(),glm_2000_df[key].max()]])\n",
    "   if val == 'real':\n",
    "        ranges.append([key,[glm_2000_df[key].min(),glm_2000_df[key].max()]])"
   ]
  },
  {
   "cell_type": "code",
   "execution_count": 130,
   "metadata": {
    "scrolled": false
   },
   "outputs": [
    {
     "data": {
      "text/plain": [
       "[['missing_values_handling_default', [0.2, 0.2]],\n",
       " ['missing_values_handling_actual', [0.4, 0.4]],\n",
       " ['C6', [0.6, 0.6]],\n",
       " ['C7', [0.8, 0.8]]]"
      ]
     },
     "execution_count": 130,
     "metadata": {},
     "output_type": "execute_result"
    }
   ],
   "source": [
    "ranges"
   ]
  },
  {
   "cell_type": "code",
   "execution_count": 131,
   "metadata": {
    "scrolled": true
   },
   "outputs": [
    {
     "name": "stdout",
     "output_type": "stream",
     "text": [
      "Parse progress: |█████████████████████████████████████████████████████████| 100%\n"
     ]
    }
   ],
   "source": [
    "dl_2000_df = h2o.import_file(\"Kj2dExOOv_hy_parameter_2000_DeepLearning.csv\")\n"
   ]
  },
  {
   "cell_type": "code",
   "execution_count": 132,
   "metadata": {
    "scrolled": false
   },
   "outputs": [
    {
     "data": {
      "text/html": [
       "<table>\n",
       "<thead>\n",
       "<tr><th>Model Name                                        </th><th style=\"text-align: right;\">  epochs_default</th><th style=\"text-align: right;\">  epochs_actual</th><th>activation_default  </th><th>activation_actual   </th><th style=\"text-align: right;\">  rho_default</th><th style=\"text-align: right;\">  rho_actual</th><th style=\"text-align: right;\">  epsilon_default</th><th style=\"text-align: right;\">  epsilon_actual</th><th style=\"text-align: right;\">  input_dropout_ratio_default</th><th style=\"text-align: right;\">  input_dropout_ratio_actual</th><th>hidden_default  </th><th>hidden_actual  </th><th>hidden_dropout_ratios_default  </th><th style=\"text-align: right;\">  hidden_dropout_ratios_actual</th><th>C16  </th><th>C17  </th><th>C18  </th></tr>\n",
       "</thead>\n",
       "<tbody>\n",
       "<tr><td>DeepLearning_1_AutoML_20190426_102040             </td><td style=\"text-align: right;\">              10</td><td style=\"text-align: right;\">     10.0084   </td><td>Rectifier           </td><td>Rectifier           </td><td style=\"text-align: right;\">         0.99</td><td style=\"text-align: right;\">        0.99</td><td style=\"text-align: right;\">            1e-08</td><td style=\"text-align: right;\">           1e-08</td><td style=\"text-align: right;\">                            0</td><td style=\"text-align: right;\">                        0   </td><td>[200            </td><td>200]           </td><td>[10                            </td><td style=\"text-align: right;\">                            10</td><td>10]  </td><td>None </td><td>None </td></tr>\n",
       "<tr><td>DeepLearning_1_AutoML_20190426_095533             </td><td style=\"text-align: right;\">              10</td><td style=\"text-align: right;\">     10.0105   </td><td>Rectifier           </td><td>Rectifier           </td><td style=\"text-align: right;\">         0.99</td><td style=\"text-align: right;\">        0.99</td><td style=\"text-align: right;\">            1e-08</td><td style=\"text-align: right;\">           1e-08</td><td style=\"text-align: right;\">                            0</td><td style=\"text-align: right;\">                        0   </td><td>[200            </td><td>200]           </td><td>[10                            </td><td style=\"text-align: right;\">                            10</td><td>10]  </td><td>None </td><td>None </td></tr>\n",
       "<tr><td>DeepLearning_grid_1_AutoML_20190426_102040_model_1</td><td style=\"text-align: right;\">              10</td><td style=\"text-align: right;\">      2.61909  </td><td>Rectifier           </td><td>RectifierWithDropout</td><td style=\"text-align: right;\">         0.99</td><td style=\"text-align: right;\">        0.9 </td><td style=\"text-align: right;\">            1e-08</td><td style=\"text-align: right;\">           1e-07</td><td style=\"text-align: right;\">                            0</td><td style=\"text-align: right;\">                        0   </td><td>[200            </td><td>200]           </td><td>[50]                           </td><td style=\"text-align: right;\">                           nan</td><td>[0.4]</td><td>     </td><td>     </td></tr>\n",
       "<tr><td>DeepLearning_grid_1_AutoML_20190426_102040_model_2</td><td style=\"text-align: right;\">              10</td><td style=\"text-align: right;\">      0.0685255</td><td>Rectifier           </td><td>RectifierWithDropout</td><td style=\"text-align: right;\">         0.99</td><td style=\"text-align: right;\">        0.99</td><td style=\"text-align: right;\">            1e-08</td><td style=\"text-align: right;\">           1e-06</td><td style=\"text-align: right;\">                            0</td><td style=\"text-align: right;\">                        0.05</td><td>[200            </td><td>200]           </td><td>[200]                          </td><td style=\"text-align: right;\">                           nan</td><td>[0.5]</td><td>     </td><td>     </td></tr>\n",
       "<tr><td>DeepLearning_grid_1_AutoML_20190426_102040_model_3</td><td style=\"text-align: right;\">              10</td><td style=\"text-align: right;\">      1.89373  </td><td>Rectifier           </td><td>RectifierWithDropout</td><td style=\"text-align: right;\">         0.99</td><td style=\"text-align: right;\">        0.95</td><td style=\"text-align: right;\">            1e-08</td><td style=\"text-align: right;\">           1e-06</td><td style=\"text-align: right;\">                            0</td><td style=\"text-align: right;\">                        0.05</td><td>[200            </td><td>200]           </td><td>[50                            </td><td style=\"text-align: right;\">                           nan</td><td>None </td><td>[0.3 </td><td>0.3] </td></tr>\n",
       "<tr><td>DeepLearning_grid_1_AutoML_20190426_102040_model_4</td><td style=\"text-align: right;\">              10</td><td style=\"text-align: right;\">      1.78277  </td><td>Rectifier           </td><td>RectifierWithDropout</td><td style=\"text-align: right;\">         0.99</td><td style=\"text-align: right;\">        0.95</td><td style=\"text-align: right;\">            1e-08</td><td style=\"text-align: right;\">           1e-06</td><td style=\"text-align: right;\">                            0</td><td style=\"text-align: right;\">                        0   </td><td>[200            </td><td>200]           </td><td>[50                            </td><td style=\"text-align: right;\">                            50</td><td>50]  </td><td>None </td><td>[0.1 </td></tr>\n",
       "</tbody>\n",
       "</table>"
      ]
     },
     "metadata": {},
     "output_type": "display_data"
    },
    {
     "data": {
      "text/plain": []
     },
     "execution_count": 132,
     "metadata": {},
     "output_type": "execute_result"
    }
   ],
   "source": [
    "dl_2000_df.head(10)"
   ]
  },
  {
   "cell_type": "code",
   "execution_count": 133,
   "metadata": {},
   "outputs": [
    {
     "name": "stdout",
     "output_type": "stream",
     "text": [
      "Model Name string\n",
      "epochs_default int\n",
      "epochs_actual real\n",
      "activation_default enum\n",
      "activation_actual enum\n",
      "rho_default real\n",
      "rho_actual real\n",
      "epsilon_default real\n",
      "epsilon_actual real\n",
      "input_dropout_ratio_default int\n",
      "input_dropout_ratio_actual real\n",
      "hidden_default enum\n",
      "hidden_actual enum\n",
      "hidden_dropout_ratios_default enum\n",
      "hidden_dropout_ratios_actual int\n",
      "C16 enum\n",
      "C17 enum\n",
      "C18 enum\n"
     ]
    }
   ],
   "source": [
    "ranges = []\n",
    "for key,val in dl_2000_df.types.items():\n",
    "   print(key,val)\n",
    "   if val == 'int':\n",
    "        ranges.append([key,[dl_2000_df[key].min(),dl_2000_df[key].max()]])\n",
    "   if val == 'real':\n",
    "        ranges.append([key,[dl_2000_df[key].min(),dl_2000_df[key].max()]])"
   ]
  },
  {
   "cell_type": "code",
   "execution_count": 134,
   "metadata": {
    "scrolled": false
   },
   "outputs": [
    {
     "data": {
      "text/plain": [
       "[['epochs_default', [10.0, 10.0]],\n",
       " ['epochs_actual', [0.06852547578566337, 10.01047225497724]],\n",
       " ['rho_default', [0.99, 0.99]],\n",
       " ['rho_actual', [0.9, 0.99]],\n",
       " ['epsilon_default', [1e-08, 1e-08]],\n",
       " ['epsilon_actual', [1e-08, 1e-06]],\n",
       " ['input_dropout_ratio_default', [0.0, 0.0]],\n",
       " ['input_dropout_ratio_actual', [0.0, 0.05]],\n",
       " ['hidden_dropout_ratios_actual', [nan, nan]]]"
      ]
     },
     "execution_count": 134,
     "metadata": {},
     "output_type": "execute_result"
    }
   ],
   "source": [
    "ranges"
   ]
  },
  {
   "cell_type": "markdown",
   "metadata": {},
   "source": [
    "# CITATIONS"
   ]
  },
  {
   "cell_type": "markdown",
   "metadata": {},
   "source": [
    "1. https://www.kaggle.com/c/nyc-taxi-trip-duration/overview\n",
    "2. https://github.com/nikbearbrown/INFO_6105\n",
    "3. https://www.kaggle.com/c/nyc-taxi-trip-duration/kernels\n",
    "4. https://github.com/prabhuSub/Hyperparamter-Samples"
   ]
  },
  {
   "cell_type": "markdown",
   "metadata": {},
   "source": [
    "# CONCLUSION"
   ]
  },
  {
   "cell_type": "markdown",
   "metadata": {},
   "source": [
    "- We have successfully created a dataset of the best hyperparameters for the NYC taxi Trip duration: Advanced Regression Techniques Dataset.\n",
    "\n",
    "- In data cleaning, dropped the columns with no values. Ran H2OAutoML for different runtimes and generated Hyperparameters.json file, metadata.json file and leaderboard.csv for different runtimes. Each Algorithm used to generate different models at different runtimes have common hyperparameters. Following Analysis has been done on the generated files in the separate notebook(Analysis.ipynb).\n",
    "\n",
    "- Trying to find the important hyperparameters\n",
    "- Trying to find the range of hyperparameters\n",
    "- Compare the range of values across the models for different hyperparameters"
   ]
  },
  {
   "cell_type": "markdown",
   "metadata": {},
   "source": [
    "# CONTRIBUTION\n",
    "\n",
    "- percentage ratio - 80: 20\n",
    "\n",
    "- Self - 80%\n",
    "\n",
    "- External - 20%"
   ]
  },
  {
   "cell_type": "markdown",
   "metadata": {},
   "source": [
    "# LICENSE"
   ]
  },
  {
   "cell_type": "markdown",
   "metadata": {},
   "source": [
    "Copyright 2019 APURVA SALVI, HARISH KADWE, AESHA SHAH\n",
    "\n",
    "Permission is hereby granted, free of charge, to any person obtaining a copy of this software and associated documentation files (the \"Software\"), to deal in the Software without restriction, including without limitation the rights to use, copy, modify, merge, publish, distribute, sublicense, and/or sell copies of the Software, and to permit persons to whom the Software is furnished to do so, subject to the following conditions:\n",
    "\n",
    "The above copyright notice and this permission notice shall be included in all copies or substantial portions of the Software.\n",
    "\n",
    "THE SOFTWARE IS PROVIDED \"AS IS\", WITHOUT WARRANTY OF ANY KIND, EXPRESS OR IMPLIED, INCLUDING BUT NOT LIMITED TO THE WARRANTIES OF MERCHANTABILITY, FITNESS FOR A PARTICULAR PURPOSE AND NONINFRINGEMENT. IN NO EVENT SHALL THE AUTHORS OR COPYRIGHT HOLDERS BE LIABLE FOR ANY CLAIM, DAMAGES OR OTHER LIABILITY, WHETHER IN AN ACTION OF CONTRACT, TORT OR OTHERWISE, ARISING FROM, OUT OF OR IN CONNECTION WITH THE SOFTWARE OR THE USE OR OTHER DEALINGS IN THE SOFTWARE"
   ]
  }
 ],
 "metadata": {
  "kernelspec": {
   "display_name": "Python 3",
   "language": "python",
   "name": "python3"
  },
  "language_info": {
   "codemirror_mode": {
    "name": "ipython",
    "version": 3
   },
   "file_extension": ".py",
   "mimetype": "text/x-python",
   "name": "python",
   "nbconvert_exporter": "python",
   "pygments_lexer": "ipython3",
   "version": "3.7.0"
  }
 },
 "nbformat": 4,
 "nbformat_minor": 2
}
